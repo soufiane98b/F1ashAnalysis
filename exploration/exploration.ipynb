{
 "cells": [
  {
   "cell_type": "code",
   "execution_count": 2,
   "metadata": {},
   "outputs": [],
   "source": [
    "import fastf1 as ff1\n",
    "import pandas as pd\n",
    "import seaborn as sns\n",
    "import matplotlib.pyplot as plt\n",
    "import plotly.graph_objects as go\n",
    "ff1.Cache.enable_cache('cache')\n",
    "import numpy as np\n"
   ]
  },
  {
   "cell_type": "code",
   "execution_count": 3,
   "metadata": {},
   "outputs": [
    {
     "name": "stderr",
     "output_type": "stream",
     "text": [
      "core           INFO \tLoading data for Japanese Grand Prix - Race [v3.1.2]\n",
      "req            INFO \tNo cached data found for session_info. Loading data...\n",
      "_api           INFO \tFetching session info data...\n",
      "req            INFO \tData has been written to cache!\n",
      "req            INFO \tNo cached data found for driver_info. Loading data...\n",
      "_api           INFO \tFetching driver list...\n",
      "req            INFO \tData has been written to cache!\n",
      "core        WARNING \tNo result data for this session available on Ergast! (This is expected for recent sessions)\n",
      "req            INFO \tNo cached data found for session_status_data. Loading data...\n",
      "_api           INFO \tFetching session status data...\n",
      "req            INFO \tData has been written to cache!\n",
      "req            INFO \tNo cached data found for lap_count. Loading data...\n",
      "_api           INFO \tFetching lap count data...\n",
      "req            INFO \tData has been written to cache!\n",
      "req            INFO \tNo cached data found for track_status_data. Loading data...\n",
      "_api           INFO \tFetching track status data...\n",
      "req            INFO \tData has been written to cache!\n",
      "req            INFO \tNo cached data found for _extended_timing_data. Loading data...\n",
      "_api           INFO \tFetching timing data...\n",
      "_api           INFO \tParsing timing data...\n",
      "req            INFO \tData has been written to cache!\n",
      "req            INFO \tNo cached data found for timing_app_data. Loading data...\n",
      "_api           INFO \tFetching timing app data...\n",
      "req            INFO \tData has been written to cache!\n",
      "core           INFO \tProcessing timing data...\n",
      "core        WARNING \tCannot load lap times for first lap from Ergast. Timing data is not available for this session.\n",
      "req            INFO \tNo cached data found for car_data. Loading data...\n",
      "_api           INFO \tFetching car data...\n",
      "_api           INFO \tParsing car data...\n",
      "req            INFO \tData has been written to cache!\n",
      "req            INFO \tNo cached data found for position_data. Loading data...\n",
      "_api           INFO \tFetching position data...\n",
      "_api           INFO \tParsing position data...\n",
      "_api        WARNING \tDriver 241: Position data is incomplete!\n",
      "_api        WARNING \tDriver 242: Position data is incomplete!\n",
      "_api        WARNING \tDriver 243: Position data is incomplete!\n",
      "req            INFO \tData has been written to cache!\n",
      "req            INFO \tNo cached data found for weather_data. Loading data...\n",
      "_api           INFO \tFetching weather data...\n",
      "req            INFO \tData has been written to cache!\n",
      "req            INFO \tNo cached data found for race_control_messages. Loading data...\n",
      "_api           INFO \tFetching race control messages...\n",
      "req            INFO \tData has been written to cache!\n",
      "core           INFO \tFinished loading data for 20 drivers: ['1', '81', '4', '16', '11', '55', '44', '63', '22', '14', '40', '10', '23', '31', '20', '77', '18', '27', '24', '2']\n"
     ]
    }
   ],
   "source": [
    "session = ff1.get_session(2023, 'Suzuka', 'R')\n",
    "session.load()"
   ]
  },
  {
   "cell_type": "code",
   "execution_count": 196,
   "metadata": {},
   "outputs": [
    {
     "data": {
      "text/plain": [
       "Stint\n",
       "1.0     1.0\n",
       "2.0     2.0\n",
       "3.0    29.0\n",
       "Name: LapNumber, dtype: float64"
      ]
     },
     "execution_count": 196,
     "metadata": {},
     "output_type": "execute_result"
    }
   ],
   "source": [
    "session.laps.base_class_view.groupby(['Driver','Stint'])['LapNumber'].min()['OCO']"
   ]
  },
  {
   "cell_type": "code",
   "execution_count": 194,
   "metadata": {},
   "outputs": [
    {
     "data": {
      "text/plain": [
       "Stint\n",
       "1.0     1.0\n",
       "2.0    18.0\n",
       "3.0    37.0\n",
       "Name: LapNumber, dtype: float64"
      ]
     },
     "execution_count": 194,
     "metadata": {},
     "output_type": "execute_result"
    }
   ],
   "source": [
    "session.laps.base_class_view.groupby(['Driver','Stint'])['LapNumber'].min()['NOR']"
   ]
  },
  {
   "cell_type": "code",
   "execution_count": 197,
   "metadata": {},
   "outputs": [
    {
     "data": {
      "text/html": [
       "<div>\n",
       "<style scoped>\n",
       "    .dataframe tbody tr th:only-of-type {\n",
       "        vertical-align: middle;\n",
       "    }\n",
       "\n",
       "    .dataframe tbody tr th {\n",
       "        vertical-align: top;\n",
       "    }\n",
       "\n",
       "    .dataframe thead th {\n",
       "        text-align: right;\n",
       "    }\n",
       "</style>\n",
       "<table border=\"1\" class=\"dataframe\">\n",
       "  <thead>\n",
       "    <tr style=\"text-align: right;\">\n",
       "      <th></th>\n",
       "      <th>Time</th>\n",
       "      <th>Driver</th>\n",
       "      <th>DriverNumber</th>\n",
       "      <th>LapTime</th>\n",
       "      <th>LapNumber</th>\n",
       "      <th>Stint</th>\n",
       "      <th>PitOutTime</th>\n",
       "      <th>PitInTime</th>\n",
       "      <th>Sector1Time</th>\n",
       "      <th>Sector2Time</th>\n",
       "      <th>...</th>\n",
       "      <th>FreshTyre</th>\n",
       "      <th>Team</th>\n",
       "      <th>LapStartTime</th>\n",
       "      <th>LapStartDate</th>\n",
       "      <th>TrackStatus</th>\n",
       "      <th>Position</th>\n",
       "      <th>Deleted</th>\n",
       "      <th>DeletedReason</th>\n",
       "      <th>FastF1Generated</th>\n",
       "      <th>IsAccurate</th>\n",
       "    </tr>\n",
       "  </thead>\n",
       "  <tbody>\n",
       "    <tr>\n",
       "      <th>0</th>\n",
       "      <td>0 days 01:05:04.326000</td>\n",
       "      <td>VER</td>\n",
       "      <td>1</td>\n",
       "      <td>NaT</td>\n",
       "      <td>1.0</td>\n",
       "      <td>1.0</td>\n",
       "      <td>0 days 00:16:44.659000</td>\n",
       "      <td>NaT</td>\n",
       "      <td>NaT</td>\n",
       "      <td>0 days 00:00:49.276000</td>\n",
       "      <td>...</td>\n",
       "      <td>True</td>\n",
       "      <td>Red Bull Racing</td>\n",
       "      <td>0 days 01:03:03.844000</td>\n",
       "      <td>2023-09-24 05:04:05.253</td>\n",
       "      <td>24</td>\n",
       "      <td>1.0</td>\n",
       "      <td>False</td>\n",
       "      <td></td>\n",
       "      <td>False</td>\n",
       "      <td>False</td>\n",
       "    </tr>\n",
       "    <tr>\n",
       "      <th>1</th>\n",
       "      <td>0 days 01:07:48.688000</td>\n",
       "      <td>VER</td>\n",
       "      <td>1</td>\n",
       "      <td>NaT</td>\n",
       "      <td>2.0</td>\n",
       "      <td>1.0</td>\n",
       "      <td>NaT</td>\n",
       "      <td>NaT</td>\n",
       "      <td>0 days 00:01:05.251000</td>\n",
       "      <td>0 days 00:01:08.600000</td>\n",
       "      <td>...</td>\n",
       "      <td>True</td>\n",
       "      <td>Red Bull Racing</td>\n",
       "      <td>0 days 01:05:04.326000</td>\n",
       "      <td>2023-09-24 05:06:05.735</td>\n",
       "      <td>4</td>\n",
       "      <td>1.0</td>\n",
       "      <td>False</td>\n",
       "      <td></td>\n",
       "      <td>False</td>\n",
       "      <td>False</td>\n",
       "    </tr>\n",
       "    <tr>\n",
       "      <th>2</th>\n",
       "      <td>0 days 01:10:34.016000</td>\n",
       "      <td>VER</td>\n",
       "      <td>1</td>\n",
       "      <td>NaT</td>\n",
       "      <td>3.0</td>\n",
       "      <td>1.0</td>\n",
       "      <td>NaT</td>\n",
       "      <td>NaT</td>\n",
       "      <td>0 days 00:01:08.931000</td>\n",
       "      <td>0 days 00:01:08.363000</td>\n",
       "      <td>...</td>\n",
       "      <td>True</td>\n",
       "      <td>Red Bull Racing</td>\n",
       "      <td>0 days 01:07:48.688000</td>\n",
       "      <td>2023-09-24 05:08:50.097</td>\n",
       "      <td>4</td>\n",
       "      <td>1.0</td>\n",
       "      <td>False</td>\n",
       "      <td></td>\n",
       "      <td>False</td>\n",
       "      <td>False</td>\n",
       "    </tr>\n",
       "    <tr>\n",
       "      <th>3</th>\n",
       "      <td>0 days 01:13:29.674000</td>\n",
       "      <td>VER</td>\n",
       "      <td>1</td>\n",
       "      <td>NaT</td>\n",
       "      <td>4.0</td>\n",
       "      <td>1.0</td>\n",
       "      <td>NaT</td>\n",
       "      <td>NaT</td>\n",
       "      <td>0 days 00:01:00.867000</td>\n",
       "      <td>0 days 00:01:06.499000</td>\n",
       "      <td>...</td>\n",
       "      <td>True</td>\n",
       "      <td>Red Bull Racing</td>\n",
       "      <td>0 days 01:10:34.016000</td>\n",
       "      <td>2023-09-24 05:11:35.425</td>\n",
       "      <td>4</td>\n",
       "      <td>1.0</td>\n",
       "      <td>False</td>\n",
       "      <td></td>\n",
       "      <td>False</td>\n",
       "      <td>False</td>\n",
       "    </tr>\n",
       "    <tr>\n",
       "      <th>4</th>\n",
       "      <td>0 days 01:15:06.422000</td>\n",
       "      <td>VER</td>\n",
       "      <td>1</td>\n",
       "      <td>0 days 00:01:36.748000</td>\n",
       "      <td>5.0</td>\n",
       "      <td>1.0</td>\n",
       "      <td>NaT</td>\n",
       "      <td>NaT</td>\n",
       "      <td>0 days 00:00:34.900000</td>\n",
       "      <td>0 days 00:00:42.960000</td>\n",
       "      <td>...</td>\n",
       "      <td>True</td>\n",
       "      <td>Red Bull Racing</td>\n",
       "      <td>0 days 01:13:29.674000</td>\n",
       "      <td>2023-09-24 05:14:31.083</td>\n",
       "      <td>1</td>\n",
       "      <td>1.0</td>\n",
       "      <td>False</td>\n",
       "      <td></td>\n",
       "      <td>False</td>\n",
       "      <td>False</td>\n",
       "    </tr>\n",
       "    <tr>\n",
       "      <th>...</th>\n",
       "      <td>...</td>\n",
       "      <td>...</td>\n",
       "      <td>...</td>\n",
       "      <td>...</td>\n",
       "      <td>...</td>\n",
       "      <td>...</td>\n",
       "      <td>...</td>\n",
       "      <td>...</td>\n",
       "      <td>...</td>\n",
       "      <td>...</td>\n",
       "      <td>...</td>\n",
       "      <td>...</td>\n",
       "      <td>...</td>\n",
       "      <td>...</td>\n",
       "      <td>...</td>\n",
       "      <td>...</td>\n",
       "      <td>...</td>\n",
       "      <td>...</td>\n",
       "      <td>...</td>\n",
       "      <td>...</td>\n",
       "      <td>...</td>\n",
       "    </tr>\n",
       "    <tr>\n",
       "      <th>875</th>\n",
       "      <td>0 days 01:38:11.659000</td>\n",
       "      <td>SAR</td>\n",
       "      <td>2</td>\n",
       "      <td>0 days 00:01:40.568000</td>\n",
       "      <td>18.0</td>\n",
       "      <td>3.0</td>\n",
       "      <td>NaT</td>\n",
       "      <td>NaT</td>\n",
       "      <td>0 days 00:00:36.475000</td>\n",
       "      <td>0 days 00:00:44.723000</td>\n",
       "      <td>...</td>\n",
       "      <td>True</td>\n",
       "      <td>Williams</td>\n",
       "      <td>0 days 01:36:31.091000</td>\n",
       "      <td>2023-09-24 05:37:32.500</td>\n",
       "      <td>1</td>\n",
       "      <td>18.0</td>\n",
       "      <td>False</td>\n",
       "      <td></td>\n",
       "      <td>False</td>\n",
       "      <td>True</td>\n",
       "    </tr>\n",
       "    <tr>\n",
       "      <th>876</th>\n",
       "      <td>0 days 01:39:52.122000</td>\n",
       "      <td>SAR</td>\n",
       "      <td>2</td>\n",
       "      <td>0 days 00:01:40.463000</td>\n",
       "      <td>19.0</td>\n",
       "      <td>3.0</td>\n",
       "      <td>NaT</td>\n",
       "      <td>NaT</td>\n",
       "      <td>0 days 00:00:36.507000</td>\n",
       "      <td>0 days 00:00:44.784000</td>\n",
       "      <td>...</td>\n",
       "      <td>True</td>\n",
       "      <td>Williams</td>\n",
       "      <td>0 days 01:38:11.659000</td>\n",
       "      <td>2023-09-24 05:39:13.068</td>\n",
       "      <td>1</td>\n",
       "      <td>18.0</td>\n",
       "      <td>False</td>\n",
       "      <td></td>\n",
       "      <td>False</td>\n",
       "      <td>True</td>\n",
       "    </tr>\n",
       "    <tr>\n",
       "      <th>877</th>\n",
       "      <td>0 days 01:41:33.290000</td>\n",
       "      <td>SAR</td>\n",
       "      <td>2</td>\n",
       "      <td>0 days 00:01:41.168000</td>\n",
       "      <td>20.0</td>\n",
       "      <td>3.0</td>\n",
       "      <td>NaT</td>\n",
       "      <td>NaT</td>\n",
       "      <td>0 days 00:00:36.632000</td>\n",
       "      <td>0 days 00:00:44.879000</td>\n",
       "      <td>...</td>\n",
       "      <td>True</td>\n",
       "      <td>Williams</td>\n",
       "      <td>0 days 01:39:52.122000</td>\n",
       "      <td>2023-09-24 05:40:53.531</td>\n",
       "      <td>1</td>\n",
       "      <td>18.0</td>\n",
       "      <td>False</td>\n",
       "      <td></td>\n",
       "      <td>False</td>\n",
       "      <td>True</td>\n",
       "    </tr>\n",
       "    <tr>\n",
       "      <th>878</th>\n",
       "      <td>0 days 01:43:16.661000</td>\n",
       "      <td>SAR</td>\n",
       "      <td>2</td>\n",
       "      <td>0 days 00:01:43.371000</td>\n",
       "      <td>21.0</td>\n",
       "      <td>3.0</td>\n",
       "      <td>NaT</td>\n",
       "      <td>0 days 01:43:15.364000</td>\n",
       "      <td>0 days 00:00:36.434000</td>\n",
       "      <td>0 days 00:00:44.872000</td>\n",
       "      <td>...</td>\n",
       "      <td>True</td>\n",
       "      <td>Williams</td>\n",
       "      <td>0 days 01:41:33.290000</td>\n",
       "      <td>2023-09-24 05:42:34.699</td>\n",
       "      <td>1</td>\n",
       "      <td>17.0</td>\n",
       "      <td>False</td>\n",
       "      <td></td>\n",
       "      <td>False</td>\n",
       "      <td>False</td>\n",
       "    </tr>\n",
       "    <tr>\n",
       "      <th>879</th>\n",
       "      <td>0 days 01:45:33.700000</td>\n",
       "      <td>SAR</td>\n",
       "      <td>2</td>\n",
       "      <td>0 days 00:02:17.039000</td>\n",
       "      <td>22.0</td>\n",
       "      <td>4.0</td>\n",
       "      <td>0 days 01:43:50.457000</td>\n",
       "      <td>0 days 01:45:32.408000</td>\n",
       "      <td>0 days 00:01:09.886000</td>\n",
       "      <td>0 days 00:00:44.312000</td>\n",
       "      <td>...</td>\n",
       "      <td>True</td>\n",
       "      <td>Williams</td>\n",
       "      <td>0 days 01:43:16.661000</td>\n",
       "      <td>2023-09-24 05:44:18.070</td>\n",
       "      <td>1</td>\n",
       "      <td>17.0</td>\n",
       "      <td>False</td>\n",
       "      <td></td>\n",
       "      <td>False</td>\n",
       "      <td>False</td>\n",
       "    </tr>\n",
       "  </tbody>\n",
       "</table>\n",
       "<p>880 rows × 31 columns</p>\n",
       "</div>"
      ],
      "text/plain": [
       "                      Time Driver DriverNumber                LapTime  \\\n",
       "0   0 days 01:05:04.326000    VER            1                    NaT   \n",
       "1   0 days 01:07:48.688000    VER            1                    NaT   \n",
       "2   0 days 01:10:34.016000    VER            1                    NaT   \n",
       "3   0 days 01:13:29.674000    VER            1                    NaT   \n",
       "4   0 days 01:15:06.422000    VER            1 0 days 00:01:36.748000   \n",
       "..                     ...    ...          ...                    ...   \n",
       "875 0 days 01:38:11.659000    SAR            2 0 days 00:01:40.568000   \n",
       "876 0 days 01:39:52.122000    SAR            2 0 days 00:01:40.463000   \n",
       "877 0 days 01:41:33.290000    SAR            2 0 days 00:01:41.168000   \n",
       "878 0 days 01:43:16.661000    SAR            2 0 days 00:01:43.371000   \n",
       "879 0 days 01:45:33.700000    SAR            2 0 days 00:02:17.039000   \n",
       "\n",
       "     LapNumber  Stint             PitOutTime              PitInTime  \\\n",
       "0          1.0    1.0 0 days 00:16:44.659000                    NaT   \n",
       "1          2.0    1.0                    NaT                    NaT   \n",
       "2          3.0    1.0                    NaT                    NaT   \n",
       "3          4.0    1.0                    NaT                    NaT   \n",
       "4          5.0    1.0                    NaT                    NaT   \n",
       "..         ...    ...                    ...                    ...   \n",
       "875       18.0    3.0                    NaT                    NaT   \n",
       "876       19.0    3.0                    NaT                    NaT   \n",
       "877       20.0    3.0                    NaT                    NaT   \n",
       "878       21.0    3.0                    NaT 0 days 01:43:15.364000   \n",
       "879       22.0    4.0 0 days 01:43:50.457000 0 days 01:45:32.408000   \n",
       "\n",
       "               Sector1Time            Sector2Time  ... FreshTyre  \\\n",
       "0                      NaT 0 days 00:00:49.276000  ...      True   \n",
       "1   0 days 00:01:05.251000 0 days 00:01:08.600000  ...      True   \n",
       "2   0 days 00:01:08.931000 0 days 00:01:08.363000  ...      True   \n",
       "3   0 days 00:01:00.867000 0 days 00:01:06.499000  ...      True   \n",
       "4   0 days 00:00:34.900000 0 days 00:00:42.960000  ...      True   \n",
       "..                     ...                    ...  ...       ...   \n",
       "875 0 days 00:00:36.475000 0 days 00:00:44.723000  ...      True   \n",
       "876 0 days 00:00:36.507000 0 days 00:00:44.784000  ...      True   \n",
       "877 0 days 00:00:36.632000 0 days 00:00:44.879000  ...      True   \n",
       "878 0 days 00:00:36.434000 0 days 00:00:44.872000  ...      True   \n",
       "879 0 days 00:01:09.886000 0 days 00:00:44.312000  ...      True   \n",
       "\n",
       "                Team           LapStartTime            LapStartDate  \\\n",
       "0    Red Bull Racing 0 days 01:03:03.844000 2023-09-24 05:04:05.253   \n",
       "1    Red Bull Racing 0 days 01:05:04.326000 2023-09-24 05:06:05.735   \n",
       "2    Red Bull Racing 0 days 01:07:48.688000 2023-09-24 05:08:50.097   \n",
       "3    Red Bull Racing 0 days 01:10:34.016000 2023-09-24 05:11:35.425   \n",
       "4    Red Bull Racing 0 days 01:13:29.674000 2023-09-24 05:14:31.083   \n",
       "..               ...                    ...                     ...   \n",
       "875         Williams 0 days 01:36:31.091000 2023-09-24 05:37:32.500   \n",
       "876         Williams 0 days 01:38:11.659000 2023-09-24 05:39:13.068   \n",
       "877         Williams 0 days 01:39:52.122000 2023-09-24 05:40:53.531   \n",
       "878         Williams 0 days 01:41:33.290000 2023-09-24 05:42:34.699   \n",
       "879         Williams 0 days 01:43:16.661000 2023-09-24 05:44:18.070   \n",
       "\n",
       "     TrackStatus  Position  Deleted  DeletedReason  FastF1Generated IsAccurate  \n",
       "0             24       1.0    False                           False      False  \n",
       "1              4       1.0    False                           False      False  \n",
       "2              4       1.0    False                           False      False  \n",
       "3              4       1.0    False                           False      False  \n",
       "4              1       1.0    False                           False      False  \n",
       "..           ...       ...      ...            ...              ...        ...  \n",
       "875            1      18.0    False                           False       True  \n",
       "876            1      18.0    False                           False       True  \n",
       "877            1      18.0    False                           False       True  \n",
       "878            1      17.0    False                           False      False  \n",
       "879            1      17.0    False                           False      False  \n",
       "\n",
       "[880 rows x 31 columns]"
      ]
     },
     "execution_count": 197,
     "metadata": {},
     "output_type": "execute_result"
    }
   ],
   "source": [
    "session.laps.base_class_view"
   ]
  },
  {
   "cell_type": "code",
   "execution_count": 138,
   "metadata": {},
   "outputs": [
    {
     "data": {
      "text/plain": [
       "{'Driver': ['VER',\n",
       "  'NOR',\n",
       "  'PIA',\n",
       "  'LEC',\n",
       "  'HAM',\n",
       "  'SAI',\n",
       "  'RUS',\n",
       "  'ALO',\n",
       "  'OCO',\n",
       "  'GAS',\n",
       "  'LAW',\n",
       "  'TSU',\n",
       "  'ZHO',\n",
       "  'STR',\n",
       "  'HUL',\n",
       "  'MAG',\n",
       "  'ALB',\n",
       "  'SAR',\n",
       "  'PER',\n",
       "  'BOT']}"
      ]
     },
     "execution_count": 138,
     "metadata": {},
     "output_type": "execute_result"
    }
   ],
   "source": [
    "max_laps = session.laps.base_class_view.groupby('Driver')['LapNumber'].max().reset_index()\n",
    "race_final_position = session.laps.base_class_view.merge(max_laps, on=['Driver', 'LapNumber'])[['Driver','Position']]\n",
    "race_final_position = race_final_position.sort_values(by='Position')\n",
    "race_final_position = {\"Driver\": race_final_position['Driver'].tolist()}\n",
    "race_final_position"
   ]
  },
  {
   "cell_type": "code",
   "execution_count": 141,
   "metadata": {},
   "outputs": [],
   "source": [
    "df = session.laps.base_class_view[['Driver','Team', 'LapTime', 'LapNumber', 'Stint','Compound', 'TyreLife']]\n",
    "df['LapTime_seconds'] = df['LapTime'].dt.total_seconds()\n",
    "avg_times = df.groupby('Driver')['LapTime_seconds'].mean().sort_values()\n",
    "\n",
    "df['stint_compound']= df['Compound'] + '_' +df['Stint'].astype('str')\n",
    "df = df.sort_values(by=['Stint'])\n",
    "colors = {}\n",
    "for sint_compound in df['stint_compound'].unique():\n",
    "    if 'HARD' in sint_compound:\n",
    "        colors[sint_compound] = 'black'\n",
    "    elif 'MEDIUM' in sint_compound:\n",
    "        colors[sint_compound] = 'yellow'\n",
    "    elif 'SOFT' in sint_compound:\n",
    "        colors[sint_compound] = 'red'\n",
    "    else:\n",
    "        colors[sint_compound] = 'purple'\n",
    "\n"
   ]
  },
  {
   "cell_type": "code",
   "execution_count": 193,
   "metadata": {},
   "outputs": [
    {
     "data": {
      "application/vnd.plotly.v1+json": {
       "config": {
        "plotlyServerURL": "https://plot.ly"
       },
       "data": [
        {
         "alignmentgroup": "True",
         "boxpoints": false,
         "hovertemplate": "stint_compound=MEDIUM_1.0<br>Driver=%{x}<br>Lap Time (seconds)=%{y}<extra></extra>",
         "legendgroup": "MEDIUM_1.0",
         "marker": {
          "color": "yellow"
         },
         "name": "MEDIUM_1.0",
         "notched": false,
         "offsetgroup": "MEDIUM_1.0",
         "orientation": "v",
         "showlegend": true,
         "type": "box",
         "x": [
          "VER",
          "RUS",
          "RUS",
          "RUS",
          "RUS",
          "RUS",
          "RUS",
          "RUS",
          "RUS",
          "RUS",
          "HAM",
          "HAM",
          "HAM",
          "HAM",
          "HAM",
          "HAM",
          "HAM",
          "RUS",
          "HAM",
          "RUS",
          "RUS",
          "RUS",
          "RUS",
          "RUS",
          "RUS",
          "RUS",
          "RUS",
          "RUS",
          "RUS",
          "RUS",
          "RUS",
          "RUS",
          "RUS",
          "HAM",
          "HAM",
          "HAM",
          "SAI",
          "SAI",
          "PER",
          "PER",
          "LEC",
          "LEC",
          "LEC",
          "SAI",
          "LEC",
          "LEC",
          "LEC",
          "LEC",
          "LEC",
          "LEC",
          "LEC",
          "LEC",
          "LEC",
          "SAI",
          "SAI",
          "SAI",
          "HAM",
          "HAM",
          "HAM",
          "HAM",
          "HAM",
          "SAI",
          "SAI",
          "SAI",
          "SAI",
          "SAI",
          "SAI",
          "SAI",
          "SAI",
          "SAI",
          "SAI",
          "SAI",
          "SAI",
          "MAG",
          "MAG",
          "MAG",
          "MAG",
          "MAG",
          "MAG",
          "MAG",
          "MAG",
          "MAG",
          "MAG",
          "MAG",
          "SAR",
          "SAR",
          "MAG",
          "LEC",
          "OCO",
          "GAS",
          "GAS",
          "GAS",
          "GAS",
          "GAS",
          "GAS",
          "GAS",
          "GAS",
          "GAS",
          "GAS",
          "GAS",
          "GAS",
          "GAS",
          "GAS",
          "GAS",
          "GAS",
          "GAS",
          "GAS",
          "ALB",
          "LEC",
          "LEC",
          "PIA",
          "PIA",
          "PIA",
          "PIA",
          "PIA",
          "NOR",
          "NOR",
          "LEC",
          "NOR",
          "NOR",
          "NOR",
          "VER",
          "VER",
          "VER",
          "VER",
          "VER",
          "NOR",
          "VER",
          "NOR",
          "NOR",
          "NOR",
          "NOR",
          "NOR",
          "NOR",
          "VER",
          "NOR",
          "NOR",
          "NOR",
          "NOR",
          "PIA",
          "PIA",
          "PIA",
          "PIA",
          "PIA",
          "PIA",
          "PIA",
          "NOR",
          "VER",
          "PIA",
          "VER",
          "VER",
          "VER",
          "VER",
          "VER",
          "VER",
          "VER",
          "LEC"
         ],
         "x0": " ",
         "xaxis": "x",
         "y": [
          null,
          99.767,
          99.672,
          99.582,
          99.518,
          99.465,
          null,
          null,
          99.894,
          null,
          103.793,
          99.055,
          118.763,
          99.532,
          99.129,
          99.65,
          99.952,
          null,
          99.706,
          100.012,
          99.213,
          101.402,
          99.439,
          99.236,
          99.565,
          99.419,
          100.016,
          99.553,
          99.13,
          100.5,
          98.768,
          118.599,
          99.559,
          99.077,
          99.274,
          98.786,
          null,
          null,
          null,
          null,
          101.825,
          99.648,
          99.479,
          null,
          118.712,
          99.641,
          99.562,
          99.31,
          99.083,
          99.086,
          99.093,
          98.924,
          99.375,
          null,
          98.962,
          99.17,
          100.176,
          null,
          null,
          null,
          null,
          101.804,
          99.548,
          99.513,
          99.398,
          118.683,
          99.579,
          99.614,
          99.677,
          99.441,
          99.168,
          99.108,
          99.189,
          122.936,
          101.042,
          100.956,
          100.534,
          100.571,
          100.367,
          100.348,
          null,
          null,
          null,
          100.318,
          null,
          null,
          null,
          98.805,
          null,
          102.948,
          100.032,
          100.451,
          100.886,
          115.777,
          103.153,
          100.335,
          100.283,
          100.248,
          99.96,
          100.256,
          100.154,
          100.284,
          100.27,
          null,
          null,
          null,
          null,
          null,
          null,
          null,
          98.82,
          98.676,
          null,
          null,
          null,
          98.158,
          97.66,
          null,
          null,
          null,
          null,
          101.172,
          98.373,
          119.754,
          98.689,
          96.748,
          null,
          97.837,
          98.394,
          98.578,
          101.24,
          99.226,
          99.107,
          123.597,
          null,
          99.156,
          99.213,
          98.506,
          99.069,
          101.4,
          99.715,
          99.333,
          99.231,
          99.15,
          98.876,
          98.787,
          99.012,
          98.033,
          null,
          null,
          98.148,
          null,
          98.241,
          98.301,
          98.519,
          98.651,
          null
         ],
         "y0": " ",
         "yaxis": "y"
        },
        {
         "alignmentgroup": "True",
         "boxpoints": false,
         "hovertemplate": "stint_compound=SOFT_1.0<br>Driver=%{x}<br>Lap Time (seconds)=%{y}<extra></extra>",
         "legendgroup": "SOFT_1.0",
         "marker": {
          "color": "red"
         },
         "name": "SOFT_1.0",
         "notched": false,
         "offsetgroup": "SOFT_1.0",
         "orientation": "v",
         "showlegend": true,
         "type": "box",
         "x": [
          "TSU",
          "TSU",
          "TSU",
          "TSU",
          "TSU",
          "TSU",
          "TSU",
          "TSU",
          "TSU",
          "STR",
          "STR",
          "STR",
          "STR",
          "BOT",
          "STR",
          "STR",
          "STR",
          "STR",
          "ZHO",
          "HUL",
          "HUL",
          "HUL",
          "HUL",
          "HUL",
          "HUL",
          "HUL",
          "HUL",
          "STR",
          "STR",
          "STR",
          "STR",
          "STR",
          "STR",
          "LAW",
          "LAW",
          "LAW",
          "LAW",
          "LAW",
          "LAW",
          "ALO",
          "LAW",
          "ALO",
          "ALO",
          "ALO",
          "ALO",
          "ALO",
          "ALO",
          "ALO",
          "ALO",
          "ALO",
          "LAW",
          "LAW",
          "LAW",
          "ALO"
         ],
         "x0": " ",
         "xaxis": "x",
         "y": [
          100.385,
          null,
          null,
          null,
          null,
          99.966,
          99.941,
          100.115,
          102.396,
          null,
          null,
          null,
          null,
          null,
          100.379,
          99.849,
          100.052,
          100.141,
          null,
          102.501,
          100.209,
          100.114,
          100.552,
          null,
          null,
          null,
          null,
          121.131,
          100.757,
          100.35,
          100.151,
          99.829,
          100.376,
          99.925,
          99.472,
          null,
          null,
          null,
          null,
          102.32,
          99.949,
          99.697,
          99.15,
          99.138,
          99.488,
          99.508,
          null,
          null,
          null,
          99.884,
          99.811,
          100.245,
          102.431,
          null
         ],
         "y0": " ",
         "yaxis": "y"
        },
        {
         "alignmentgroup": "True",
         "boxpoints": false,
         "hovertemplate": "stint_compound=HARD_2.0<br>Driver=%{x}<br>Lap Time (seconds)=%{y}<extra></extra>",
         "legendgroup": "HARD_2.0",
         "marker": {
          "color": "black"
         },
         "name": "HARD_2.0",
         "notched": false,
         "offsetgroup": "HARD_2.0",
         "orientation": "v",
         "showlegend": true,
         "type": "box",
         "x": [
          "ALO",
          "ALO",
          "ALO",
          "ALO",
          "ALO",
          "ALO",
          "ALO",
          "ALO",
          "ALO",
          "ALO",
          "PIA",
          "PIA",
          "ALO",
          "ALO",
          "PIA",
          "PIA",
          "PIA",
          "PIA",
          "PIA",
          "PIA",
          "PIA",
          "PIA",
          "OCO",
          "PIA",
          "PIA",
          "PIA",
          "ALO",
          "PIA",
          "PIA",
          "PIA",
          "PIA",
          "PIA",
          "ALO",
          "MAG",
          "MAG",
          "OCO",
          "OCO",
          "OCO",
          "OCO",
          "OCO",
          "OCO",
          "OCO",
          "OCO",
          "OCO",
          "OCO",
          "GAS",
          "GAS",
          "GAS",
          "GAS",
          "GAS",
          "GAS",
          "GAS",
          "GAS",
          "GAS",
          "GAS",
          "OCO",
          "OCO",
          "OCO",
          "OCO",
          "OCO",
          "OCO",
          "OCO",
          "OCO",
          "OCO",
          "OCO",
          "GAS",
          "OCO",
          "OCO",
          "OCO",
          "OCO",
          "OCO",
          "MAG",
          "GAS",
          "GAS",
          "PIA",
          "PIA",
          "PIA",
          "RUS",
          "MAG",
          "MAG",
          "MAG",
          "MAG",
          "MAG",
          "MAG",
          "GAS",
          "GAS",
          "GAS",
          "MAG",
          "MAG",
          "MAG",
          "MAG",
          "MAG",
          "MAG",
          "MAG",
          "MAG",
          "MAG",
          "MAG",
          "RUS",
          "PIA",
          "RUS",
          "NOR",
          "NOR",
          "NOR",
          "NOR",
          "NOR",
          "RUS",
          "NOR",
          "NOR",
          "NOR",
          "NOR",
          "NOR",
          "NOR",
          "NOR",
          "NOR",
          "NOR",
          "NOR",
          "PER",
          "PER",
          "NOR",
          "PER",
          "PER",
          "PER",
          "PER",
          "PER",
          "PER",
          "PER",
          "PER",
          "NOR",
          "OCO",
          "RUS",
          "RUS",
          "RUS",
          "RUS",
          "RUS",
          "RUS",
          "RUS",
          "RUS",
          "HAM",
          "HAM",
          "HAM",
          "HAM",
          "HAM",
          "RUS",
          "RUS",
          "RUS",
          "NOR",
          "HAM",
          "RUS",
          "HAM",
          "HAM",
          "RUS",
          "RUS",
          "RUS",
          "RUS",
          "RUS",
          "RUS",
          "RUS",
          "RUS",
          "HAM",
          "RUS",
          "RUS",
          "RUS",
          "NOR",
          "HAM",
          "HAM",
          "RUS",
          "HAM",
          "HAM",
          "HAM",
          "HAM",
          "HAM",
          "HAM",
          "RUS",
          "HAM"
         ],
         "x0": " ",
         "xaxis": "x",
         "y": [
          100.041,
          101.105,
          101.133,
          100.092,
          99.263,
          98.412,
          104.729,
          98.126,
          112.044,
          118.522,
          98.669,
          98.622,
          98.651,
          101.023,
          100.575,
          98.117,
          98.506,
          98.458,
          98.621,
          98.557,
          98.698,
          98.697,
          null,
          98.574,
          98.706,
          98.265,
          99.754,
          98.732,
          99.112,
          98.541,
          98.935,
          98.263,
          103.68,
          99.841,
          101.122,
          100.621,
          100.417,
          100.916,
          100.942,
          100.263,
          100.477,
          101.252,
          100.552,
          100.489,
          102.901,
          101.378,
          98.849,
          98.894,
          98.826,
          98.819,
          99.041,
          98.858,
          98.607,
          98.692,
          99.012,
          144.519,
          100.016,
          100.478,
          100.535,
          100.401,
          100.497,
          100.689,
          99.825,
          100.552,
          107.894,
          98.243,
          111.462,
          100.029,
          99.924,
          100.746,
          99.631,
          102.504,
          98.656,
          100.098,
          133.847,
          98.405,
          98.44,
          98.88,
          99.501,
          100.681,
          99.656,
          100.279,
          100.344,
          99.53,
          97.279,
          119.628,
          98.181,
          138.051,
          100.56,
          98.373,
          99.064,
          99.208,
          99.285,
          99.437,
          99.268,
          99.634,
          99.755,
          99.055,
          99.779,
          99.679,
          98.064,
          98.137,
          98.372,
          98.793,
          97.402,
          99.071,
          97.646,
          98.019,
          97.553,
          97.757,
          97.7,
          98.445,
          97.952,
          98.003,
          97.86,
          100.106,
          121.045,
          100.896,
          98.037,
          100.744,
          99.704,
          100.134,
          100.759,
          99.985,
          null,
          null,
          100.466,
          97.776,
          null,
          97.951,
          98.002,
          98.196,
          118.114,
          98.129,
          98.097,
          98.197,
          97.997,
          100.853,
          98.377,
          98.605,
          98.866,
          98.333,
          97.653,
          97.678,
          97.841,
          96.689,
          98.542,
          98.014,
          98.337,
          98.665,
          100.592,
          98.356,
          98.739,
          98.44,
          99.238,
          98.454,
          98.1,
          98.579,
          119.054,
          98.022,
          97.692,
          98.016,
          118.123,
          98.225,
          97.905,
          99.043,
          98.568,
          98.12,
          99.752,
          98.519,
          98.296,
          97.878,
          98.48,
          97.489
         ],
         "y0": " ",
         "yaxis": "y"
        },
        {
         "alignmentgroup": "True",
         "boxpoints": false,
         "hovertemplate": "stint_compound=MEDIUM_2.0<br>Driver=%{x}<br>Lap Time (seconds)=%{y}<extra></extra>",
         "legendgroup": "MEDIUM_2.0",
         "marker": {
          "color": "yellow"
         },
         "name": "MEDIUM_2.0",
         "notched": false,
         "offsetgroup": "MEDIUM_2.0",
         "orientation": "v",
         "showlegend": true,
         "type": "box",
         "x": [
          "TSU",
          "TSU",
          "TSU",
          "TSU",
          "TSU",
          "TSU",
          "TSU",
          "TSU",
          "TSU",
          "TSU",
          "TSU",
          "TSU",
          "VER",
          "VER",
          "VER",
          "TSU",
          "VER",
          "TSU",
          "TSU",
          "TSU",
          "TSU",
          "TSU",
          "STR",
          "TSU",
          "TSU",
          "TSU",
          "VER",
          "VER",
          "VER",
          "VER",
          "VER",
          "VER",
          "VER",
          "ALB",
          "ALB",
          "ALB",
          "ALB",
          "ALB",
          "ALB",
          "ALB",
          "ALB",
          "ALB",
          "ALB",
          "ALB",
          "ALB",
          "LAW",
          "LAW",
          "LAW",
          "LAW",
          "LAW",
          "LAW",
          "LAW",
          "LAW",
          "LAW",
          "LAW",
          "LAW",
          "LAW",
          "LAW",
          "LAW",
          "LAW",
          "VER",
          "VER",
          "VER",
          "VER",
          "VER",
          "VER",
          "VER",
          "VER",
          "VER",
          "VER",
          "SAI",
          "SAI",
          "SAI",
          "SAI",
          "SAI",
          "SAI",
          "SAI",
          "SAI",
          "SAI",
          "SAI",
          "SAI",
          "SAI",
          "SAI",
          "SAI",
          "SAI",
          "SAI",
          "SAI",
          "SAI",
          "SAI",
          "LEC",
          "LEC",
          "LEC",
          "LEC",
          "LEC",
          "LEC",
          "LEC",
          "LEC",
          "LEC",
          "LEC",
          "LEC",
          "LEC",
          "LEC",
          "LEC",
          "LEC",
          "LEC",
          "LEC",
          "SAR",
          "SAR",
          "SAR",
          "SAI",
          "HUL",
          "HUL",
          "HUL",
          "HUL",
          "HUL",
          "HUL",
          "STR",
          "STR",
          "STR",
          "STR",
          "STR",
          "HUL",
          "HUL",
          "HUL",
          "HUL",
          "HUL",
          "HUL",
          "HUL"
         ],
         "x0": " ",
         "xaxis": "x",
         "y": [
          100.142,
          100.664,
          107.276,
          99.684,
          117.38,
          98.737,
          99.473,
          111.573,
          99.874,
          100.216,
          100.761,
          101.239,
          97.344,
          97.769,
          97.399,
          100.651,
          118.025,
          100.672,
          100.486,
          100.578,
          101.219,
          102.697,
          118.13,
          100.349,
          100.492,
          100.487,
          97.565,
          97.865,
          97.903,
          97.946,
          97.714,
          97.722,
          97.592,
          null,
          null,
          null,
          101.436,
          101.273,
          110.904,
          102.28,
          101.14,
          100.45,
          100.764,
          101.168,
          100.904,
          100.809,
          101.015,
          100.586,
          100.178,
          100.279,
          100.392,
          99.715,
          99.871,
          110.559,
          108.962,
          99.212,
          118.568,
          101.565,
          100.596,
          102.855,
          100.264,
          97.82,
          97.788,
          97.733,
          97.655,
          97.92,
          97.599,
          97.599,
          97.424,
          97.558,
          98.681,
          98.819,
          98.177,
          97.753,
          97.889,
          97.859,
          97.879,
          97.987,
          99.188,
          117.366,
          98.537,
          98.715,
          98.716,
          101.42,
          99.098,
          98.452,
          98.702,
          98.588,
          98.634,
          98.661,
          98.889,
          98.476,
          98.523,
          98.586,
          99.317,
          98.385,
          98.12,
          97.88,
          98.005,
          97.945,
          98.166,
          98.169,
          98.574,
          117.256,
          98.703,
          101.129,
          104.961,
          null,
          null,
          98.726,
          100.325,
          100.577,
          102.637,
          101.398,
          100.133,
          99.628,
          99.05,
          100.082,
          99.112,
          99.551,
          103.295,
          119.085,
          98.724,
          99.849,
          100.196,
          108.186,
          110.866,
          99.635
         ],
         "y0": " ",
         "yaxis": "y"
        },
        {
         "alignmentgroup": "True",
         "boxpoints": false,
         "hovertemplate": "stint_compound=SOFT_2.0<br>Driver=%{x}<br>Lap Time (seconds)=%{y}<extra></extra>",
         "legendgroup": "SOFT_2.0",
         "marker": {
          "color": "red"
         },
         "name": "SOFT_2.0",
         "notched": false,
         "offsetgroup": "SOFT_2.0",
         "orientation": "v",
         "showlegend": true,
         "type": "box",
         "x": [
          "BOT",
          "BOT",
          "BOT",
          "BOT",
          "BOT",
          "ZHO",
          "ZHO",
          "ZHO",
          "ZHO",
          "ZHO",
          "ZHO",
          "ZHO",
          "ZHO",
          "ZHO"
         ],
         "x0": " ",
         "xaxis": "x",
         "y": [
          null,
          140.615,
          null,
          122.755,
          106.852,
          null,
          null,
          null,
          100.207,
          101.337,
          101.028,
          100.729,
          103.013,
          100.915
         ],
         "y0": " ",
         "yaxis": "y"
        },
        {
         "alignmentgroup": "True",
         "boxpoints": false,
         "hovertemplate": "stint_compound=SOFT_3.0<br>Driver=%{x}<br>Lap Time (seconds)=%{y}<extra></extra>",
         "legendgroup": "SOFT_3.0",
         "marker": {
          "color": "red"
         },
         "name": "SOFT_3.0",
         "notched": false,
         "offsetgroup": "SOFT_3.0",
         "orientation": "v",
         "showlegend": true,
         "type": "box",
         "x": [
          "ZHO",
          "ZHO",
          "ZHO",
          "ZHO",
          "ZHO",
          "ZHO",
          "ZHO",
          "ZHO",
          "ZHO",
          "ZHO",
          "ZHO",
          "ZHO",
          "ZHO",
          "ZHO",
          "ZHO",
          "ZHO",
          "ZHO",
          "ZHO",
          "ZHO",
          "ALB",
          "PER",
          "ALB",
          "ALB",
          "ALB",
          "ALB",
          "ALB",
          "ALB",
          "ALB",
          "ALB",
          "ALB",
          "ALB",
          "ALB",
          "ALB"
         ],
         "x0": " ",
         "xaxis": "x",
         "y": [
          99.971,
          99.999,
          100.423,
          100.134,
          100.415,
          100.741,
          99.809,
          100.016,
          100.625,
          100.822,
          102.733,
          100.264,
          100.159,
          99.106,
          108.905,
          110.341,
          99.205,
          118.22,
          99.867,
          108.437,
          null,
          100.286,
          100.147,
          99.919,
          100.071,
          100.421,
          100.098,
          99.872,
          100.339,
          99.93,
          99.549,
          99.185,
          148.318
         ],
         "y0": " ",
         "yaxis": "y"
        },
        {
         "alignmentgroup": "True",
         "boxpoints": false,
         "hovertemplate": "stint_compound=MEDIUM_3.0<br>Driver=%{x}<br>Lap Time (seconds)=%{y}<extra></extra>",
         "legendgroup": "MEDIUM_3.0",
         "marker": {
          "color": "yellow"
         },
         "name": "MEDIUM_3.0",
         "notched": false,
         "offsetgroup": "MEDIUM_3.0",
         "orientation": "v",
         "showlegend": true,
         "type": "box",
         "x": [
          "SAR",
          "SAR",
          "SAR",
          "SAR",
          "SAR",
          "SAR",
          "SAR",
          "SAR",
          "SAR",
          "SAR",
          "SAR",
          "SAR",
          "SAR",
          "SAR",
          "SAR",
          "SAR"
         ],
         "x0": " ",
         "xaxis": "x",
         "y": [
          100.472,
          100.853,
          100.568,
          104.171,
          101.168,
          100.463,
          100.746,
          119.577,
          101.063,
          100.317,
          99.721,
          139.442,
          100.619,
          100.716,
          98.848,
          103.371
         ],
         "y0": " ",
         "yaxis": "y"
        },
        {
         "alignmentgroup": "True",
         "boxpoints": false,
         "hovertemplate": "stint_compound=HARD_3.0<br>Driver=%{x}<br>Lap Time (seconds)=%{y}<extra></extra>",
         "legendgroup": "HARD_3.0",
         "marker": {
          "color": "black"
         },
         "name": "HARD_3.0",
         "notched": false,
         "offsetgroup": "HARD_3.0",
         "orientation": "v",
         "showlegend": true,
         "type": "box",
         "x": [
          "OCO",
          "OCO",
          "OCO",
          "OCO",
          "OCO",
          "OCO",
          "OCO",
          "OCO",
          "OCO",
          "OCO",
          "MAG",
          "OCO",
          "MAG",
          "HUL",
          "HUL",
          "HUL",
          "HUL",
          "HUL",
          "HUL",
          "HUL",
          "MAG",
          "MAG",
          "MAG",
          "MAG",
          "MAG",
          "MAG",
          "MAG",
          "MAG",
          "MAG",
          "MAG",
          "MAG",
          "MAG",
          "MAG",
          "MAG",
          "MAG",
          "MAG",
          "MAG",
          "MAG",
          "MAG",
          "HUL",
          "OCO",
          "HUL",
          "HUL",
          "OCO",
          "OCO",
          "OCO",
          "OCO",
          "OCO",
          "OCO",
          "OCO",
          "OCO",
          "OCO",
          "OCO",
          "OCO",
          "OCO",
          "OCO",
          "VER",
          "VER",
          "HUL",
          "HUL",
          "BOT",
          "HUL",
          "HUL",
          "HUL",
          "HUL",
          "LAW",
          "PIA",
          "PIA",
          "PIA",
          "PIA",
          "PIA",
          "HAM",
          "HAM",
          "HAM",
          "HAM",
          "HAM",
          "PIA",
          "HAM",
          "HAM",
          "HAM",
          "HAM",
          "HAM",
          "HAM",
          "HAM",
          "HAM",
          "HAM",
          "HAM",
          "HAM",
          "HAM",
          "PIA",
          "PIA",
          "PIA",
          "TSU",
          "TSU",
          "TSU",
          "TSU",
          "TSU",
          "TSU",
          "TSU",
          "TSU",
          "TSU",
          "TSU",
          "TSU",
          "TSU",
          "TSU",
          "TSU",
          "PIA",
          "PIA",
          "PIA",
          "PIA",
          "VER",
          "PIA",
          "PIA",
          "PIA",
          "PIA",
          "HAM",
          "HAM",
          "SAI",
          "SAI",
          "LEC",
          "LEC",
          "LEC",
          "LEC",
          "LEC",
          "LEC",
          "LEC",
          "LEC",
          "LEC",
          "LEC",
          "LEC",
          "LEC",
          "NOR",
          "NOR",
          "NOR",
          "NOR",
          "NOR",
          "NOR",
          "NOR",
          "NOR",
          "NOR",
          "NOR",
          "NOR",
          "LEC",
          "TSU",
          "LEC",
          "LEC",
          "SAI",
          "SAI",
          "SAI",
          "SAI",
          "SAI",
          "SAI",
          "SAI",
          "SAI",
          "SAI",
          "SAI",
          "SAI",
          "SAI",
          "SAI",
          "NOR",
          "NOR",
          "NOR",
          "NOR",
          "NOR",
          "NOR",
          "LEC",
          "LEC",
          "LEC",
          "LEC",
          "TSU",
          "PIA",
          "TSU",
          "GAS",
          "GAS",
          "GAS",
          "GAS",
          "GAS",
          "VER",
          "VER",
          "VER",
          "VER",
          "VER",
          "GAS",
          "VER",
          "VER",
          "VER",
          "VER",
          "VER",
          "VER",
          "LAW",
          "LAW",
          "TSU",
          "LAW",
          "LAW",
          "VER",
          "GAS",
          "GAS",
          "GAS",
          "VER",
          "GAS",
          "GAS",
          "GAS",
          "GAS",
          "GAS",
          "GAS",
          "GAS",
          "GAS",
          "GAS",
          "GAS",
          "LAW",
          "LAW",
          "LAW",
          "LAW",
          "ALO",
          "ALO",
          "ALO",
          "ALO",
          "ALO",
          "ALO",
          "ALO",
          "ALO",
          "ALO",
          "LAW",
          "ALO",
          "ALO",
          "ALO",
          "ALO",
          "ALO",
          "ALO",
          "ALO",
          "TSU",
          "TSU",
          "TSU",
          "TSU",
          "ALO",
          "ALO",
          "ALO",
          "ALO",
          "ALO",
          "ALO",
          "ALO",
          "ALO",
          "ALO",
          "ALO",
          "ALO",
          "ALO",
          "LAW",
          "LAW",
          "LAW",
          "LAW",
          "LAW",
          "LAW",
          "LAW",
          "LAW",
          "LAW",
          "LAW",
          "LAW",
          "LAW",
          "LAW",
          "LAW",
          "LAW",
          "LAW",
          "LAW"
         ],
         "x0": " ",
         "xaxis": "x",
         "y": [
          117.871,
          97.572,
          97.833,
          97.853,
          97.398,
          97.848,
          97.616,
          98.094,
          97.88,
          97.978,
          98.892,
          97.904,
          98.628,
          99.032,
          98.492,
          101.42,
          99.961,
          99.028,
          98.661,
          98.55,
          118.476,
          98.277,
          98.264,
          98.677,
          98.018,
          98.172,
          98.221,
          98.005,
          97.958,
          97.842,
          99.229,
          98.206,
          98.066,
          98.507,
          98.898,
          98.802,
          102.684,
          99.439,
          98.9,
          98.623,
          98.026,
          98.541,
          98.322,
          97.773,
          97.82,
          97.793,
          98.316,
          98.198,
          100.776,
          98.758,
          98.392,
          98.381,
          98.33,
          98.386,
          98.045,
          98.292,
          94.183,
          116.078,
          120.084,
          99.327,
          null,
          98.328,
          98.587,
          98.418,
          98.809,
          99.327,
          97.117,
          97.131,
          97.231,
          97.795,
          97.017,
          97.353,
          97.352,
          97.531,
          97.417,
          98.74,
          96.88,
          98.416,
          97.999,
          97.217,
          97.265,
          97.293,
          97.47,
          97.243,
          97.118,
          96.509,
          96.736,
          96.182,
          98.451,
          96.704,
          96.459,
          97.296,
          98.51,
          98.768,
          98.419,
          98.218,
          97.92,
          98.097,
          97.816,
          98.013,
          97.768,
          97.977,
          97.898,
          98.093,
          97.853,
          118.908,
          117.096,
          96.632,
          96.328,
          96.597,
          95.914,
          97.882,
          96.848,
          97.251,
          97.843,
          95.611,
          115.716,
          97.259,
          97.389,
          97.196,
          97.234,
          98.401,
          98.056,
          97.355,
          96.921,
          96.362,
          96.672,
          96.493,
          96.891,
          96.781,
          115.831,
          96.052,
          96.059,
          96.078,
          96.378,
          96.411,
          96.587,
          97.728,
          96.942,
          96.741,
          96.71,
          96.755,
          97.34,
          98.538,
          97.518,
          97.604,
          97.118,
          97.349,
          99.668,
          98.346,
          97.516,
          96.783,
          96.798,
          96.724,
          96.677,
          96.378,
          96.364,
          96.187,
          116.164,
          116.781,
          96.003,
          95.972,
          95.247,
          95.823,
          95.844,
          98.049,
          97.773,
          97.563,
          97.608,
          98.683,
          96.741,
          98.687,
          96.98,
          97.203,
          97,
          96.371,
          118.774,
          95.248,
          95.969,
          95.462,
          95.915,
          95.983,
          96.96,
          96.22,
          96.689,
          96.877,
          96.64,
          97.05,
          96.3,
          100.389,
          98.515,
          98.604,
          98.348,
          98.673,
          96.198,
          97.249,
          97.2,
          97.551,
          95.433,
          104.267,
          98.242,
          97.949,
          98.149,
          97.977,
          98.134,
          98.066,
          97.761,
          97.792,
          97.733,
          98.665,
          98.663,
          98.267,
          98.8,
          99.221,
          99.155,
          98.809,
          98.406,
          98.637,
          98.413,
          98.432,
          98.699,
          98.413,
          98.583,
          98.182,
          98.059,
          98.036,
          98,
          98.139,
          98.009,
          98.27,
          98.499,
          98.264,
          99.867,
          99.1,
          116.635,
          99.232,
          97.308,
          98.749,
          97.273,
          97.582,
          97.628,
          97.335,
          97.461,
          97.203,
          99.65,
          98.357,
          98.489,
          98.478,
          98.512,
          98.643,
          98.696,
          98.343,
          98.268,
          98.423,
          98.369,
          98.642,
          98.802,
          98.819,
          99.124,
          98.832,
          98.667,
          118.827,
          98.397
         ],
         "y0": " ",
         "yaxis": "y"
        },
        {
         "alignmentgroup": "True",
         "boxpoints": false,
         "hovertemplate": "stint_compound=MEDIUM_4.0<br>Driver=%{x}<br>Lap Time (seconds)=%{y}<extra></extra>",
         "legendgroup": "MEDIUM_4.0",
         "marker": {
          "color": "yellow"
         },
         "name": "MEDIUM_4.0",
         "notched": false,
         "offsetgroup": "MEDIUM_4.0",
         "orientation": "v",
         "showlegend": true,
         "type": "box",
         "x": [
          "HUL",
          "HUL",
          "HUL",
          "HUL",
          "HUL",
          "HUL",
          "HUL",
          "HUL",
          "HUL",
          "HUL",
          "HUL",
          "HUL",
          "HUL",
          "HUL",
          "HUL"
         ],
         "x0": " ",
         "xaxis": "x",
         "y": [
          97.713,
          97.655,
          97.929,
          97.86,
          97.744,
          97.628,
          118.934,
          99.136,
          97.25,
          97.445,
          97.309,
          97.395,
          97.656,
          98.39,
          97.811
         ],
         "y0": " ",
         "yaxis": "y"
        },
        {
         "alignmentgroup": "True",
         "boxpoints": false,
         "hovertemplate": "stint_compound=HARD_4.0<br>Driver=%{x}<br>Lap Time (seconds)=%{y}<extra></extra>",
         "legendgroup": "HARD_4.0",
         "marker": {
          "color": "black"
         },
         "name": "HARD_4.0",
         "notched": false,
         "offsetgroup": "HARD_4.0",
         "orientation": "v",
         "showlegend": true,
         "type": "box",
         "x": [
          "ZHO",
          "ZHO",
          "SAR",
          "ZHO",
          "ZHO",
          "ZHO",
          "ZHO",
          "ZHO",
          "ZHO",
          "ZHO",
          "ZHO",
          "ZHO",
          "ZHO",
          "ZHO",
          "ZHO",
          "ZHO",
          "ZHO",
          "ZHO",
          "ZHO",
          "ZHO",
          "ZHO",
          "ZHO",
          "ZHO",
          "ZHO"
         ],
         "x0": " ",
         "xaxis": "x",
         "y": [
          97.791,
          98.513,
          137.039,
          98.098,
          118.128,
          98.278,
          98.465,
          98.643,
          98.649,
          98.641,
          98.255,
          98.43,
          98.211,
          98.444,
          97.992,
          98.191,
          97.906,
          98.213,
          98.202,
          98.264,
          98.232,
          98.585,
          99.73,
          98.332
         ],
         "y0": " ",
         "yaxis": "y"
        },
        {
         "alignmentgroup": "True",
         "boxpoints": false,
         "hovertemplate": "stint_compound=SOFT_4.0<br>Driver=%{x}<br>Lap Time (seconds)=%{y}<extra></extra>",
         "legendgroup": "SOFT_4.0",
         "marker": {
          "color": "red"
         },
         "name": "SOFT_4.0",
         "notched": false,
         "offsetgroup": "SOFT_4.0",
         "orientation": "v",
         "showlegend": true,
         "type": "box",
         "x": [
          "PER"
         ],
         "x0": " ",
         "xaxis": "x",
         "y": [
          null
         ],
         "y0": " ",
         "yaxis": "y"
        },
        {
         "alignmentgroup": "True",
         "boxpoints": false,
         "hovertemplate": "stint_compound=SOFT_5.0<br>Driver=%{x}<br>Lap Time (seconds)=%{y}<extra></extra>",
         "legendgroup": "SOFT_5.0",
         "marker": {
          "color": "red"
         },
         "name": "SOFT_5.0",
         "notched": false,
         "offsetgroup": "SOFT_5.0",
         "orientation": "v",
         "showlegend": true,
         "type": "box",
         "x": [
          "PER"
         ],
         "x0": " ",
         "xaxis": "x",
         "y": [
          132.535
         ],
         "y0": " ",
         "yaxis": "y"
        }
       ],
       "layout": {
        "boxmode": "group",
        "legend": {
         "title": {
          "text": "stint_compound"
         },
         "tracegroupgap": 0
        },
        "template": {
         "data": {
          "bar": [
           {
            "error_x": {
             "color": "#2a3f5f"
            },
            "error_y": {
             "color": "#2a3f5f"
            },
            "marker": {
             "line": {
              "color": "#E5ECF6",
              "width": 0.5
             },
             "pattern": {
              "fillmode": "overlay",
              "size": 10,
              "solidity": 0.2
             }
            },
            "type": "bar"
           }
          ],
          "barpolar": [
           {
            "marker": {
             "line": {
              "color": "#E5ECF6",
              "width": 0.5
             },
             "pattern": {
              "fillmode": "overlay",
              "size": 10,
              "solidity": 0.2
             }
            },
            "type": "barpolar"
           }
          ],
          "carpet": [
           {
            "aaxis": {
             "endlinecolor": "#2a3f5f",
             "gridcolor": "white",
             "linecolor": "white",
             "minorgridcolor": "white",
             "startlinecolor": "#2a3f5f"
            },
            "baxis": {
             "endlinecolor": "#2a3f5f",
             "gridcolor": "white",
             "linecolor": "white",
             "minorgridcolor": "white",
             "startlinecolor": "#2a3f5f"
            },
            "type": "carpet"
           }
          ],
          "choropleth": [
           {
            "colorbar": {
             "outlinewidth": 0,
             "ticks": ""
            },
            "type": "choropleth"
           }
          ],
          "contour": [
           {
            "colorbar": {
             "outlinewidth": 0,
             "ticks": ""
            },
            "colorscale": [
             [
              0,
              "#0d0887"
             ],
             [
              0.1111111111111111,
              "#46039f"
             ],
             [
              0.2222222222222222,
              "#7201a8"
             ],
             [
              0.3333333333333333,
              "#9c179e"
             ],
             [
              0.4444444444444444,
              "#bd3786"
             ],
             [
              0.5555555555555556,
              "#d8576b"
             ],
             [
              0.6666666666666666,
              "#ed7953"
             ],
             [
              0.7777777777777778,
              "#fb9f3a"
             ],
             [
              0.8888888888888888,
              "#fdca26"
             ],
             [
              1,
              "#f0f921"
             ]
            ],
            "type": "contour"
           }
          ],
          "contourcarpet": [
           {
            "colorbar": {
             "outlinewidth": 0,
             "ticks": ""
            },
            "type": "contourcarpet"
           }
          ],
          "heatmap": [
           {
            "colorbar": {
             "outlinewidth": 0,
             "ticks": ""
            },
            "colorscale": [
             [
              0,
              "#0d0887"
             ],
             [
              0.1111111111111111,
              "#46039f"
             ],
             [
              0.2222222222222222,
              "#7201a8"
             ],
             [
              0.3333333333333333,
              "#9c179e"
             ],
             [
              0.4444444444444444,
              "#bd3786"
             ],
             [
              0.5555555555555556,
              "#d8576b"
             ],
             [
              0.6666666666666666,
              "#ed7953"
             ],
             [
              0.7777777777777778,
              "#fb9f3a"
             ],
             [
              0.8888888888888888,
              "#fdca26"
             ],
             [
              1,
              "#f0f921"
             ]
            ],
            "type": "heatmap"
           }
          ],
          "heatmapgl": [
           {
            "colorbar": {
             "outlinewidth": 0,
             "ticks": ""
            },
            "colorscale": [
             [
              0,
              "#0d0887"
             ],
             [
              0.1111111111111111,
              "#46039f"
             ],
             [
              0.2222222222222222,
              "#7201a8"
             ],
             [
              0.3333333333333333,
              "#9c179e"
             ],
             [
              0.4444444444444444,
              "#bd3786"
             ],
             [
              0.5555555555555556,
              "#d8576b"
             ],
             [
              0.6666666666666666,
              "#ed7953"
             ],
             [
              0.7777777777777778,
              "#fb9f3a"
             ],
             [
              0.8888888888888888,
              "#fdca26"
             ],
             [
              1,
              "#f0f921"
             ]
            ],
            "type": "heatmapgl"
           }
          ],
          "histogram": [
           {
            "marker": {
             "pattern": {
              "fillmode": "overlay",
              "size": 10,
              "solidity": 0.2
             }
            },
            "type": "histogram"
           }
          ],
          "histogram2d": [
           {
            "colorbar": {
             "outlinewidth": 0,
             "ticks": ""
            },
            "colorscale": [
             [
              0,
              "#0d0887"
             ],
             [
              0.1111111111111111,
              "#46039f"
             ],
             [
              0.2222222222222222,
              "#7201a8"
             ],
             [
              0.3333333333333333,
              "#9c179e"
             ],
             [
              0.4444444444444444,
              "#bd3786"
             ],
             [
              0.5555555555555556,
              "#d8576b"
             ],
             [
              0.6666666666666666,
              "#ed7953"
             ],
             [
              0.7777777777777778,
              "#fb9f3a"
             ],
             [
              0.8888888888888888,
              "#fdca26"
             ],
             [
              1,
              "#f0f921"
             ]
            ],
            "type": "histogram2d"
           }
          ],
          "histogram2dcontour": [
           {
            "colorbar": {
             "outlinewidth": 0,
             "ticks": ""
            },
            "colorscale": [
             [
              0,
              "#0d0887"
             ],
             [
              0.1111111111111111,
              "#46039f"
             ],
             [
              0.2222222222222222,
              "#7201a8"
             ],
             [
              0.3333333333333333,
              "#9c179e"
             ],
             [
              0.4444444444444444,
              "#bd3786"
             ],
             [
              0.5555555555555556,
              "#d8576b"
             ],
             [
              0.6666666666666666,
              "#ed7953"
             ],
             [
              0.7777777777777778,
              "#fb9f3a"
             ],
             [
              0.8888888888888888,
              "#fdca26"
             ],
             [
              1,
              "#f0f921"
             ]
            ],
            "type": "histogram2dcontour"
           }
          ],
          "mesh3d": [
           {
            "colorbar": {
             "outlinewidth": 0,
             "ticks": ""
            },
            "type": "mesh3d"
           }
          ],
          "parcoords": [
           {
            "line": {
             "colorbar": {
              "outlinewidth": 0,
              "ticks": ""
             }
            },
            "type": "parcoords"
           }
          ],
          "pie": [
           {
            "automargin": true,
            "type": "pie"
           }
          ],
          "scatter": [
           {
            "fillpattern": {
             "fillmode": "overlay",
             "size": 10,
             "solidity": 0.2
            },
            "type": "scatter"
           }
          ],
          "scatter3d": [
           {
            "line": {
             "colorbar": {
              "outlinewidth": 0,
              "ticks": ""
             }
            },
            "marker": {
             "colorbar": {
              "outlinewidth": 0,
              "ticks": ""
             }
            },
            "type": "scatter3d"
           }
          ],
          "scattercarpet": [
           {
            "marker": {
             "colorbar": {
              "outlinewidth": 0,
              "ticks": ""
             }
            },
            "type": "scattercarpet"
           }
          ],
          "scattergeo": [
           {
            "marker": {
             "colorbar": {
              "outlinewidth": 0,
              "ticks": ""
             }
            },
            "type": "scattergeo"
           }
          ],
          "scattergl": [
           {
            "marker": {
             "colorbar": {
              "outlinewidth": 0,
              "ticks": ""
             }
            },
            "type": "scattergl"
           }
          ],
          "scattermapbox": [
           {
            "marker": {
             "colorbar": {
              "outlinewidth": 0,
              "ticks": ""
             }
            },
            "type": "scattermapbox"
           }
          ],
          "scatterpolar": [
           {
            "marker": {
             "colorbar": {
              "outlinewidth": 0,
              "ticks": ""
             }
            },
            "type": "scatterpolar"
           }
          ],
          "scatterpolargl": [
           {
            "marker": {
             "colorbar": {
              "outlinewidth": 0,
              "ticks": ""
             }
            },
            "type": "scatterpolargl"
           }
          ],
          "scatterternary": [
           {
            "marker": {
             "colorbar": {
              "outlinewidth": 0,
              "ticks": ""
             }
            },
            "type": "scatterternary"
           }
          ],
          "surface": [
           {
            "colorbar": {
             "outlinewidth": 0,
             "ticks": ""
            },
            "colorscale": [
             [
              0,
              "#0d0887"
             ],
             [
              0.1111111111111111,
              "#46039f"
             ],
             [
              0.2222222222222222,
              "#7201a8"
             ],
             [
              0.3333333333333333,
              "#9c179e"
             ],
             [
              0.4444444444444444,
              "#bd3786"
             ],
             [
              0.5555555555555556,
              "#d8576b"
             ],
             [
              0.6666666666666666,
              "#ed7953"
             ],
             [
              0.7777777777777778,
              "#fb9f3a"
             ],
             [
              0.8888888888888888,
              "#fdca26"
             ],
             [
              1,
              "#f0f921"
             ]
            ],
            "type": "surface"
           }
          ],
          "table": [
           {
            "cells": {
             "fill": {
              "color": "#EBF0F8"
             },
             "line": {
              "color": "white"
             }
            },
            "header": {
             "fill": {
              "color": "#C8D4E3"
             },
             "line": {
              "color": "white"
             }
            },
            "type": "table"
           }
          ]
         },
         "layout": {
          "annotationdefaults": {
           "arrowcolor": "#2a3f5f",
           "arrowhead": 0,
           "arrowwidth": 1
          },
          "autotypenumbers": "strict",
          "coloraxis": {
           "colorbar": {
            "outlinewidth": 0,
            "ticks": ""
           }
          },
          "colorscale": {
           "diverging": [
            [
             0,
             "#8e0152"
            ],
            [
             0.1,
             "#c51b7d"
            ],
            [
             0.2,
             "#de77ae"
            ],
            [
             0.3,
             "#f1b6da"
            ],
            [
             0.4,
             "#fde0ef"
            ],
            [
             0.5,
             "#f7f7f7"
            ],
            [
             0.6,
             "#e6f5d0"
            ],
            [
             0.7,
             "#b8e186"
            ],
            [
             0.8,
             "#7fbc41"
            ],
            [
             0.9,
             "#4d9221"
            ],
            [
             1,
             "#276419"
            ]
           ],
           "sequential": [
            [
             0,
             "#0d0887"
            ],
            [
             0.1111111111111111,
             "#46039f"
            ],
            [
             0.2222222222222222,
             "#7201a8"
            ],
            [
             0.3333333333333333,
             "#9c179e"
            ],
            [
             0.4444444444444444,
             "#bd3786"
            ],
            [
             0.5555555555555556,
             "#d8576b"
            ],
            [
             0.6666666666666666,
             "#ed7953"
            ],
            [
             0.7777777777777778,
             "#fb9f3a"
            ],
            [
             0.8888888888888888,
             "#fdca26"
            ],
            [
             1,
             "#f0f921"
            ]
           ],
           "sequentialminus": [
            [
             0,
             "#0d0887"
            ],
            [
             0.1111111111111111,
             "#46039f"
            ],
            [
             0.2222222222222222,
             "#7201a8"
            ],
            [
             0.3333333333333333,
             "#9c179e"
            ],
            [
             0.4444444444444444,
             "#bd3786"
            ],
            [
             0.5555555555555556,
             "#d8576b"
            ],
            [
             0.6666666666666666,
             "#ed7953"
            ],
            [
             0.7777777777777778,
             "#fb9f3a"
            ],
            [
             0.8888888888888888,
             "#fdca26"
            ],
            [
             1,
             "#f0f921"
            ]
           ]
          },
          "colorway": [
           "#636efa",
           "#EF553B",
           "#00cc96",
           "#ab63fa",
           "#FFA15A",
           "#19d3f3",
           "#FF6692",
           "#B6E880",
           "#FF97FF",
           "#FECB52"
          ],
          "font": {
           "color": "#2a3f5f"
          },
          "geo": {
           "bgcolor": "white",
           "lakecolor": "white",
           "landcolor": "#E5ECF6",
           "showlakes": true,
           "showland": true,
           "subunitcolor": "white"
          },
          "hoverlabel": {
           "align": "left"
          },
          "hovermode": "closest",
          "mapbox": {
           "style": "light"
          },
          "paper_bgcolor": "white",
          "plot_bgcolor": "#E5ECF6",
          "polar": {
           "angularaxis": {
            "gridcolor": "white",
            "linecolor": "white",
            "ticks": ""
           },
           "bgcolor": "#E5ECF6",
           "radialaxis": {
            "gridcolor": "white",
            "linecolor": "white",
            "ticks": ""
           }
          },
          "scene": {
           "xaxis": {
            "backgroundcolor": "#E5ECF6",
            "gridcolor": "white",
            "gridwidth": 2,
            "linecolor": "white",
            "showbackground": true,
            "ticks": "",
            "zerolinecolor": "white"
           },
           "yaxis": {
            "backgroundcolor": "#E5ECF6",
            "gridcolor": "white",
            "gridwidth": 2,
            "linecolor": "white",
            "showbackground": true,
            "ticks": "",
            "zerolinecolor": "white"
           },
           "zaxis": {
            "backgroundcolor": "#E5ECF6",
            "gridcolor": "white",
            "gridwidth": 2,
            "linecolor": "white",
            "showbackground": true,
            "ticks": "",
            "zerolinecolor": "white"
           }
          },
          "shapedefaults": {
           "line": {
            "color": "#2a3f5f"
           }
          },
          "ternary": {
           "aaxis": {
            "gridcolor": "white",
            "linecolor": "white",
            "ticks": ""
           },
           "baxis": {
            "gridcolor": "white",
            "linecolor": "white",
            "ticks": ""
           },
           "bgcolor": "#E5ECF6",
           "caxis": {
            "gridcolor": "white",
            "linecolor": "white",
            "ticks": ""
           }
          },
          "title": {
           "x": 0.05
          },
          "xaxis": {
           "automargin": true,
           "gridcolor": "white",
           "linecolor": "white",
           "ticks": "",
           "title": {
            "standoff": 15
           },
           "zerolinecolor": "white",
           "zerolinewidth": 2
          },
          "yaxis": {
           "automargin": true,
           "gridcolor": "white",
           "linecolor": "white",
           "ticks": "",
           "title": {
            "standoff": 15
           },
           "zerolinecolor": "white",
           "zerolinewidth": 2
          }
         }
        },
        "title": {
         "text": "Boxplot of Lap Times by Driver and Stint"
        },
        "xaxis": {
         "anchor": "y",
         "categoryarray": [
          "VER",
          "NOR",
          "PIA",
          "LEC",
          "HAM",
          "SAI",
          "RUS",
          "ALO",
          "OCO",
          "GAS",
          "LAW",
          "TSU",
          "ZHO",
          "STR",
          "HUL",
          "MAG",
          "ALB",
          "SAR",
          "PER",
          "BOT"
         ],
         "categoryorder": "array",
         "domain": [
          0,
          1
         ],
         "tickangle": -45,
         "title": {
          "text": "Driver"
         }
        },
        "yaxis": {
         "anchor": "x",
         "domain": [
          0,
          1
         ],
         "range": [
          94.183,
          105
         ],
         "title": {
          "text": "Lap Time (seconds)"
         }
        }
       }
      }
     },
     "metadata": {},
     "output_type": "display_data"
    }
   ],
   "source": [
    "import plotly.express as px\n",
    "\n",
    "# Création du boxplot avec plotly\n",
    "fig = px.box(\n",
    "    df,\n",
    "    x=\"Driver\",\n",
    "    y=\"LapTime_seconds\",\n",
    "    color=\"stint_compound\",\n",
    "    category_orders=race_final_position,  # pour ordonner les pilotes\n",
    "    color_discrete_map=colors,  # utilisez votre dictionnaire de couleurs\n",
    "    title='Boxplot of Lap Times by Driver and Stint',\n",
    "    labels={\"LapTime_seconds\": \"Lap Time (seconds)\", \"Driver\": \"Driver\"},\n",
    "    points=False,    \n",
    "    )\n",
    "fig.update_layout(xaxis_tickangle=-45,yaxis_range=[80, 105])\n",
    "\n",
    "\n",
    "fig.update_layout(xaxis_tickangle=-45,yaxis_range=[df['LapTime_seconds'].min(), 105])\n",
    "\n",
    "# Calculate the minimum lap time for positioning annotations\n",
    "min_time = df['LapTime_seconds'].min()\n",
    "\n",
    "\"\"\"# Loop through unique drivers and stints to add annotations\n",
    "for driver in df['Driver'].unique():\n",
    "    for stint in df['stint_compound'].unique():\n",
    "        # Calculate the positioning offset based on the number of unique stints\n",
    "        # This is to ensure that annotations for different stints don't overlap\n",
    "        offset = list(df['stint_compound'].unique()).index(stint) \n",
    "\n",
    "        fig.add_annotation(\n",
    "            text='toto',\n",
    "            x=driver,\n",
    "            y=min_time - 5 - offset,  # Adjust this based on your specific data for positioning\n",
    "            xanchor=\"center\",\n",
    "            showarrow=False,\n",
    "            font=dict(color=\"black\")\n",
    "        )\"\"\"\n",
    "\n",
    "fig.show()\n"
   ]
  },
  {
   "cell_type": "code",
   "execution_count": 169,
   "metadata": {},
   "outputs": [
    {
     "data": {
      "application/vnd.plotly.v1+json": {
       "config": {
        "plotlyServerURL": "https://plot.ly"
       },
       "data": [
        {
         "alignmentgroup": "True",
         "boxpoints": "all",
         "hovertemplate": "Driver=%{x}<br>Lap Time (seconds)=%{y}<extra></extra>",
         "legendgroup": "",
         "marker": {
          "color": "#636efa"
         },
         "name": "",
         "notched": false,
         "offsetgroup": "",
         "orientation": "v",
         "showlegend": false,
         "type": "box",
         "x": [
          "VER",
          "RUS",
          "RUS",
          "RUS",
          "RUS",
          "RUS",
          "RUS",
          "RUS",
          "RUS",
          "RUS",
          "HAM",
          "HAM",
          "HAM",
          "HAM",
          "HAM",
          "HAM",
          "HAM",
          "RUS",
          "HAM",
          "RUS",
          "RUS",
          "TSU",
          "TSU",
          "TSU",
          "TSU",
          "TSU",
          "RUS",
          "RUS",
          "RUS",
          "RUS",
          "RUS",
          "RUS",
          "RUS",
          "RUS",
          "RUS",
          "RUS",
          "RUS",
          "RUS",
          "HAM",
          "HAM",
          "HAM",
          "SAI",
          "SAI",
          "PER",
          "PER",
          "LEC",
          "LEC",
          "LEC",
          "SAI",
          "LEC",
          "LEC",
          "LEC",
          "LEC",
          "LEC",
          "LEC",
          "LEC",
          "LEC",
          "LEC",
          "SAI",
          "SAI",
          "SAI",
          "HAM",
          "HAM",
          "HAM",
          "HAM",
          "HAM",
          "SAI",
          "SAI",
          "SAI",
          "SAI",
          "SAI",
          "SAI",
          "SAI",
          "SAI",
          "SAI",
          "SAI",
          "SAI",
          "SAI",
          "TSU",
          "TSU",
          "TSU",
          "TSU",
          "STR",
          "STR",
          "STR",
          "STR",
          "BOT",
          "MAG",
          "MAG",
          "STR",
          "MAG",
          "MAG",
          "MAG",
          "MAG",
          "MAG",
          "MAG",
          "MAG",
          "MAG",
          "MAG",
          "STR",
          "STR",
          "STR",
          "SAR",
          "SAR",
          "ZHO",
          "HUL",
          "HUL",
          "HUL",
          "HUL",
          "HUL",
          "HUL",
          "HUL",
          "HUL",
          "STR",
          "STR",
          "STR",
          "STR",
          "STR",
          "STR",
          "MAG",
          "LEC",
          "OCO",
          "GAS",
          "LAW",
          "LAW",
          "LAW",
          "LAW",
          "LAW",
          "LAW",
          "ALO",
          "LAW",
          "ALO",
          "ALO",
          "ALO",
          "ALO",
          "ALO",
          "ALO",
          "ALO",
          "ALO",
          "ALO",
          "LAW",
          "LAW",
          "LAW",
          "GAS",
          "GAS",
          "GAS",
          "GAS",
          "GAS",
          "GAS",
          "GAS",
          "GAS",
          "GAS",
          "GAS",
          "GAS",
          "GAS",
          "GAS",
          "GAS",
          "GAS",
          "GAS",
          "GAS",
          "ALB",
          "LEC",
          "ALO",
          "LEC",
          "PIA",
          "PIA",
          "PIA",
          "PIA",
          "PIA",
          "NOR",
          "NOR",
          "LEC",
          "NOR",
          "NOR",
          "NOR",
          "VER",
          "VER",
          "VER",
          "VER",
          "VER",
          "NOR",
          "VER",
          "NOR",
          "NOR",
          "NOR",
          "NOR",
          "NOR",
          "NOR",
          "VER",
          "NOR",
          "NOR",
          "NOR",
          "NOR",
          "PIA",
          "PIA",
          "PIA",
          "PIA",
          "PIA",
          "PIA",
          "PIA",
          "NOR",
          "VER",
          "PIA",
          "VER",
          "VER",
          "VER",
          "VER",
          "VER",
          "VER",
          "VER",
          "LEC",
          "ALO",
          "ALO",
          "ALO",
          "ALO",
          "ALO",
          "ALO",
          "ALO",
          "ALO",
          "ALO",
          "TSU",
          "ALO",
          "PIA",
          "PIA",
          "ALO",
          "TSU",
          "TSU",
          "TSU",
          "ALO",
          "PIA",
          "PIA",
          "PIA",
          "PIA",
          "PIA",
          "PIA",
          "PIA",
          "PIA",
          "OCO",
          "TSU",
          "TSU",
          "TSU",
          "PIA",
          "TSU",
          "TSU",
          "PIA",
          "TSU",
          "PIA",
          "ALO",
          "TSU",
          "TSU",
          "VER",
          "VER",
          "VER",
          "TSU",
          "VER",
          "TSU",
          "TSU",
          "TSU",
          "TSU",
          "TSU",
          "STR",
          "TSU",
          "TSU",
          "TSU",
          "VER",
          "PIA",
          "PIA",
          "PIA",
          "PIA",
          "VER",
          "BOT",
          "BOT",
          "BOT",
          "BOT",
          "BOT",
          "VER",
          "VER",
          "VER",
          "VER",
          "VER",
          "PIA",
          "ALO",
          "MAG",
          "MAG",
          "ALB",
          "OCO",
          "OCO",
          "OCO",
          "OCO",
          "OCO",
          "OCO",
          "OCO",
          "OCO",
          "OCO",
          "OCO",
          "GAS",
          "GAS",
          "GAS",
          "GAS",
          "GAS",
          "GAS",
          "GAS",
          "GAS",
          "GAS",
          "GAS",
          "ALB",
          "ALB",
          "ALB",
          "ALB",
          "OCO",
          "OCO",
          "OCO",
          "OCO",
          "OCO",
          "OCO",
          "OCO",
          "OCO",
          "OCO",
          "OCO",
          "GAS",
          "OCO",
          "OCO",
          "OCO",
          "OCO",
          "ALB",
          "ALB",
          "ALB",
          "ALB",
          "ALB",
          "ALB",
          "ALB",
          "OCO",
          "MAG",
          "GAS",
          "GAS",
          "LAW",
          "LAW",
          "LAW",
          "LAW",
          "LAW",
          "LAW",
          "LAW",
          "LAW",
          "LAW",
          "LAW",
          "LAW",
          "LAW",
          "PIA",
          "PIA",
          "PIA",
          "RUS",
          "MAG",
          "MAG",
          "MAG",
          "MAG",
          "MAG",
          "LAW",
          "LAW",
          "LAW",
          "MAG",
          "GAS",
          "GAS",
          "VER",
          "VER",
          "VER",
          "VER",
          "VER",
          "VER",
          "VER",
          "VER",
          "GAS",
          "VER",
          "MAG",
          "MAG",
          "MAG",
          "MAG",
          "MAG",
          "MAG",
          "MAG",
          "MAG",
          "MAG",
          "MAG",
          "VER",
          "RUS",
          "PIA",
          "RUS",
          "SAI",
          "SAI",
          "SAI",
          "SAI",
          "SAI",
          "SAI",
          "SAI",
          "SAI",
          "SAI",
          "SAI",
          "NOR",
          "NOR",
          "NOR",
          "NOR",
          "NOR",
          "SAI",
          "SAI",
          "SAI",
          "RUS",
          "NOR",
          "ZHO",
          "ZHO",
          "ZHO",
          "ZHO",
          "ZHO",
          "ZHO",
          "NOR",
          "ZHO",
          "ZHO",
          "SAI",
          "SAI",
          "SAI",
          "SAI",
          "SAI",
          "SAI",
          "ZHO",
          "NOR",
          "NOR",
          "NOR",
          "LEC",
          "LEC",
          "LEC",
          "LEC",
          "LEC",
          "LEC",
          "LEC",
          "LEC",
          "LEC",
          "LEC",
          "LEC",
          "LEC",
          "LEC",
          "LEC",
          "LEC",
          "LEC",
          "LEC",
          "SAR",
          "SAR",
          "NOR",
          "NOR",
          "NOR",
          "NOR",
          "NOR",
          "PER",
          "PER",
          "NOR",
          "PER",
          "PER",
          "PER",
          "PER",
          "PER",
          "PER",
          "PER",
          "SAR",
          "PER",
          "NOR",
          "SAI",
          "OCO",
          "HUL",
          "HUL",
          "HUL",
          "RUS",
          "RUS",
          "RUS",
          "RUS",
          "RUS",
          "RUS",
          "RUS",
          "RUS",
          "HAM",
          "HAM",
          "HAM",
          "HAM",
          "HUL",
          "HAM",
          "HUL",
          "HUL",
          "STR",
          "RUS",
          "RUS",
          "RUS",
          "STR",
          "STR",
          "STR",
          "STR",
          "NOR",
          "HUL",
          "HUL",
          "HUL",
          "HUL",
          "HUL",
          "HUL",
          "HUL",
          "HAM",
          "RUS",
          "HAM",
          "HAM",
          "RUS",
          "RUS",
          "RUS",
          "RUS",
          "RUS",
          "RUS",
          "RUS",
          "RUS",
          "HAM",
          "RUS",
          "RUS",
          "RUS",
          "NOR",
          "HAM",
          "HAM",
          "RUS",
          "HAM",
          "HAM",
          "HAM",
          "HAM",
          "HAM",
          "HAM",
          "RUS",
          "HAM",
          "ZHO",
          "ZHO",
          "ZHO",
          "SAR",
          "SAR",
          "ZHO",
          "ZHO",
          "SAR",
          "ZHO",
          "ZHO",
          "SAR",
          "SAR",
          "SAR",
          "ZHO",
          "SAR",
          "ZHO",
          "SAR",
          "SAR",
          "ZHO",
          "SAR",
          "SAR",
          "SAR",
          "ZHO",
          "ZHO",
          "SAR",
          "OCO",
          "SAR",
          "OCO",
          "OCO",
          "OCO",
          "OCO",
          "OCO",
          "OCO",
          "OCO",
          "OCO",
          "OCO",
          "SAR",
          "MAG",
          "OCO",
          "MAG",
          "HUL",
          "HUL",
          "HUL",
          "HUL",
          "HUL",
          "HUL",
          "HUL",
          "MAG",
          "MAG",
          "MAG",
          "MAG",
          "MAG",
          "MAG",
          "MAG",
          "MAG",
          "MAG",
          "MAG",
          "MAG",
          "MAG",
          "MAG",
          "MAG",
          "MAG",
          "MAG",
          "MAG",
          "MAG",
          "MAG",
          "HUL",
          "OCO",
          "HUL",
          "HUL",
          "OCO",
          "OCO",
          "OCO",
          "OCO",
          "OCO",
          "OCO",
          "OCO",
          "OCO",
          "OCO",
          "OCO",
          "ZHO",
          "OCO",
          "OCO",
          "OCO",
          "VER",
          "VER",
          "ZHO",
          "ZHO",
          "ZHO",
          "ZHO",
          "ZHO",
          "HUL",
          "HUL",
          "BOT",
          "HUL",
          "HUL",
          "HUL",
          "HUL",
          "ZHO",
          "LAW",
          "ALB",
          "PIA",
          "PIA",
          "PIA",
          "PIA",
          "PIA",
          "HAM",
          "HAM",
          "HAM",
          "HAM",
          "HAM",
          "PIA",
          "HAM",
          "HAM",
          "HAM",
          "HAM",
          "HAM",
          "HAM",
          "HAM",
          "HAM",
          "HAM",
          "HAM",
          "HAM",
          "HAM",
          "PIA",
          "PIA",
          "PIA",
          "TSU",
          "TSU",
          "TSU",
          "TSU",
          "TSU",
          "TSU",
          "TSU",
          "TSU",
          "TSU",
          "TSU",
          "TSU",
          "TSU",
          "TSU",
          "TSU",
          "PIA",
          "PIA",
          "PIA",
          "PIA",
          "VER",
          "PIA",
          "PIA",
          "PIA",
          "PIA",
          "HAM",
          "HAM",
          "SAI",
          "SAI",
          "LEC",
          "LEC",
          "LEC",
          "LEC",
          "LEC",
          "LEC",
          "LEC",
          "LEC",
          "LEC",
          "LEC",
          "LEC",
          "LEC",
          "NOR",
          "NOR",
          "NOR",
          "NOR",
          "NOR",
          "NOR",
          "NOR",
          "NOR",
          "NOR",
          "NOR",
          "NOR",
          "LEC",
          "TSU",
          "LEC",
          "LEC",
          "SAI",
          "SAI",
          "SAI",
          "SAI",
          "SAI",
          "SAI",
          "SAI",
          "SAI",
          "SAI",
          "SAI",
          "SAI",
          "SAI",
          "SAI",
          "NOR",
          "NOR",
          "NOR",
          "NOR",
          "PER",
          "NOR",
          "NOR",
          "LEC",
          "LEC",
          "LEC",
          "LEC",
          "TSU",
          "PIA",
          "TSU",
          "GAS",
          "GAS",
          "GAS",
          "GAS",
          "GAS",
          "VER",
          "VER",
          "VER",
          "VER",
          "VER",
          "GAS",
          "VER",
          "VER",
          "VER",
          "VER",
          "VER",
          "VER",
          "LAW",
          "LAW",
          "TSU",
          "LAW",
          "LAW",
          "VER",
          "GAS",
          "GAS",
          "GAS",
          "ALB",
          "ALB",
          "ALB",
          "ALB",
          "ALB",
          "ALB",
          "ALB",
          "ALB",
          "ALB",
          "ALB",
          "ALB",
          "ALB",
          "VER",
          "GAS",
          "GAS",
          "GAS",
          "GAS",
          "GAS",
          "GAS",
          "GAS",
          "GAS",
          "GAS",
          "GAS",
          "LAW",
          "LAW",
          "LAW",
          "LAW",
          "ALO",
          "ALO",
          "ALO",
          "ALO",
          "ALO",
          "ALO",
          "ALO",
          "ALO",
          "ALO",
          "LAW",
          "ALO",
          "ALO",
          "ALO",
          "ALO",
          "ALO",
          "ALO",
          "ALO",
          "TSU",
          "TSU",
          "TSU",
          "TSU",
          "SAR",
          "ALO",
          "ALO",
          "ALO",
          "ALO",
          "ALO",
          "ALO",
          "ALO",
          "ALO",
          "ALO",
          "ALO",
          "ALO",
          "ALO",
          "LAW",
          "LAW",
          "LAW",
          "LAW",
          "LAW",
          "LAW",
          "LAW",
          "LAW",
          "LAW",
          "LAW",
          "LAW",
          "LAW",
          "LAW",
          "LAW",
          "LAW",
          "LAW",
          "LAW",
          "HUL",
          "HUL",
          "ZHO",
          "HUL",
          "HUL",
          "HUL",
          "HUL",
          "HUL",
          "HUL",
          "HUL",
          "HUL",
          "HUL",
          "HUL",
          "HUL",
          "HUL",
          "HUL",
          "ZHO",
          "SAR",
          "ZHO",
          "ZHO",
          "ZHO",
          "ZHO",
          "ZHO",
          "ZHO",
          "ZHO",
          "ZHO",
          "ZHO",
          "ZHO",
          "ZHO",
          "ZHO",
          "ZHO",
          "ZHO",
          "ZHO",
          "ZHO",
          "PER",
          "ZHO",
          "ZHO",
          "ZHO",
          "ZHO",
          "ZHO",
          "PER"
         ],
         "x0": " ",
         "xaxis": "x",
         "y": [
          null,
          99.767,
          99.672,
          99.582,
          99.518,
          99.465,
          null,
          null,
          99.894,
          null,
          103.793,
          99.055,
          118.763,
          99.532,
          99.129,
          99.65,
          99.952,
          null,
          99.706,
          100.012,
          99.213,
          100.385,
          null,
          null,
          null,
          null,
          101.402,
          99.439,
          99.236,
          99.565,
          99.419,
          100.016,
          99.553,
          99.13,
          100.5,
          98.768,
          118.599,
          99.559,
          99.077,
          99.274,
          98.786,
          null,
          null,
          null,
          null,
          101.825,
          99.648,
          99.479,
          null,
          118.712,
          99.641,
          99.562,
          99.31,
          99.083,
          99.086,
          99.093,
          98.924,
          99.375,
          null,
          98.962,
          99.17,
          100.176,
          null,
          null,
          null,
          null,
          101.804,
          99.548,
          99.513,
          99.398,
          118.683,
          99.579,
          99.614,
          99.677,
          99.441,
          99.168,
          99.108,
          99.189,
          99.966,
          99.941,
          100.115,
          102.396,
          null,
          null,
          null,
          null,
          null,
          122.936,
          101.042,
          100.379,
          100.956,
          100.534,
          100.571,
          100.367,
          100.348,
          null,
          null,
          null,
          100.318,
          99.849,
          100.052,
          100.141,
          null,
          null,
          null,
          102.501,
          100.209,
          100.114,
          100.552,
          null,
          null,
          null,
          null,
          121.131,
          100.757,
          100.35,
          100.151,
          99.829,
          100.376,
          null,
          98.805,
          null,
          102.948,
          99.925,
          99.472,
          null,
          null,
          null,
          null,
          102.32,
          99.949,
          99.697,
          99.15,
          99.138,
          99.488,
          99.508,
          null,
          null,
          null,
          99.884,
          99.811,
          100.245,
          102.431,
          100.032,
          100.451,
          100.886,
          115.777,
          103.153,
          100.335,
          100.283,
          100.248,
          99.96,
          100.256,
          100.154,
          100.284,
          100.27,
          null,
          null,
          null,
          null,
          null,
          null,
          null,
          null,
          98.82,
          98.676,
          null,
          null,
          null,
          98.158,
          97.66,
          null,
          null,
          null,
          null,
          101.172,
          98.373,
          119.754,
          98.689,
          96.748,
          null,
          97.837,
          98.394,
          98.578,
          101.24,
          99.226,
          99.107,
          123.597,
          null,
          99.156,
          99.213,
          98.506,
          99.069,
          101.4,
          99.715,
          99.333,
          99.231,
          99.15,
          98.876,
          98.787,
          99.012,
          98.033,
          null,
          null,
          98.148,
          null,
          98.241,
          98.301,
          98.519,
          98.651,
          null,
          100.041,
          101.105,
          101.133,
          100.092,
          99.263,
          98.412,
          104.729,
          98.126,
          112.044,
          100.142,
          118.522,
          98.669,
          98.622,
          98.651,
          100.664,
          107.276,
          99.684,
          101.023,
          100.575,
          98.117,
          98.506,
          98.458,
          98.621,
          98.557,
          98.698,
          98.697,
          null,
          117.38,
          98.737,
          99.473,
          98.574,
          111.573,
          99.874,
          98.706,
          100.216,
          98.265,
          99.754,
          100.761,
          101.239,
          97.344,
          97.769,
          97.399,
          100.651,
          118.025,
          100.672,
          100.486,
          100.578,
          101.219,
          102.697,
          118.13,
          100.349,
          100.492,
          100.487,
          97.565,
          98.732,
          99.112,
          98.541,
          98.935,
          97.865,
          null,
          140.615,
          null,
          122.755,
          106.852,
          97.903,
          97.946,
          97.714,
          97.722,
          97.592,
          98.263,
          103.68,
          99.841,
          101.122,
          null,
          100.621,
          100.417,
          100.916,
          100.942,
          100.263,
          100.477,
          101.252,
          100.552,
          100.489,
          102.901,
          101.378,
          98.849,
          98.894,
          98.826,
          98.819,
          99.041,
          98.858,
          98.607,
          98.692,
          99.012,
          null,
          null,
          101.436,
          101.273,
          144.519,
          100.016,
          100.478,
          100.535,
          100.401,
          100.497,
          100.689,
          99.825,
          100.552,
          107.894,
          98.243,
          111.462,
          100.029,
          99.924,
          100.746,
          110.904,
          102.28,
          101.14,
          100.45,
          100.764,
          101.168,
          100.904,
          99.631,
          102.504,
          98.656,
          100.098,
          100.809,
          101.015,
          100.586,
          100.178,
          100.279,
          100.392,
          99.715,
          99.871,
          110.559,
          108.962,
          99.212,
          118.568,
          133.847,
          98.405,
          98.44,
          98.88,
          99.501,
          100.681,
          99.656,
          100.279,
          100.344,
          101.565,
          100.596,
          102.855,
          99.53,
          97.279,
          119.628,
          100.264,
          97.82,
          97.788,
          97.733,
          97.655,
          97.92,
          97.599,
          97.599,
          98.181,
          97.424,
          138.051,
          100.56,
          98.373,
          99.064,
          99.208,
          99.285,
          99.437,
          99.268,
          99.634,
          99.755,
          97.558,
          99.055,
          99.779,
          99.679,
          98.681,
          98.819,
          98.177,
          97.753,
          97.889,
          97.859,
          97.879,
          97.987,
          99.188,
          117.366,
          98.064,
          98.137,
          98.372,
          98.793,
          97.402,
          98.537,
          98.715,
          98.716,
          99.071,
          97.646,
          null,
          null,
          null,
          100.207,
          101.337,
          101.028,
          98.019,
          100.729,
          103.013,
          101.42,
          99.098,
          98.452,
          98.702,
          98.588,
          98.634,
          100.915,
          97.553,
          97.757,
          97.7,
          98.661,
          98.889,
          98.476,
          98.523,
          98.586,
          99.317,
          98.385,
          98.12,
          97.88,
          98.005,
          97.945,
          98.166,
          98.169,
          98.574,
          117.256,
          98.703,
          101.129,
          104.961,
          null,
          98.445,
          97.952,
          98.003,
          97.86,
          100.106,
          121.045,
          100.896,
          98.037,
          100.744,
          99.704,
          100.134,
          100.759,
          99.985,
          null,
          null,
          null,
          100.466,
          97.776,
          98.726,
          null,
          100.325,
          100.577,
          102.637,
          97.951,
          98.002,
          98.196,
          118.114,
          98.129,
          98.097,
          98.197,
          97.997,
          100.853,
          98.377,
          98.605,
          98.866,
          101.398,
          98.333,
          100.133,
          99.628,
          99.05,
          97.653,
          97.678,
          97.841,
          100.082,
          99.112,
          99.551,
          103.295,
          96.689,
          119.085,
          98.724,
          99.849,
          100.196,
          108.186,
          110.866,
          99.635,
          98.542,
          98.014,
          98.337,
          98.665,
          100.592,
          98.356,
          98.739,
          98.44,
          99.238,
          98.454,
          98.1,
          98.579,
          119.054,
          98.022,
          97.692,
          98.016,
          118.123,
          98.225,
          97.905,
          99.043,
          98.568,
          98.12,
          99.752,
          98.519,
          98.296,
          97.878,
          98.48,
          97.489,
          99.971,
          99.999,
          100.423,
          100.472,
          100.853,
          100.134,
          100.415,
          100.568,
          100.741,
          99.809,
          104.171,
          101.168,
          100.463,
          100.016,
          100.746,
          100.625,
          119.577,
          101.063,
          100.822,
          100.317,
          99.721,
          139.442,
          102.733,
          100.264,
          100.619,
          117.871,
          100.716,
          97.572,
          97.833,
          97.853,
          97.398,
          97.848,
          97.616,
          98.094,
          97.88,
          97.978,
          98.848,
          98.892,
          97.904,
          98.628,
          99.032,
          98.492,
          101.42,
          99.961,
          99.028,
          98.661,
          98.55,
          118.476,
          98.277,
          98.264,
          98.677,
          98.018,
          98.172,
          98.221,
          98.005,
          97.958,
          97.842,
          99.229,
          98.206,
          98.066,
          98.507,
          98.898,
          98.802,
          102.684,
          99.439,
          98.9,
          98.623,
          98.026,
          98.541,
          98.322,
          97.773,
          97.82,
          97.793,
          98.316,
          98.198,
          100.776,
          98.758,
          98.392,
          98.381,
          98.33,
          100.159,
          98.386,
          98.045,
          98.292,
          94.183,
          116.078,
          99.106,
          108.905,
          110.341,
          99.205,
          118.22,
          120.084,
          99.327,
          null,
          98.328,
          98.587,
          98.418,
          98.809,
          99.867,
          99.327,
          108.437,
          97.117,
          97.131,
          97.231,
          97.795,
          97.017,
          97.353,
          97.352,
          97.531,
          97.417,
          98.74,
          96.88,
          98.416,
          97.999,
          97.217,
          97.265,
          97.293,
          97.47,
          97.243,
          97.118,
          96.509,
          96.736,
          96.182,
          98.451,
          96.704,
          96.459,
          97.296,
          98.51,
          98.768,
          98.419,
          98.218,
          97.92,
          98.097,
          97.816,
          98.013,
          97.768,
          97.977,
          97.898,
          98.093,
          97.853,
          118.908,
          117.096,
          96.632,
          96.328,
          96.597,
          95.914,
          97.882,
          96.848,
          97.251,
          97.843,
          95.611,
          115.716,
          97.259,
          97.389,
          97.196,
          97.234,
          98.401,
          98.056,
          97.355,
          96.921,
          96.362,
          96.672,
          96.493,
          96.891,
          96.781,
          115.831,
          96.052,
          96.059,
          96.078,
          96.378,
          96.411,
          96.587,
          97.728,
          96.942,
          96.741,
          96.71,
          96.755,
          97.34,
          98.538,
          97.518,
          97.604,
          97.118,
          97.349,
          99.668,
          98.346,
          97.516,
          96.783,
          96.798,
          96.724,
          96.677,
          96.378,
          96.364,
          96.187,
          116.164,
          116.781,
          96.003,
          95.972,
          95.247,
          null,
          95.823,
          95.844,
          98.049,
          97.773,
          97.563,
          97.608,
          98.683,
          96.741,
          98.687,
          96.98,
          97.203,
          97,
          96.371,
          118.774,
          95.248,
          95.969,
          95.462,
          95.915,
          95.983,
          96.96,
          96.22,
          96.689,
          96.877,
          96.64,
          97.05,
          96.3,
          100.389,
          98.515,
          98.604,
          98.348,
          98.673,
          96.198,
          97.249,
          97.2,
          97.551,
          100.286,
          100.147,
          99.919,
          100.071,
          100.421,
          100.098,
          99.872,
          100.339,
          99.93,
          99.549,
          99.185,
          148.318,
          95.433,
          104.267,
          98.242,
          97.949,
          98.149,
          97.977,
          98.134,
          98.066,
          97.761,
          97.792,
          97.733,
          98.665,
          98.663,
          98.267,
          98.8,
          99.221,
          99.155,
          98.809,
          98.406,
          98.637,
          98.413,
          98.432,
          98.699,
          98.413,
          98.583,
          98.182,
          98.059,
          98.036,
          98,
          98.139,
          98.009,
          98.27,
          98.499,
          98.264,
          99.867,
          99.1,
          103.371,
          116.635,
          99.232,
          97.308,
          98.749,
          97.273,
          97.582,
          97.628,
          97.335,
          97.461,
          97.203,
          99.65,
          98.357,
          98.489,
          98.478,
          98.512,
          98.643,
          98.696,
          98.343,
          98.268,
          98.423,
          98.369,
          98.642,
          98.802,
          98.819,
          99.124,
          98.832,
          98.667,
          118.827,
          98.397,
          97.713,
          97.655,
          97.791,
          97.929,
          97.86,
          97.744,
          97.628,
          118.934,
          99.136,
          97.25,
          97.445,
          97.309,
          97.395,
          97.656,
          98.39,
          97.811,
          98.513,
          137.039,
          98.098,
          118.128,
          98.278,
          98.465,
          98.643,
          98.649,
          98.641,
          98.255,
          98.43,
          98.211,
          98.444,
          97.992,
          98.191,
          97.906,
          98.213,
          98.202,
          null,
          98.264,
          98.232,
          98.585,
          99.73,
          98.332,
          132.535
         ],
         "y0": " ",
         "yaxis": "y"
        }
       ],
       "layout": {
        "boxmode": "group",
        "legend": {
         "tracegroupgap": 0
        },
        "template": {
         "data": {
          "bar": [
           {
            "error_x": {
             "color": "#2a3f5f"
            },
            "error_y": {
             "color": "#2a3f5f"
            },
            "marker": {
             "line": {
              "color": "#E5ECF6",
              "width": 0.5
             },
             "pattern": {
              "fillmode": "overlay",
              "size": 10,
              "solidity": 0.2
             }
            },
            "type": "bar"
           }
          ],
          "barpolar": [
           {
            "marker": {
             "line": {
              "color": "#E5ECF6",
              "width": 0.5
             },
             "pattern": {
              "fillmode": "overlay",
              "size": 10,
              "solidity": 0.2
             }
            },
            "type": "barpolar"
           }
          ],
          "carpet": [
           {
            "aaxis": {
             "endlinecolor": "#2a3f5f",
             "gridcolor": "white",
             "linecolor": "white",
             "minorgridcolor": "white",
             "startlinecolor": "#2a3f5f"
            },
            "baxis": {
             "endlinecolor": "#2a3f5f",
             "gridcolor": "white",
             "linecolor": "white",
             "minorgridcolor": "white",
             "startlinecolor": "#2a3f5f"
            },
            "type": "carpet"
           }
          ],
          "choropleth": [
           {
            "colorbar": {
             "outlinewidth": 0,
             "ticks": ""
            },
            "type": "choropleth"
           }
          ],
          "contour": [
           {
            "colorbar": {
             "outlinewidth": 0,
             "ticks": ""
            },
            "colorscale": [
             [
              0,
              "#0d0887"
             ],
             [
              0.1111111111111111,
              "#46039f"
             ],
             [
              0.2222222222222222,
              "#7201a8"
             ],
             [
              0.3333333333333333,
              "#9c179e"
             ],
             [
              0.4444444444444444,
              "#bd3786"
             ],
             [
              0.5555555555555556,
              "#d8576b"
             ],
             [
              0.6666666666666666,
              "#ed7953"
             ],
             [
              0.7777777777777778,
              "#fb9f3a"
             ],
             [
              0.8888888888888888,
              "#fdca26"
             ],
             [
              1,
              "#f0f921"
             ]
            ],
            "type": "contour"
           }
          ],
          "contourcarpet": [
           {
            "colorbar": {
             "outlinewidth": 0,
             "ticks": ""
            },
            "type": "contourcarpet"
           }
          ],
          "heatmap": [
           {
            "colorbar": {
             "outlinewidth": 0,
             "ticks": ""
            },
            "colorscale": [
             [
              0,
              "#0d0887"
             ],
             [
              0.1111111111111111,
              "#46039f"
             ],
             [
              0.2222222222222222,
              "#7201a8"
             ],
             [
              0.3333333333333333,
              "#9c179e"
             ],
             [
              0.4444444444444444,
              "#bd3786"
             ],
             [
              0.5555555555555556,
              "#d8576b"
             ],
             [
              0.6666666666666666,
              "#ed7953"
             ],
             [
              0.7777777777777778,
              "#fb9f3a"
             ],
             [
              0.8888888888888888,
              "#fdca26"
             ],
             [
              1,
              "#f0f921"
             ]
            ],
            "type": "heatmap"
           }
          ],
          "heatmapgl": [
           {
            "colorbar": {
             "outlinewidth": 0,
             "ticks": ""
            },
            "colorscale": [
             [
              0,
              "#0d0887"
             ],
             [
              0.1111111111111111,
              "#46039f"
             ],
             [
              0.2222222222222222,
              "#7201a8"
             ],
             [
              0.3333333333333333,
              "#9c179e"
             ],
             [
              0.4444444444444444,
              "#bd3786"
             ],
             [
              0.5555555555555556,
              "#d8576b"
             ],
             [
              0.6666666666666666,
              "#ed7953"
             ],
             [
              0.7777777777777778,
              "#fb9f3a"
             ],
             [
              0.8888888888888888,
              "#fdca26"
             ],
             [
              1,
              "#f0f921"
             ]
            ],
            "type": "heatmapgl"
           }
          ],
          "histogram": [
           {
            "marker": {
             "pattern": {
              "fillmode": "overlay",
              "size": 10,
              "solidity": 0.2
             }
            },
            "type": "histogram"
           }
          ],
          "histogram2d": [
           {
            "colorbar": {
             "outlinewidth": 0,
             "ticks": ""
            },
            "colorscale": [
             [
              0,
              "#0d0887"
             ],
             [
              0.1111111111111111,
              "#46039f"
             ],
             [
              0.2222222222222222,
              "#7201a8"
             ],
             [
              0.3333333333333333,
              "#9c179e"
             ],
             [
              0.4444444444444444,
              "#bd3786"
             ],
             [
              0.5555555555555556,
              "#d8576b"
             ],
             [
              0.6666666666666666,
              "#ed7953"
             ],
             [
              0.7777777777777778,
              "#fb9f3a"
             ],
             [
              0.8888888888888888,
              "#fdca26"
             ],
             [
              1,
              "#f0f921"
             ]
            ],
            "type": "histogram2d"
           }
          ],
          "histogram2dcontour": [
           {
            "colorbar": {
             "outlinewidth": 0,
             "ticks": ""
            },
            "colorscale": [
             [
              0,
              "#0d0887"
             ],
             [
              0.1111111111111111,
              "#46039f"
             ],
             [
              0.2222222222222222,
              "#7201a8"
             ],
             [
              0.3333333333333333,
              "#9c179e"
             ],
             [
              0.4444444444444444,
              "#bd3786"
             ],
             [
              0.5555555555555556,
              "#d8576b"
             ],
             [
              0.6666666666666666,
              "#ed7953"
             ],
             [
              0.7777777777777778,
              "#fb9f3a"
             ],
             [
              0.8888888888888888,
              "#fdca26"
             ],
             [
              1,
              "#f0f921"
             ]
            ],
            "type": "histogram2dcontour"
           }
          ],
          "mesh3d": [
           {
            "colorbar": {
             "outlinewidth": 0,
             "ticks": ""
            },
            "type": "mesh3d"
           }
          ],
          "parcoords": [
           {
            "line": {
             "colorbar": {
              "outlinewidth": 0,
              "ticks": ""
             }
            },
            "type": "parcoords"
           }
          ],
          "pie": [
           {
            "automargin": true,
            "type": "pie"
           }
          ],
          "scatter": [
           {
            "fillpattern": {
             "fillmode": "overlay",
             "size": 10,
             "solidity": 0.2
            },
            "type": "scatter"
           }
          ],
          "scatter3d": [
           {
            "line": {
             "colorbar": {
              "outlinewidth": 0,
              "ticks": ""
             }
            },
            "marker": {
             "colorbar": {
              "outlinewidth": 0,
              "ticks": ""
             }
            },
            "type": "scatter3d"
           }
          ],
          "scattercarpet": [
           {
            "marker": {
             "colorbar": {
              "outlinewidth": 0,
              "ticks": ""
             }
            },
            "type": "scattercarpet"
           }
          ],
          "scattergeo": [
           {
            "marker": {
             "colorbar": {
              "outlinewidth": 0,
              "ticks": ""
             }
            },
            "type": "scattergeo"
           }
          ],
          "scattergl": [
           {
            "marker": {
             "colorbar": {
              "outlinewidth": 0,
              "ticks": ""
             }
            },
            "type": "scattergl"
           }
          ],
          "scattermapbox": [
           {
            "marker": {
             "colorbar": {
              "outlinewidth": 0,
              "ticks": ""
             }
            },
            "type": "scattermapbox"
           }
          ],
          "scatterpolar": [
           {
            "marker": {
             "colorbar": {
              "outlinewidth": 0,
              "ticks": ""
             }
            },
            "type": "scatterpolar"
           }
          ],
          "scatterpolargl": [
           {
            "marker": {
             "colorbar": {
              "outlinewidth": 0,
              "ticks": ""
             }
            },
            "type": "scatterpolargl"
           }
          ],
          "scatterternary": [
           {
            "marker": {
             "colorbar": {
              "outlinewidth": 0,
              "ticks": ""
             }
            },
            "type": "scatterternary"
           }
          ],
          "surface": [
           {
            "colorbar": {
             "outlinewidth": 0,
             "ticks": ""
            },
            "colorscale": [
             [
              0,
              "#0d0887"
             ],
             [
              0.1111111111111111,
              "#46039f"
             ],
             [
              0.2222222222222222,
              "#7201a8"
             ],
             [
              0.3333333333333333,
              "#9c179e"
             ],
             [
              0.4444444444444444,
              "#bd3786"
             ],
             [
              0.5555555555555556,
              "#d8576b"
             ],
             [
              0.6666666666666666,
              "#ed7953"
             ],
             [
              0.7777777777777778,
              "#fb9f3a"
             ],
             [
              0.8888888888888888,
              "#fdca26"
             ],
             [
              1,
              "#f0f921"
             ]
            ],
            "type": "surface"
           }
          ],
          "table": [
           {
            "cells": {
             "fill": {
              "color": "#EBF0F8"
             },
             "line": {
              "color": "white"
             }
            },
            "header": {
             "fill": {
              "color": "#C8D4E3"
             },
             "line": {
              "color": "white"
             }
            },
            "type": "table"
           }
          ]
         },
         "layout": {
          "annotationdefaults": {
           "arrowcolor": "#2a3f5f",
           "arrowhead": 0,
           "arrowwidth": 1
          },
          "autotypenumbers": "strict",
          "coloraxis": {
           "colorbar": {
            "outlinewidth": 0,
            "ticks": ""
           }
          },
          "colorscale": {
           "diverging": [
            [
             0,
             "#8e0152"
            ],
            [
             0.1,
             "#c51b7d"
            ],
            [
             0.2,
             "#de77ae"
            ],
            [
             0.3,
             "#f1b6da"
            ],
            [
             0.4,
             "#fde0ef"
            ],
            [
             0.5,
             "#f7f7f7"
            ],
            [
             0.6,
             "#e6f5d0"
            ],
            [
             0.7,
             "#b8e186"
            ],
            [
             0.8,
             "#7fbc41"
            ],
            [
             0.9,
             "#4d9221"
            ],
            [
             1,
             "#276419"
            ]
           ],
           "sequential": [
            [
             0,
             "#0d0887"
            ],
            [
             0.1111111111111111,
             "#46039f"
            ],
            [
             0.2222222222222222,
             "#7201a8"
            ],
            [
             0.3333333333333333,
             "#9c179e"
            ],
            [
             0.4444444444444444,
             "#bd3786"
            ],
            [
             0.5555555555555556,
             "#d8576b"
            ],
            [
             0.6666666666666666,
             "#ed7953"
            ],
            [
             0.7777777777777778,
             "#fb9f3a"
            ],
            [
             0.8888888888888888,
             "#fdca26"
            ],
            [
             1,
             "#f0f921"
            ]
           ],
           "sequentialminus": [
            [
             0,
             "#0d0887"
            ],
            [
             0.1111111111111111,
             "#46039f"
            ],
            [
             0.2222222222222222,
             "#7201a8"
            ],
            [
             0.3333333333333333,
             "#9c179e"
            ],
            [
             0.4444444444444444,
             "#bd3786"
            ],
            [
             0.5555555555555556,
             "#d8576b"
            ],
            [
             0.6666666666666666,
             "#ed7953"
            ],
            [
             0.7777777777777778,
             "#fb9f3a"
            ],
            [
             0.8888888888888888,
             "#fdca26"
            ],
            [
             1,
             "#f0f921"
            ]
           ]
          },
          "colorway": [
           "#636efa",
           "#EF553B",
           "#00cc96",
           "#ab63fa",
           "#FFA15A",
           "#19d3f3",
           "#FF6692",
           "#B6E880",
           "#FF97FF",
           "#FECB52"
          ],
          "font": {
           "color": "#2a3f5f"
          },
          "geo": {
           "bgcolor": "white",
           "lakecolor": "white",
           "landcolor": "#E5ECF6",
           "showlakes": true,
           "showland": true,
           "subunitcolor": "white"
          },
          "hoverlabel": {
           "align": "left"
          },
          "hovermode": "closest",
          "mapbox": {
           "style": "light"
          },
          "paper_bgcolor": "white",
          "plot_bgcolor": "#E5ECF6",
          "polar": {
           "angularaxis": {
            "gridcolor": "white",
            "linecolor": "white",
            "ticks": ""
           },
           "bgcolor": "#E5ECF6",
           "radialaxis": {
            "gridcolor": "white",
            "linecolor": "white",
            "ticks": ""
           }
          },
          "scene": {
           "xaxis": {
            "backgroundcolor": "#E5ECF6",
            "gridcolor": "white",
            "gridwidth": 2,
            "linecolor": "white",
            "showbackground": true,
            "ticks": "",
            "zerolinecolor": "white"
           },
           "yaxis": {
            "backgroundcolor": "#E5ECF6",
            "gridcolor": "white",
            "gridwidth": 2,
            "linecolor": "white",
            "showbackground": true,
            "ticks": "",
            "zerolinecolor": "white"
           },
           "zaxis": {
            "backgroundcolor": "#E5ECF6",
            "gridcolor": "white",
            "gridwidth": 2,
            "linecolor": "white",
            "showbackground": true,
            "ticks": "",
            "zerolinecolor": "white"
           }
          },
          "shapedefaults": {
           "line": {
            "color": "#2a3f5f"
           }
          },
          "ternary": {
           "aaxis": {
            "gridcolor": "white",
            "linecolor": "white",
            "ticks": ""
           },
           "baxis": {
            "gridcolor": "white",
            "linecolor": "white",
            "ticks": ""
           },
           "bgcolor": "#E5ECF6",
           "caxis": {
            "gridcolor": "white",
            "linecolor": "white",
            "ticks": ""
           }
          },
          "title": {
           "x": 0.05
          },
          "xaxis": {
           "automargin": true,
           "gridcolor": "white",
           "linecolor": "white",
           "ticks": "",
           "title": {
            "standoff": 15
           },
           "zerolinecolor": "white",
           "zerolinewidth": 2
          },
          "yaxis": {
           "automargin": true,
           "gridcolor": "white",
           "linecolor": "white",
           "ticks": "",
           "title": {
            "standoff": 15
           },
           "zerolinecolor": "white",
           "zerolinewidth": 2
          }
         }
        },
        "title": {
         "text": "Boxplot of Lap Times by Driver and Stint"
        },
        "xaxis": {
         "anchor": "y",
         "categoryarray": [
          "VER",
          "NOR",
          "PIA",
          "LEC",
          "HAM",
          "SAI",
          "RUS",
          "ALO",
          "OCO",
          "GAS",
          "LAW",
          "TSU",
          "ZHO",
          "STR",
          "HUL",
          "MAG",
          "ALB",
          "SAR",
          "PER",
          "BOT"
         ],
         "categoryorder": "array",
         "domain": [
          0,
          1
         ],
         "tickangle": -45,
         "title": {
          "text": "Driver"
         }
        },
        "yaxis": {
         "anchor": "x",
         "domain": [
          0,
          1
         ],
         "range": [
          94.183,
          105
         ],
         "title": {
          "text": "Lap Time (seconds)"
         }
        }
       }
      }
     },
     "metadata": {},
     "output_type": "display_data"
    }
   ],
   "source": [
    "import plotly.express as px\n",
    "\n",
    "# Création du boxplot avec plotly\n",
    "fig = px.box(\n",
    "    df,\n",
    "    x=\"Driver\",\n",
    "    y=\"LapTime_seconds\",\n",
    "    category_orders=race_final_position,\n",
    "    #color=\"Stint\",\n",
    "    #category_orders={\"Driver\": avg_times.index.tolist()},  # pour ordonner les pilotes\n",
    "    #color_discrete_map={'SOFT':'red','MEDIUM':'yellow','HARD':'black','TEST_UNKNOWN':'purple'},  # utilisez votre dictionnaire de couleurs\n",
    "    title='Boxplot of Lap Times by Driver and Stint',\n",
    "    labels={\"LapTime_seconds\": \"Lap Time (seconds)\", \"Driver\": \"Driver\"},\n",
    "    points='all',    \n",
    "    )\n",
    "# Rotation des labels de l'axe x\n",
    "fig.update_layout(xaxis_tickangle=-45,yaxis_range=[df['LapTime_seconds'].min(), 105])\n",
    "\n",
    "#yaxis_range=[df['LapTime_seconds'].min(), 105]\n",
    "# Affichage du graphique\n",
    "fig.show()"
   ]
  },
  {
   "cell_type": "code",
   "execution_count": 38,
   "metadata": {},
   "outputs": [
    {
     "data": {
      "text/html": [
       "<div>\n",
       "<style scoped>\n",
       "    .dataframe tbody tr th:only-of-type {\n",
       "        vertical-align: middle;\n",
       "    }\n",
       "\n",
       "    .dataframe tbody tr th {\n",
       "        vertical-align: top;\n",
       "    }\n",
       "\n",
       "    .dataframe thead th {\n",
       "        text-align: right;\n",
       "    }\n",
       "</style>\n",
       "<table border=\"1\" class=\"dataframe\">\n",
       "  <thead>\n",
       "    <tr style=\"text-align: right;\">\n",
       "      <th></th>\n",
       "      <th>DriverNumber</th>\n",
       "      <th>BroadcastName</th>\n",
       "      <th>Abbreviation</th>\n",
       "      <th>DriverId</th>\n",
       "      <th>TeamName</th>\n",
       "      <th>TeamColor</th>\n",
       "      <th>TeamId</th>\n",
       "      <th>FirstName</th>\n",
       "      <th>LastName</th>\n",
       "      <th>FullName</th>\n",
       "      <th>...</th>\n",
       "      <th>CountryCode</th>\n",
       "      <th>Position</th>\n",
       "      <th>ClassifiedPosition</th>\n",
       "      <th>GridPosition</th>\n",
       "      <th>Q1</th>\n",
       "      <th>Q2</th>\n",
       "      <th>Q3</th>\n",
       "      <th>Time</th>\n",
       "      <th>Status</th>\n",
       "      <th>Points</th>\n",
       "    </tr>\n",
       "  </thead>\n",
       "  <tbody>\n",
       "    <tr>\n",
       "      <th>1</th>\n",
       "      <td>1</td>\n",
       "      <td>M VERSTAPPEN</td>\n",
       "      <td>VER</td>\n",
       "      <td>max_verstappen</td>\n",
       "      <td>Red Bull Racing</td>\n",
       "      <td>3671C6</td>\n",
       "      <td>red_bull</td>\n",
       "      <td>Max</td>\n",
       "      <td>Verstappen</td>\n",
       "      <td>Max Verstappen</td>\n",
       "      <td>...</td>\n",
       "      <td>NED</td>\n",
       "      <td>1.0</td>\n",
       "      <td></td>\n",
       "      <td>NaN</td>\n",
       "      <td>0 days 00:01:20.851000</td>\n",
       "      <td>0 days 00:01:19.092000</td>\n",
       "      <td>0 days 00:01:25.858000</td>\n",
       "      <td>NaT</td>\n",
       "      <td></td>\n",
       "      <td>NaN</td>\n",
       "    </tr>\n",
       "    <tr>\n",
       "      <th>27</th>\n",
       "      <td>27</td>\n",
       "      <td>N HULKENBERG</td>\n",
       "      <td>HUL</td>\n",
       "      <td>hulkenberg</td>\n",
       "      <td>Haas F1 Team</td>\n",
       "      <td>B6BABD</td>\n",
       "      <td>haas</td>\n",
       "      <td>Nico</td>\n",
       "      <td>Hulkenberg</td>\n",
       "      <td>Nico Hulkenberg</td>\n",
       "      <td>...</td>\n",
       "      <td>GER</td>\n",
       "      <td>2.0</td>\n",
       "      <td></td>\n",
       "      <td>NaN</td>\n",
       "      <td>0 days 00:01:22.730000</td>\n",
       "      <td>0 days 00:01:20.305000</td>\n",
       "      <td>0 days 00:01:27.102000</td>\n",
       "      <td>NaT</td>\n",
       "      <td></td>\n",
       "      <td>NaN</td>\n",
       "    </tr>\n",
       "    <tr>\n",
       "      <th>14</th>\n",
       "      <td>14</td>\n",
       "      <td>F ALONSO</td>\n",
       "      <td>ALO</td>\n",
       "      <td>alonso</td>\n",
       "      <td>Aston Martin</td>\n",
       "      <td>358C75</td>\n",
       "      <td>aston_martin</td>\n",
       "      <td>Fernando</td>\n",
       "      <td>Alonso</td>\n",
       "      <td>Fernando Alonso</td>\n",
       "      <td>...</td>\n",
       "      <td>ESP</td>\n",
       "      <td>3.0</td>\n",
       "      <td></td>\n",
       "      <td>NaN</td>\n",
       "      <td>0 days 00:01:21.481000</td>\n",
       "      <td>0 days 00:01:19.776000</td>\n",
       "      <td>0 days 00:01:27.286000</td>\n",
       "      <td>NaT</td>\n",
       "      <td></td>\n",
       "      <td>NaN</td>\n",
       "    </tr>\n",
       "    <tr>\n",
       "      <th>44</th>\n",
       "      <td>44</td>\n",
       "      <td>L HAMILTON</td>\n",
       "      <td>HAM</td>\n",
       "      <td>hamilton</td>\n",
       "      <td>Mercedes</td>\n",
       "      <td>6CD3BF</td>\n",
       "      <td>mercedes</td>\n",
       "      <td>Lewis</td>\n",
       "      <td>Hamilton</td>\n",
       "      <td>Lewis Hamilton</td>\n",
       "      <td>...</td>\n",
       "      <td>GBR</td>\n",
       "      <td>4.0</td>\n",
       "      <td></td>\n",
       "      <td>NaN</td>\n",
       "      <td>0 days 00:01:21.554000</td>\n",
       "      <td>0 days 00:01:20.426000</td>\n",
       "      <td>0 days 00:01:27.627000</td>\n",
       "      <td>NaT</td>\n",
       "      <td></td>\n",
       "      <td>NaN</td>\n",
       "    </tr>\n",
       "    <tr>\n",
       "      <th>63</th>\n",
       "      <td>63</td>\n",
       "      <td>G RUSSELL</td>\n",
       "      <td>RUS</td>\n",
       "      <td>russell</td>\n",
       "      <td>Mercedes</td>\n",
       "      <td>6CD3BF</td>\n",
       "      <td>mercedes</td>\n",
       "      <td>George</td>\n",
       "      <td>Russell</td>\n",
       "      <td>George Russell</td>\n",
       "      <td>...</td>\n",
       "      <td>GBR</td>\n",
       "      <td>5.0</td>\n",
       "      <td></td>\n",
       "      <td>NaN</td>\n",
       "      <td>0 days 00:01:21.798000</td>\n",
       "      <td>0 days 00:01:20.098000</td>\n",
       "      <td>0 days 00:01:27.893000</td>\n",
       "      <td>NaT</td>\n",
       "      <td></td>\n",
       "      <td>NaN</td>\n",
       "    </tr>\n",
       "    <tr>\n",
       "      <th>31</th>\n",
       "      <td>31</td>\n",
       "      <td>E OCON</td>\n",
       "      <td>OCO</td>\n",
       "      <td>ocon</td>\n",
       "      <td>Alpine</td>\n",
       "      <td>2293D1</td>\n",
       "      <td>alpine</td>\n",
       "      <td>Esteban</td>\n",
       "      <td>Ocon</td>\n",
       "      <td>Esteban Ocon</td>\n",
       "      <td>...</td>\n",
       "      <td>FRA</td>\n",
       "      <td>6.0</td>\n",
       "      <td></td>\n",
       "      <td>NaN</td>\n",
       "      <td>0 days 00:01:22.114000</td>\n",
       "      <td>0 days 00:01:20.406000</td>\n",
       "      <td>0 days 00:01:27.945000</td>\n",
       "      <td>NaT</td>\n",
       "      <td></td>\n",
       "      <td>NaN</td>\n",
       "    </tr>\n",
       "    <tr>\n",
       "      <th>4</th>\n",
       "      <td>4</td>\n",
       "      <td>L NORRIS</td>\n",
       "      <td>NOR</td>\n",
       "      <td>norris</td>\n",
       "      <td>McLaren</td>\n",
       "      <td>F58020</td>\n",
       "      <td>mclaren</td>\n",
       "      <td>Lando</td>\n",
       "      <td>Norris</td>\n",
       "      <td>Lando Norris</td>\n",
       "      <td>...</td>\n",
       "      <td>GBR</td>\n",
       "      <td>7.0</td>\n",
       "      <td></td>\n",
       "      <td>NaN</td>\n",
       "      <td>0 days 00:01:21.998000</td>\n",
       "      <td>0 days 00:01:19.347000</td>\n",
       "      <td>0 days 00:01:28.046000</td>\n",
       "      <td>NaT</td>\n",
       "      <td></td>\n",
       "      <td>NaN</td>\n",
       "    </tr>\n",
       "    <tr>\n",
       "      <th>55</th>\n",
       "      <td>55</td>\n",
       "      <td>C SAINZ</td>\n",
       "      <td>SAI</td>\n",
       "      <td>sainz</td>\n",
       "      <td>Ferrari</td>\n",
       "      <td>F91536</td>\n",
       "      <td>ferrari</td>\n",
       "      <td>Carlos</td>\n",
       "      <td>Sainz</td>\n",
       "      <td>Carlos Sainz</td>\n",
       "      <td>...</td>\n",
       "      <td>ESP</td>\n",
       "      <td>8.0</td>\n",
       "      <td></td>\n",
       "      <td>NaN</td>\n",
       "      <td>0 days 00:01:22.248000</td>\n",
       "      <td>0 days 00:01:19.856000</td>\n",
       "      <td>0 days 00:01:29.294000</td>\n",
       "      <td>NaT</td>\n",
       "      <td></td>\n",
       "      <td>NaN</td>\n",
       "    </tr>\n",
       "    <tr>\n",
       "      <th>81</th>\n",
       "      <td>81</td>\n",
       "      <td>O PIASTRI</td>\n",
       "      <td>PIA</td>\n",
       "      <td>piastri</td>\n",
       "      <td>McLaren</td>\n",
       "      <td>F58020</td>\n",
       "      <td>mclaren</td>\n",
       "      <td>Oscar</td>\n",
       "      <td>Piastri</td>\n",
       "      <td>Oscar Piastri</td>\n",
       "      <td>...</td>\n",
       "      <td>AUS</td>\n",
       "      <td>9.0</td>\n",
       "      <td></td>\n",
       "      <td>NaN</td>\n",
       "      <td>0 days 00:01:22.190000</td>\n",
       "      <td>0 days 00:01:19.659000</td>\n",
       "      <td>0 days 00:01:31.349000</td>\n",
       "      <td>NaT</td>\n",
       "      <td></td>\n",
       "      <td>NaN</td>\n",
       "    </tr>\n",
       "    <tr>\n",
       "      <th>23</th>\n",
       "      <td>23</td>\n",
       "      <td>A ALBON</td>\n",
       "      <td>ALB</td>\n",
       "      <td>albon</td>\n",
       "      <td>Williams</td>\n",
       "      <td>37BEDD</td>\n",
       "      <td>williams</td>\n",
       "      <td>Alexander</td>\n",
       "      <td>Albon</td>\n",
       "      <td>Alexander Albon</td>\n",
       "      <td>...</td>\n",
       "      <td>THA</td>\n",
       "      <td>10.0</td>\n",
       "      <td></td>\n",
       "      <td>NaN</td>\n",
       "      <td>0 days 00:01:21.938000</td>\n",
       "      <td>0 days 00:01:18.725000</td>\n",
       "      <td>NaT</td>\n",
       "      <td>NaT</td>\n",
       "      <td></td>\n",
       "      <td>NaN</td>\n",
       "    </tr>\n",
       "    <tr>\n",
       "      <th>16</th>\n",
       "      <td>16</td>\n",
       "      <td>C LECLERC</td>\n",
       "      <td>LEC</td>\n",
       "      <td>leclerc</td>\n",
       "      <td>Ferrari</td>\n",
       "      <td>F91536</td>\n",
       "      <td>ferrari</td>\n",
       "      <td>Charles</td>\n",
       "      <td>Leclerc</td>\n",
       "      <td>Charles Leclerc</td>\n",
       "      <td>...</td>\n",
       "      <td>MON</td>\n",
       "      <td>11.0</td>\n",
       "      <td></td>\n",
       "      <td>NaN</td>\n",
       "      <td>0 days 00:01:21.843000</td>\n",
       "      <td>0 days 00:01:20.615000</td>\n",
       "      <td>NaT</td>\n",
       "      <td>NaT</td>\n",
       "      <td></td>\n",
       "      <td>NaN</td>\n",
       "    </tr>\n",
       "    <tr>\n",
       "      <th>11</th>\n",
       "      <td>11</td>\n",
       "      <td>S PEREZ</td>\n",
       "      <td>PER</td>\n",
       "      <td>perez</td>\n",
       "      <td>Red Bull Racing</td>\n",
       "      <td>3671C6</td>\n",
       "      <td>red_bull</td>\n",
       "      <td>Sergio</td>\n",
       "      <td>Perez</td>\n",
       "      <td>Sergio Perez</td>\n",
       "      <td>...</td>\n",
       "      <td>MEX</td>\n",
       "      <td>12.0</td>\n",
       "      <td></td>\n",
       "      <td>NaN</td>\n",
       "      <td>0 days 00:01:22.151000</td>\n",
       "      <td>0 days 00:01:20.959000</td>\n",
       "      <td>NaT</td>\n",
       "      <td>NaT</td>\n",
       "      <td></td>\n",
       "      <td>NaN</td>\n",
       "    </tr>\n",
       "    <tr>\n",
       "      <th>18</th>\n",
       "      <td>18</td>\n",
       "      <td>L STROLL</td>\n",
       "      <td>STR</td>\n",
       "      <td>stroll</td>\n",
       "      <td>Aston Martin</td>\n",
       "      <td>358C75</td>\n",
       "      <td>aston_martin</td>\n",
       "      <td>Lance</td>\n",
       "      <td>Stroll</td>\n",
       "      <td>Lance Stroll</td>\n",
       "      <td>...</td>\n",
       "      <td>CAN</td>\n",
       "      <td>13.0</td>\n",
       "      <td></td>\n",
       "      <td>NaN</td>\n",
       "      <td>0 days 00:01:22.677000</td>\n",
       "      <td>0 days 00:01:21.484000</td>\n",
       "      <td>NaT</td>\n",
       "      <td>NaT</td>\n",
       "      <td></td>\n",
       "      <td>NaN</td>\n",
       "    </tr>\n",
       "    <tr>\n",
       "      <th>20</th>\n",
       "      <td>20</td>\n",
       "      <td>K MAGNUSSEN</td>\n",
       "      <td>MAG</td>\n",
       "      <td>kevin_magnussen</td>\n",
       "      <td>Haas F1 Team</td>\n",
       "      <td>B6BABD</td>\n",
       "      <td>haas</td>\n",
       "      <td>Kevin</td>\n",
       "      <td>Magnussen</td>\n",
       "      <td>Kevin Magnussen</td>\n",
       "      <td>...</td>\n",
       "      <td>DEN</td>\n",
       "      <td>14.0</td>\n",
       "      <td></td>\n",
       "      <td>NaN</td>\n",
       "      <td>0 days 00:01:22.351000</td>\n",
       "      <td>0 days 00:01:21.678000</td>\n",
       "      <td>NaT</td>\n",
       "      <td>NaT</td>\n",
       "      <td></td>\n",
       "      <td>NaN</td>\n",
       "    </tr>\n",
       "    <tr>\n",
       "      <th>77</th>\n",
       "      <td>77</td>\n",
       "      <td>V BOTTAS</td>\n",
       "      <td>BOT</td>\n",
       "      <td>bottas</td>\n",
       "      <td>Alfa Romeo</td>\n",
       "      <td>C92D4B</td>\n",
       "      <td>alfa</td>\n",
       "      <td>Valtteri</td>\n",
       "      <td>Bottas</td>\n",
       "      <td>Valtteri Bottas</td>\n",
       "      <td>...</td>\n",
       "      <td>FIN</td>\n",
       "      <td>15.0</td>\n",
       "      <td></td>\n",
       "      <td>NaN</td>\n",
       "      <td>0 days 00:01:22.332000</td>\n",
       "      <td>0 days 00:01:21.821000</td>\n",
       "      <td>NaT</td>\n",
       "      <td>NaT</td>\n",
       "      <td></td>\n",
       "      <td>NaN</td>\n",
       "    </tr>\n",
       "    <tr>\n",
       "      <th>22</th>\n",
       "      <td>22</td>\n",
       "      <td>Y TSUNODA</td>\n",
       "      <td>TSU</td>\n",
       "      <td>tsunoda</td>\n",
       "      <td>AlphaTauri</td>\n",
       "      <td>5E8FAA</td>\n",
       "      <td>alphatauri</td>\n",
       "      <td>Yuki</td>\n",
       "      <td>Tsunoda</td>\n",
       "      <td>Yuki Tsunoda</td>\n",
       "      <td>...</td>\n",
       "      <td>JPN</td>\n",
       "      <td>16.0</td>\n",
       "      <td></td>\n",
       "      <td>NaN</td>\n",
       "      <td>0 days 00:01:22.746000</td>\n",
       "      <td>NaT</td>\n",
       "      <td>NaT</td>\n",
       "      <td>NaT</td>\n",
       "      <td></td>\n",
       "      <td>NaN</td>\n",
       "    </tr>\n",
       "    <tr>\n",
       "      <th>10</th>\n",
       "      <td>10</td>\n",
       "      <td>P GASLY</td>\n",
       "      <td>GAS</td>\n",
       "      <td>gasly</td>\n",
       "      <td>Alpine</td>\n",
       "      <td>2293D1</td>\n",
       "      <td>alpine</td>\n",
       "      <td>Pierre</td>\n",
       "      <td>Gasly</td>\n",
       "      <td>Pierre Gasly</td>\n",
       "      <td>...</td>\n",
       "      <td>FRA</td>\n",
       "      <td>17.0</td>\n",
       "      <td></td>\n",
       "      <td>NaN</td>\n",
       "      <td>0 days 00:01:22.886000</td>\n",
       "      <td>NaT</td>\n",
       "      <td>NaT</td>\n",
       "      <td>NaT</td>\n",
       "      <td></td>\n",
       "      <td>NaN</td>\n",
       "    </tr>\n",
       "    <tr>\n",
       "      <th>21</th>\n",
       "      <td>21</td>\n",
       "      <td>N DE VRIES</td>\n",
       "      <td>DEV</td>\n",
       "      <td>de_vries</td>\n",
       "      <td>AlphaTauri</td>\n",
       "      <td>5E8FAA</td>\n",
       "      <td>alphatauri</td>\n",
       "      <td>Nyck</td>\n",
       "      <td>De Vries</td>\n",
       "      <td>Nyck De Vries</td>\n",
       "      <td>...</td>\n",
       "      <td>NED</td>\n",
       "      <td>18.0</td>\n",
       "      <td></td>\n",
       "      <td>NaN</td>\n",
       "      <td>0 days 00:01:23.137000</td>\n",
       "      <td>NaT</td>\n",
       "      <td>NaT</td>\n",
       "      <td>NaT</td>\n",
       "      <td></td>\n",
       "      <td>NaN</td>\n",
       "    </tr>\n",
       "    <tr>\n",
       "      <th>2</th>\n",
       "      <td>2</td>\n",
       "      <td>L SARGEANT</td>\n",
       "      <td>SAR</td>\n",
       "      <td>sargeant</td>\n",
       "      <td>Williams</td>\n",
       "      <td>37BEDD</td>\n",
       "      <td>williams</td>\n",
       "      <td>Logan</td>\n",
       "      <td>Sargeant</td>\n",
       "      <td>Logan Sargeant</td>\n",
       "      <td>...</td>\n",
       "      <td>USA</td>\n",
       "      <td>19.0</td>\n",
       "      <td></td>\n",
       "      <td>NaN</td>\n",
       "      <td>0 days 00:01:23.337000</td>\n",
       "      <td>NaT</td>\n",
       "      <td>NaT</td>\n",
       "      <td>NaT</td>\n",
       "      <td></td>\n",
       "      <td>NaN</td>\n",
       "    </tr>\n",
       "    <tr>\n",
       "      <th>24</th>\n",
       "      <td>24</td>\n",
       "      <td>G ZHOU</td>\n",
       "      <td>ZHO</td>\n",
       "      <td>zhou</td>\n",
       "      <td>Alfa Romeo</td>\n",
       "      <td>C92D4B</td>\n",
       "      <td>alfa</td>\n",
       "      <td>Guanyu</td>\n",
       "      <td>Zhou</td>\n",
       "      <td>Guanyu Zhou</td>\n",
       "      <td>...</td>\n",
       "      <td>CHN</td>\n",
       "      <td>20.0</td>\n",
       "      <td></td>\n",
       "      <td>NaN</td>\n",
       "      <td>0 days 00:01:23.342000</td>\n",
       "      <td>NaT</td>\n",
       "      <td>NaT</td>\n",
       "      <td>NaT</td>\n",
       "      <td></td>\n",
       "      <td>NaN</td>\n",
       "    </tr>\n",
       "  </tbody>\n",
       "</table>\n",
       "<p>20 rows × 21 columns</p>\n",
       "</div>"
      ],
      "text/plain": [
       "   DriverNumber BroadcastName Abbreviation         DriverId         TeamName  \\\n",
       "1             1  M VERSTAPPEN          VER   max_verstappen  Red Bull Racing   \n",
       "27           27  N HULKENBERG          HUL       hulkenberg     Haas F1 Team   \n",
       "14           14      F ALONSO          ALO           alonso     Aston Martin   \n",
       "44           44    L HAMILTON          HAM         hamilton         Mercedes   \n",
       "63           63     G RUSSELL          RUS          russell         Mercedes   \n",
       "31           31        E OCON          OCO             ocon           Alpine   \n",
       "4             4      L NORRIS          NOR           norris          McLaren   \n",
       "55           55       C SAINZ          SAI            sainz          Ferrari   \n",
       "81           81     O PIASTRI          PIA          piastri          McLaren   \n",
       "23           23       A ALBON          ALB            albon         Williams   \n",
       "16           16     C LECLERC          LEC          leclerc          Ferrari   \n",
       "11           11       S PEREZ          PER            perez  Red Bull Racing   \n",
       "18           18      L STROLL          STR           stroll     Aston Martin   \n",
       "20           20   K MAGNUSSEN          MAG  kevin_magnussen     Haas F1 Team   \n",
       "77           77      V BOTTAS          BOT           bottas       Alfa Romeo   \n",
       "22           22     Y TSUNODA          TSU          tsunoda       AlphaTauri   \n",
       "10           10       P GASLY          GAS            gasly           Alpine   \n",
       "21           21    N DE VRIES          DEV         de_vries       AlphaTauri   \n",
       "2             2    L SARGEANT          SAR         sargeant         Williams   \n",
       "24           24        G ZHOU          ZHO             zhou       Alfa Romeo   \n",
       "\n",
       "   TeamColor        TeamId  FirstName    LastName         FullName  ...  \\\n",
       "1     3671C6      red_bull        Max  Verstappen   Max Verstappen  ...   \n",
       "27    B6BABD          haas       Nico  Hulkenberg  Nico Hulkenberg  ...   \n",
       "14    358C75  aston_martin   Fernando      Alonso  Fernando Alonso  ...   \n",
       "44    6CD3BF      mercedes      Lewis    Hamilton   Lewis Hamilton  ...   \n",
       "63    6CD3BF      mercedes     George     Russell   George Russell  ...   \n",
       "31    2293D1        alpine    Esteban        Ocon     Esteban Ocon  ...   \n",
       "4     F58020       mclaren      Lando      Norris     Lando Norris  ...   \n",
       "55    F91536       ferrari     Carlos       Sainz     Carlos Sainz  ...   \n",
       "81    F58020       mclaren      Oscar     Piastri    Oscar Piastri  ...   \n",
       "23    37BEDD      williams  Alexander       Albon  Alexander Albon  ...   \n",
       "16    F91536       ferrari    Charles     Leclerc  Charles Leclerc  ...   \n",
       "11    3671C6      red_bull     Sergio       Perez     Sergio Perez  ...   \n",
       "18    358C75  aston_martin      Lance      Stroll     Lance Stroll  ...   \n",
       "20    B6BABD          haas      Kevin   Magnussen  Kevin Magnussen  ...   \n",
       "77    C92D4B          alfa   Valtteri      Bottas  Valtteri Bottas  ...   \n",
       "22    5E8FAA    alphatauri       Yuki     Tsunoda     Yuki Tsunoda  ...   \n",
       "10    2293D1        alpine     Pierre       Gasly     Pierre Gasly  ...   \n",
       "21    5E8FAA    alphatauri       Nyck    De Vries    Nyck De Vries  ...   \n",
       "2     37BEDD      williams      Logan    Sargeant   Logan Sargeant  ...   \n",
       "24    C92D4B          alfa     Guanyu        Zhou      Guanyu Zhou  ...   \n",
       "\n",
       "   CountryCode Position  ClassifiedPosition GridPosition  \\\n",
       "1          NED      1.0                              NaN   \n",
       "27         GER      2.0                              NaN   \n",
       "14         ESP      3.0                              NaN   \n",
       "44         GBR      4.0                              NaN   \n",
       "63         GBR      5.0                              NaN   \n",
       "31         FRA      6.0                              NaN   \n",
       "4          GBR      7.0                              NaN   \n",
       "55         ESP      8.0                              NaN   \n",
       "81         AUS      9.0                              NaN   \n",
       "23         THA     10.0                              NaN   \n",
       "16         MON     11.0                              NaN   \n",
       "11         MEX     12.0                              NaN   \n",
       "18         CAN     13.0                              NaN   \n",
       "20         DEN     14.0                              NaN   \n",
       "77         FIN     15.0                              NaN   \n",
       "22         JPN     16.0                              NaN   \n",
       "10         FRA     17.0                              NaN   \n",
       "21         NED     18.0                              NaN   \n",
       "2          USA     19.0                              NaN   \n",
       "24         CHN     20.0                              NaN   \n",
       "\n",
       "                       Q1                     Q2                     Q3 Time  \\\n",
       "1  0 days 00:01:20.851000 0 days 00:01:19.092000 0 days 00:01:25.858000  NaT   \n",
       "27 0 days 00:01:22.730000 0 days 00:01:20.305000 0 days 00:01:27.102000  NaT   \n",
       "14 0 days 00:01:21.481000 0 days 00:01:19.776000 0 days 00:01:27.286000  NaT   \n",
       "44 0 days 00:01:21.554000 0 days 00:01:20.426000 0 days 00:01:27.627000  NaT   \n",
       "63 0 days 00:01:21.798000 0 days 00:01:20.098000 0 days 00:01:27.893000  NaT   \n",
       "31 0 days 00:01:22.114000 0 days 00:01:20.406000 0 days 00:01:27.945000  NaT   \n",
       "4  0 days 00:01:21.998000 0 days 00:01:19.347000 0 days 00:01:28.046000  NaT   \n",
       "55 0 days 00:01:22.248000 0 days 00:01:19.856000 0 days 00:01:29.294000  NaT   \n",
       "81 0 days 00:01:22.190000 0 days 00:01:19.659000 0 days 00:01:31.349000  NaT   \n",
       "23 0 days 00:01:21.938000 0 days 00:01:18.725000                    NaT  NaT   \n",
       "16 0 days 00:01:21.843000 0 days 00:01:20.615000                    NaT  NaT   \n",
       "11 0 days 00:01:22.151000 0 days 00:01:20.959000                    NaT  NaT   \n",
       "18 0 days 00:01:22.677000 0 days 00:01:21.484000                    NaT  NaT   \n",
       "20 0 days 00:01:22.351000 0 days 00:01:21.678000                    NaT  NaT   \n",
       "77 0 days 00:01:22.332000 0 days 00:01:21.821000                    NaT  NaT   \n",
       "22 0 days 00:01:22.746000                    NaT                    NaT  NaT   \n",
       "10 0 days 00:01:22.886000                    NaT                    NaT  NaT   \n",
       "21 0 days 00:01:23.137000                    NaT                    NaT  NaT   \n",
       "2  0 days 00:01:23.337000                    NaT                    NaT  NaT   \n",
       "24 0 days 00:01:23.342000                    NaT                    NaT  NaT   \n",
       "\n",
       "   Status Points  \n",
       "1            NaN  \n",
       "27           NaN  \n",
       "14           NaN  \n",
       "44           NaN  \n",
       "63           NaN  \n",
       "31           NaN  \n",
       "4            NaN  \n",
       "55           NaN  \n",
       "81           NaN  \n",
       "23           NaN  \n",
       "16           NaN  \n",
       "11           NaN  \n",
       "18           NaN  \n",
       "20           NaN  \n",
       "77           NaN  \n",
       "22           NaN  \n",
       "10           NaN  \n",
       "21           NaN  \n",
       "2            NaN  \n",
       "24           NaN  \n",
       "\n",
       "[20 rows x 21 columns]"
      ]
     },
     "execution_count": 38,
     "metadata": {},
     "output_type": "execute_result"
    }
   ],
   "source": [
    "session.results"
   ]
  },
  {
   "cell_type": "code",
   "execution_count": 16,
   "metadata": {},
   "outputs": [],
   "source": [
    "df = session.results[['Abbreviation','Q3']].iloc[0:9]\n",
    "df['LapTime_seconds'] = df['Q3'].dt.total_seconds()\n",
    "df = df.sort_values(by=['LapTime_seconds'])\n",
    "df['LapTime_seconds_to_best'] = df['LapTime_seconds'] - min(df['LapTime_seconds'])\n"
   ]
  },
  {
   "cell_type": "code",
   "execution_count": 18,
   "metadata": {},
   "outputs": [
    {
     "data": {
      "text/html": [
       "<div>\n",
       "<style scoped>\n",
       "    .dataframe tbody tr th:only-of-type {\n",
       "        vertical-align: middle;\n",
       "    }\n",
       "\n",
       "    .dataframe tbody tr th {\n",
       "        vertical-align: top;\n",
       "    }\n",
       "\n",
       "    .dataframe thead th {\n",
       "        text-align: right;\n",
       "    }\n",
       "</style>\n",
       "<table border=\"1\" class=\"dataframe\">\n",
       "  <thead>\n",
       "    <tr style=\"text-align: right;\">\n",
       "      <th></th>\n",
       "      <th>Abbreviation</th>\n",
       "      <th>Q3</th>\n",
       "      <th>LapTime_seconds</th>\n",
       "      <th>LapTime_seconds_to_best</th>\n",
       "    </tr>\n",
       "  </thead>\n",
       "  <tbody>\n",
       "    <tr>\n",
       "      <th>1</th>\n",
       "      <td>VER</td>\n",
       "      <td>NaT</td>\n",
       "      <td>NaN</td>\n",
       "      <td>NaN</td>\n",
       "    </tr>\n",
       "    <tr>\n",
       "      <th>81</th>\n",
       "      <td>PIA</td>\n",
       "      <td>NaT</td>\n",
       "      <td>NaN</td>\n",
       "      <td>NaN</td>\n",
       "    </tr>\n",
       "    <tr>\n",
       "      <th>4</th>\n",
       "      <td>NOR</td>\n",
       "      <td>NaT</td>\n",
       "      <td>NaN</td>\n",
       "      <td>NaN</td>\n",
       "    </tr>\n",
       "    <tr>\n",
       "      <th>16</th>\n",
       "      <td>LEC</td>\n",
       "      <td>NaT</td>\n",
       "      <td>NaN</td>\n",
       "      <td>NaN</td>\n",
       "    </tr>\n",
       "    <tr>\n",
       "      <th>11</th>\n",
       "      <td>PER</td>\n",
       "      <td>NaT</td>\n",
       "      <td>NaN</td>\n",
       "      <td>NaN</td>\n",
       "    </tr>\n",
       "    <tr>\n",
       "      <th>55</th>\n",
       "      <td>SAI</td>\n",
       "      <td>NaT</td>\n",
       "      <td>NaN</td>\n",
       "      <td>NaN</td>\n",
       "    </tr>\n",
       "    <tr>\n",
       "      <th>44</th>\n",
       "      <td>HAM</td>\n",
       "      <td>NaT</td>\n",
       "      <td>NaN</td>\n",
       "      <td>NaN</td>\n",
       "    </tr>\n",
       "    <tr>\n",
       "      <th>63</th>\n",
       "      <td>RUS</td>\n",
       "      <td>NaT</td>\n",
       "      <td>NaN</td>\n",
       "      <td>NaN</td>\n",
       "    </tr>\n",
       "    <tr>\n",
       "      <th>22</th>\n",
       "      <td>TSU</td>\n",
       "      <td>NaT</td>\n",
       "      <td>NaN</td>\n",
       "      <td>NaN</td>\n",
       "    </tr>\n",
       "  </tbody>\n",
       "</table>\n",
       "</div>"
      ],
      "text/plain": [
       "   Abbreviation  Q3  LapTime_seconds  LapTime_seconds_to_best\n",
       "1           VER NaT              NaN                      NaN\n",
       "81          PIA NaT              NaN                      NaN\n",
       "4           NOR NaT              NaN                      NaN\n",
       "16          LEC NaT              NaN                      NaN\n",
       "11          PER NaT              NaN                      NaN\n",
       "55          SAI NaT              NaN                      NaN\n",
       "44          HAM NaT              NaN                      NaN\n",
       "63          RUS NaT              NaN                      NaN\n",
       "22          TSU NaT              NaN                      NaN"
      ]
     },
     "execution_count": 18,
     "metadata": {},
     "output_type": "execute_result"
    }
   ],
   "source": [
    "df"
   ]
  },
  {
   "cell_type": "code",
   "execution_count": 17,
   "metadata": {},
   "outputs": [
    {
     "data": {
      "application/vnd.plotly.v1+json": {
       "config": {
        "plotlyServerURL": "https://plot.ly"
       },
       "data": [
        {
         "marker": {
          "color": [
           null,
           null,
           null,
           null,
           null,
           null,
           null,
           null,
           null
          ],
          "colorbar": {
           "title": {
            "text": "LapTime_seconds_to_best"
           }
          },
          "colorscale": [
           [
            0,
            "rgb(247,251,255)"
           ],
           [
            0.125,
            "rgb(222,235,247)"
           ],
           [
            0.25,
            "rgb(198,219,239)"
           ],
           [
            0.375,
            "rgb(158,202,225)"
           ],
           [
            0.5,
            "rgb(107,174,214)"
           ],
           [
            0.625,
            "rgb(66,146,198)"
           ],
           [
            0.75,
            "rgb(33,113,181)"
           ],
           [
            0.875,
            "rgb(8,81,156)"
           ],
           [
            1,
            "rgb(8,48,107)"
           ]
          ]
         },
         "type": "bar",
         "x": [
          "VER",
          "PIA",
          "NOR",
          "LEC",
          "PER",
          "SAI",
          "HAM",
          "RUS",
          "TSU"
         ],
         "y": [
          null,
          null,
          null,
          null,
          null,
          null,
          null,
          null,
          null
         ]
        }
       ],
       "layout": {
        "template": {
         "data": {
          "bar": [
           {
            "error_x": {
             "color": "#2a3f5f"
            },
            "error_y": {
             "color": "#2a3f5f"
            },
            "marker": {
             "line": {
              "color": "#E5ECF6",
              "width": 0.5
             },
             "pattern": {
              "fillmode": "overlay",
              "size": 10,
              "solidity": 0.2
             }
            },
            "type": "bar"
           }
          ],
          "barpolar": [
           {
            "marker": {
             "line": {
              "color": "#E5ECF6",
              "width": 0.5
             },
             "pattern": {
              "fillmode": "overlay",
              "size": 10,
              "solidity": 0.2
             }
            },
            "type": "barpolar"
           }
          ],
          "carpet": [
           {
            "aaxis": {
             "endlinecolor": "#2a3f5f",
             "gridcolor": "white",
             "linecolor": "white",
             "minorgridcolor": "white",
             "startlinecolor": "#2a3f5f"
            },
            "baxis": {
             "endlinecolor": "#2a3f5f",
             "gridcolor": "white",
             "linecolor": "white",
             "minorgridcolor": "white",
             "startlinecolor": "#2a3f5f"
            },
            "type": "carpet"
           }
          ],
          "choropleth": [
           {
            "colorbar": {
             "outlinewidth": 0,
             "ticks": ""
            },
            "type": "choropleth"
           }
          ],
          "contour": [
           {
            "colorbar": {
             "outlinewidth": 0,
             "ticks": ""
            },
            "colorscale": [
             [
              0,
              "#0d0887"
             ],
             [
              0.1111111111111111,
              "#46039f"
             ],
             [
              0.2222222222222222,
              "#7201a8"
             ],
             [
              0.3333333333333333,
              "#9c179e"
             ],
             [
              0.4444444444444444,
              "#bd3786"
             ],
             [
              0.5555555555555556,
              "#d8576b"
             ],
             [
              0.6666666666666666,
              "#ed7953"
             ],
             [
              0.7777777777777778,
              "#fb9f3a"
             ],
             [
              0.8888888888888888,
              "#fdca26"
             ],
             [
              1,
              "#f0f921"
             ]
            ],
            "type": "contour"
           }
          ],
          "contourcarpet": [
           {
            "colorbar": {
             "outlinewidth": 0,
             "ticks": ""
            },
            "type": "contourcarpet"
           }
          ],
          "heatmap": [
           {
            "colorbar": {
             "outlinewidth": 0,
             "ticks": ""
            },
            "colorscale": [
             [
              0,
              "#0d0887"
             ],
             [
              0.1111111111111111,
              "#46039f"
             ],
             [
              0.2222222222222222,
              "#7201a8"
             ],
             [
              0.3333333333333333,
              "#9c179e"
             ],
             [
              0.4444444444444444,
              "#bd3786"
             ],
             [
              0.5555555555555556,
              "#d8576b"
             ],
             [
              0.6666666666666666,
              "#ed7953"
             ],
             [
              0.7777777777777778,
              "#fb9f3a"
             ],
             [
              0.8888888888888888,
              "#fdca26"
             ],
             [
              1,
              "#f0f921"
             ]
            ],
            "type": "heatmap"
           }
          ],
          "heatmapgl": [
           {
            "colorbar": {
             "outlinewidth": 0,
             "ticks": ""
            },
            "colorscale": [
             [
              0,
              "#0d0887"
             ],
             [
              0.1111111111111111,
              "#46039f"
             ],
             [
              0.2222222222222222,
              "#7201a8"
             ],
             [
              0.3333333333333333,
              "#9c179e"
             ],
             [
              0.4444444444444444,
              "#bd3786"
             ],
             [
              0.5555555555555556,
              "#d8576b"
             ],
             [
              0.6666666666666666,
              "#ed7953"
             ],
             [
              0.7777777777777778,
              "#fb9f3a"
             ],
             [
              0.8888888888888888,
              "#fdca26"
             ],
             [
              1,
              "#f0f921"
             ]
            ],
            "type": "heatmapgl"
           }
          ],
          "histogram": [
           {
            "marker": {
             "pattern": {
              "fillmode": "overlay",
              "size": 10,
              "solidity": 0.2
             }
            },
            "type": "histogram"
           }
          ],
          "histogram2d": [
           {
            "colorbar": {
             "outlinewidth": 0,
             "ticks": ""
            },
            "colorscale": [
             [
              0,
              "#0d0887"
             ],
             [
              0.1111111111111111,
              "#46039f"
             ],
             [
              0.2222222222222222,
              "#7201a8"
             ],
             [
              0.3333333333333333,
              "#9c179e"
             ],
             [
              0.4444444444444444,
              "#bd3786"
             ],
             [
              0.5555555555555556,
              "#d8576b"
             ],
             [
              0.6666666666666666,
              "#ed7953"
             ],
             [
              0.7777777777777778,
              "#fb9f3a"
             ],
             [
              0.8888888888888888,
              "#fdca26"
             ],
             [
              1,
              "#f0f921"
             ]
            ],
            "type": "histogram2d"
           }
          ],
          "histogram2dcontour": [
           {
            "colorbar": {
             "outlinewidth": 0,
             "ticks": ""
            },
            "colorscale": [
             [
              0,
              "#0d0887"
             ],
             [
              0.1111111111111111,
              "#46039f"
             ],
             [
              0.2222222222222222,
              "#7201a8"
             ],
             [
              0.3333333333333333,
              "#9c179e"
             ],
             [
              0.4444444444444444,
              "#bd3786"
             ],
             [
              0.5555555555555556,
              "#d8576b"
             ],
             [
              0.6666666666666666,
              "#ed7953"
             ],
             [
              0.7777777777777778,
              "#fb9f3a"
             ],
             [
              0.8888888888888888,
              "#fdca26"
             ],
             [
              1,
              "#f0f921"
             ]
            ],
            "type": "histogram2dcontour"
           }
          ],
          "mesh3d": [
           {
            "colorbar": {
             "outlinewidth": 0,
             "ticks": ""
            },
            "type": "mesh3d"
           }
          ],
          "parcoords": [
           {
            "line": {
             "colorbar": {
              "outlinewidth": 0,
              "ticks": ""
             }
            },
            "type": "parcoords"
           }
          ],
          "pie": [
           {
            "automargin": true,
            "type": "pie"
           }
          ],
          "scatter": [
           {
            "fillpattern": {
             "fillmode": "overlay",
             "size": 10,
             "solidity": 0.2
            },
            "type": "scatter"
           }
          ],
          "scatter3d": [
           {
            "line": {
             "colorbar": {
              "outlinewidth": 0,
              "ticks": ""
             }
            },
            "marker": {
             "colorbar": {
              "outlinewidth": 0,
              "ticks": ""
             }
            },
            "type": "scatter3d"
           }
          ],
          "scattercarpet": [
           {
            "marker": {
             "colorbar": {
              "outlinewidth": 0,
              "ticks": ""
             }
            },
            "type": "scattercarpet"
           }
          ],
          "scattergeo": [
           {
            "marker": {
             "colorbar": {
              "outlinewidth": 0,
              "ticks": ""
             }
            },
            "type": "scattergeo"
           }
          ],
          "scattergl": [
           {
            "marker": {
             "colorbar": {
              "outlinewidth": 0,
              "ticks": ""
             }
            },
            "type": "scattergl"
           }
          ],
          "scattermapbox": [
           {
            "marker": {
             "colorbar": {
              "outlinewidth": 0,
              "ticks": ""
             }
            },
            "type": "scattermapbox"
           }
          ],
          "scatterpolar": [
           {
            "marker": {
             "colorbar": {
              "outlinewidth": 0,
              "ticks": ""
             }
            },
            "type": "scatterpolar"
           }
          ],
          "scatterpolargl": [
           {
            "marker": {
             "colorbar": {
              "outlinewidth": 0,
              "ticks": ""
             }
            },
            "type": "scatterpolargl"
           }
          ],
          "scatterternary": [
           {
            "marker": {
             "colorbar": {
              "outlinewidth": 0,
              "ticks": ""
             }
            },
            "type": "scatterternary"
           }
          ],
          "surface": [
           {
            "colorbar": {
             "outlinewidth": 0,
             "ticks": ""
            },
            "colorscale": [
             [
              0,
              "#0d0887"
             ],
             [
              0.1111111111111111,
              "#46039f"
             ],
             [
              0.2222222222222222,
              "#7201a8"
             ],
             [
              0.3333333333333333,
              "#9c179e"
             ],
             [
              0.4444444444444444,
              "#bd3786"
             ],
             [
              0.5555555555555556,
              "#d8576b"
             ],
             [
              0.6666666666666666,
              "#ed7953"
             ],
             [
              0.7777777777777778,
              "#fb9f3a"
             ],
             [
              0.8888888888888888,
              "#fdca26"
             ],
             [
              1,
              "#f0f921"
             ]
            ],
            "type": "surface"
           }
          ],
          "table": [
           {
            "cells": {
             "fill": {
              "color": "#EBF0F8"
             },
             "line": {
              "color": "white"
             }
            },
            "header": {
             "fill": {
              "color": "#C8D4E3"
             },
             "line": {
              "color": "white"
             }
            },
            "type": "table"
           }
          ]
         },
         "layout": {
          "annotationdefaults": {
           "arrowcolor": "#2a3f5f",
           "arrowhead": 0,
           "arrowwidth": 1
          },
          "autotypenumbers": "strict",
          "coloraxis": {
           "colorbar": {
            "outlinewidth": 0,
            "ticks": ""
           }
          },
          "colorscale": {
           "diverging": [
            [
             0,
             "#8e0152"
            ],
            [
             0.1,
             "#c51b7d"
            ],
            [
             0.2,
             "#de77ae"
            ],
            [
             0.3,
             "#f1b6da"
            ],
            [
             0.4,
             "#fde0ef"
            ],
            [
             0.5,
             "#f7f7f7"
            ],
            [
             0.6,
             "#e6f5d0"
            ],
            [
             0.7,
             "#b8e186"
            ],
            [
             0.8,
             "#7fbc41"
            ],
            [
             0.9,
             "#4d9221"
            ],
            [
             1,
             "#276419"
            ]
           ],
           "sequential": [
            [
             0,
             "#0d0887"
            ],
            [
             0.1111111111111111,
             "#46039f"
            ],
            [
             0.2222222222222222,
             "#7201a8"
            ],
            [
             0.3333333333333333,
             "#9c179e"
            ],
            [
             0.4444444444444444,
             "#bd3786"
            ],
            [
             0.5555555555555556,
             "#d8576b"
            ],
            [
             0.6666666666666666,
             "#ed7953"
            ],
            [
             0.7777777777777778,
             "#fb9f3a"
            ],
            [
             0.8888888888888888,
             "#fdca26"
            ],
            [
             1,
             "#f0f921"
            ]
           ],
           "sequentialminus": [
            [
             0,
             "#0d0887"
            ],
            [
             0.1111111111111111,
             "#46039f"
            ],
            [
             0.2222222222222222,
             "#7201a8"
            ],
            [
             0.3333333333333333,
             "#9c179e"
            ],
            [
             0.4444444444444444,
             "#bd3786"
            ],
            [
             0.5555555555555556,
             "#d8576b"
            ],
            [
             0.6666666666666666,
             "#ed7953"
            ],
            [
             0.7777777777777778,
             "#fb9f3a"
            ],
            [
             0.8888888888888888,
             "#fdca26"
            ],
            [
             1,
             "#f0f921"
            ]
           ]
          },
          "colorway": [
           "#636efa",
           "#EF553B",
           "#00cc96",
           "#ab63fa",
           "#FFA15A",
           "#19d3f3",
           "#FF6692",
           "#B6E880",
           "#FF97FF",
           "#FECB52"
          ],
          "font": {
           "color": "#2a3f5f"
          },
          "geo": {
           "bgcolor": "white",
           "lakecolor": "white",
           "landcolor": "#E5ECF6",
           "showlakes": true,
           "showland": true,
           "subunitcolor": "white"
          },
          "hoverlabel": {
           "align": "left"
          },
          "hovermode": "closest",
          "mapbox": {
           "style": "light"
          },
          "paper_bgcolor": "white",
          "plot_bgcolor": "#E5ECF6",
          "polar": {
           "angularaxis": {
            "gridcolor": "white",
            "linecolor": "white",
            "ticks": ""
           },
           "bgcolor": "#E5ECF6",
           "radialaxis": {
            "gridcolor": "white",
            "linecolor": "white",
            "ticks": ""
           }
          },
          "scene": {
           "xaxis": {
            "backgroundcolor": "#E5ECF6",
            "gridcolor": "white",
            "gridwidth": 2,
            "linecolor": "white",
            "showbackground": true,
            "ticks": "",
            "zerolinecolor": "white"
           },
           "yaxis": {
            "backgroundcolor": "#E5ECF6",
            "gridcolor": "white",
            "gridwidth": 2,
            "linecolor": "white",
            "showbackground": true,
            "ticks": "",
            "zerolinecolor": "white"
           },
           "zaxis": {
            "backgroundcolor": "#E5ECF6",
            "gridcolor": "white",
            "gridwidth": 2,
            "linecolor": "white",
            "showbackground": true,
            "ticks": "",
            "zerolinecolor": "white"
           }
          },
          "shapedefaults": {
           "line": {
            "color": "#2a3f5f"
           }
          },
          "ternary": {
           "aaxis": {
            "gridcolor": "white",
            "linecolor": "white",
            "ticks": ""
           },
           "baxis": {
            "gridcolor": "white",
            "linecolor": "white",
            "ticks": ""
           },
           "bgcolor": "#E5ECF6",
           "caxis": {
            "gridcolor": "white",
            "linecolor": "white",
            "ticks": ""
           }
          },
          "title": {
           "x": 0.05
          },
          "xaxis": {
           "automargin": true,
           "gridcolor": "white",
           "linecolor": "white",
           "ticks": "",
           "title": {
            "standoff": 15
           },
           "zerolinecolor": "white",
           "zerolinewidth": 2
          },
          "yaxis": {
           "automargin": true,
           "gridcolor": "white",
           "linecolor": "white",
           "ticks": "",
           "title": {
            "standoff": 15
           },
           "zerolinecolor": "white",
           "zerolinewidth": 2
          }
         }
        }
       }
      }
     },
     "metadata": {},
     "output_type": "display_data"
    }
   ],
   "source": [
    "fig = go.Figure(\n",
    "    data=[\n",
    "        go.Bar(\n",
    "            y=df[\"LapTime_seconds_to_best\"],\n",
    "            x=df[\"Abbreviation\"],\n",
    "            marker=dict(\n",
    "                color=df[\"LapTime_seconds_to_best\"],\n",
    "                colorscale=\"Blues\",\n",
    "                colorbar=dict(title=\"LapTime_seconds_to_best\"),\n",
    "            ),\n",
    "        )\n",
    "    ]\n",
    ")\n",
    "\n",
    "fig.show()"
   ]
  },
  {
   "cell_type": "code",
   "execution_count": 99,
   "metadata": {},
   "outputs": [
    {
     "name": "stderr",
     "output_type": "stream",
     "text": [
      "core           INFO \tLoading data for Austrian Grand Prix - Race [v3.1.2]\n",
      "req            INFO \tNo cached data found for session_info. Loading data...\n",
      "_api           INFO \tFetching session info data...\n",
      "req            INFO \tData has been written to cache!\n",
      "req            INFO \tNo cached data found for driver_info. Loading data...\n",
      "_api           INFO \tFetching driver list...\n",
      "req            INFO \tData has been written to cache!\n",
      "req            INFO \tNo cached data found for session_status_data. Loading data...\n",
      "_api           INFO \tFetching session status data...\n",
      "req            INFO \tData has been written to cache!\n",
      "req            INFO \tNo cached data found for lap_count. Loading data...\n",
      "_api           INFO \tFetching lap count data...\n",
      "req            INFO \tData has been written to cache!\n",
      "req            INFO \tNo cached data found for track_status_data. Loading data...\n",
      "_api           INFO \tFetching track status data...\n",
      "req            INFO \tData has been written to cache!\n",
      "req            INFO \tNo cached data found for _extended_timing_data. Loading data...\n",
      "_api           INFO \tFetching timing data...\n",
      "_api           INFO \tParsing timing data...\n",
      "req            INFO \tData has been written to cache!\n",
      "req            INFO \tNo cached data found for timing_app_data. Loading data...\n",
      "_api           INFO \tFetching timing app data...\n",
      "req            INFO \tData has been written to cache!\n",
      "core           INFO \tProcessing timing data...\n",
      "req            INFO \tNo cached data found for car_data. Loading data...\n",
      "_api           INFO \tFetching car data...\n",
      "_api           INFO \tParsing car data...\n",
      "req            INFO \tData has been written to cache!\n",
      "req            INFO \tNo cached data found for position_data. Loading data...\n",
      "_api           INFO \tFetching position data...\n",
      "_api           INFO \tParsing position data...\n",
      "_api        WARNING \tDriver 241: Position data is incomplete!\n",
      "_api        WARNING \tDriver 242: Position data is incomplete!\n",
      "_api        WARNING \tDriver 243: Position data is incomplete!\n",
      "req            INFO \tData has been written to cache!\n",
      "req            INFO \tNo cached data found for weather_data. Loading data...\n",
      "_api           INFO \tFetching weather data...\n",
      "req            INFO \tData has been written to cache!\n",
      "req            INFO \tNo cached data found for race_control_messages. Loading data...\n",
      "_api           INFO \tFetching race control messages...\n",
      "req            INFO \tData has been written to cache!\n",
      "core           INFO \tFinished loading data for 20 drivers: ['33', '77', '4', '44', '55', '11', '3', '16', '10', '14', '63', '22', '18', '99', '7', '6', '5', '47', '9', '31']\n"
     ]
    },
    {
     "data": {
      "image/png": "[encoded data removed]",
      "text/plain": [
       "<Figure size 1200x675 with 2 Axes>"
      ]
     },
     "metadata": {},
     "output_type": "display_data"
    }
   ],
   "source": [
    "\"\"\"Speed visualization on track map\n",
    "======================================\n",
    "\n",
    "(Example provided by @JSEHV on Github)\n",
    "\"\"\"\n",
    "import fastf1 as ff1\n",
    "import numpy as np\n",
    "import matplotlib as mpl\n",
    "\n",
    "from matplotlib import pyplot as plt\n",
    "from matplotlib.collections import LineCollection\n",
    "\n",
    "\n",
    "##############################################################################\n",
    "# First, we define some variables that allow us to conveniently control what\n",
    "# we want to plot.\n",
    "year = 2021\n",
    "wknd = 9\n",
    "ses = 'R'\n",
    "driver = 'RIC'\n",
    "colormap = mpl.cm.plasma\n",
    "\n",
    "\n",
    "##############################################################################\n",
    "# Next, we load the session and select the desired data.\n",
    "session = ff1.get_session(year, wknd, ses)\n",
    "weekend = session.event\n",
    "session.load()\n",
    "lap = session.laps.pick_driver(driver).pick_fastest()\n",
    "\n",
    "# Get telemetry data\n",
    "x = lap.telemetry['X']              # values for x-axis\n",
    "y = lap.telemetry['Y']              # values for y-axis\n",
    "color = lap.telemetry['Speed']      # value to base color gradient on\n",
    "\n",
    "\n",
    "##############################################################################\n",
    "# Now, we create a set of line segments so that we can color them\n",
    "# individually. This creates the points as a N x 1 x 2 array so that we can\n",
    "# stack points  together easily to get the segments. The segments array for\n",
    "# line collection needs to be (numlines) x (points per line) x 2 (for x and y)\n",
    "points = np.array([x, y]).T.reshape(-1, 1, 2)\n",
    "segments = np.concatenate([points[:-1], points[1:]], axis=1)\n",
    "\n",
    "\n",
    "##############################################################################\n",
    "# After this, we can actually plot the data.\n",
    "\n",
    "# We create a plot with title and adjust some setting to make it look good.\n",
    "fig, ax = plt.subplots(sharex=True, sharey=True, figsize=(12, 6.75))\n",
    "fig.suptitle(f'{weekend.name} {year} - {driver} - Speed', size=24, y=0.97)\n",
    "\n",
    "# Adjust margins and turn of axis\n",
    "plt.subplots_adjust(left=0.1, right=0.9, top=0.9, bottom=0.12)\n",
    "ax.axis('off')\n",
    "\n",
    "\n",
    "# After this, we plot the data itself.\n",
    "# Create background track line\n",
    "ax.plot(lap.telemetry['X'], lap.telemetry['Y'], color='black', linestyle='-', linewidth=16, zorder=0)\n",
    "\n",
    "# Create a continuous norm to map from data points to colors\n",
    "norm = plt.Normalize(color.min(), color.max())\n",
    "lc = LineCollection(segments, cmap=colormap, norm=norm, linestyle='-', linewidth=5)\n",
    "\n",
    "# Set the values used for colormapping\n",
    "lc.set_array(color)\n",
    "\n",
    "# Merge all line segments together\n",
    "line = ax.add_collection(lc)\n",
    "\n",
    "\n",
    "# Finally, we create a color bar as a legend.\n",
    "cbaxes = fig.add_axes([0.25, 0.05, 0.5, 0.05])\n",
    "normlegend = mpl.colors.Normalize(vmin=color.min(), vmax=color.max())\n",
    "legend = mpl.colorbar.ColorbarBase(cbaxes, norm=normlegend, cmap=colormap, orientation=\"horizontal\")\n",
    "\n",
    "\n",
    "# Show the plot\n",
    "plt.show()\n"
   ]
  },
  {
   "cell_type": "code",
   "execution_count": 107,
   "metadata": {},
   "outputs": [],
   "source": [
    "ax.plot(lap.telemetry['X'], lap.telemetry['Y'], color='black', linestyle='-', linewidth=16, zorder=0)\n"
   ]
  },
  {
   "cell_type": "code",
   "execution_count": 227,
   "metadata": {},
   "outputs": [
    {
     "data": {
      "text/plain": [
       "[<matplotlib.lines.Line2D at 0x282c39dd0>]"
      ]
     },
     "execution_count": 227,
     "metadata": {},
     "output_type": "execute_result"
    },
    {
     "data": {
      "image/png": "[encoded data removed]",
      "text/plain": [
       "<Figure size 640x480 with 1 Axes>"
      ]
     },
     "metadata": {},
     "output_type": "display_data"
    }
   ],
   "source": [
    "lap = session.laps.pick_driver('LEC').pick_lap(50)\n",
    "plt.plot(lap.telemetry['X'], lap.telemetry['Y'])"
   ]
  },
  {
   "cell_type": "code",
   "execution_count": 218,
   "metadata": {},
   "outputs": [
    {
     "data": {
      "text/html": [
       "<div>\n",
       "<style scoped>\n",
       "    .dataframe tbody tr th:only-of-type {\n",
       "        vertical-align: middle;\n",
       "    }\n",
       "\n",
       "    .dataframe tbody tr th {\n",
       "        vertical-align: top;\n",
       "    }\n",
       "\n",
       "    .dataframe thead th {\n",
       "        text-align: right;\n",
       "    }\n",
       "</style>\n",
       "<table border=\"1\" class=\"dataframe\">\n",
       "  <thead>\n",
       "    <tr style=\"text-align: right;\">\n",
       "      <th></th>\n",
       "      <th>Date</th>\n",
       "      <th>SessionTime</th>\n",
       "      <th>DriverAhead</th>\n",
       "      <th>DistanceToDriverAhead</th>\n",
       "      <th>Time</th>\n",
       "      <th>RPM</th>\n",
       "      <th>Speed</th>\n",
       "      <th>nGear</th>\n",
       "      <th>Throttle</th>\n",
       "      <th>Brake</th>\n",
       "      <th>DRS</th>\n",
       "      <th>Source</th>\n",
       "      <th>Distance</th>\n",
       "      <th>RelativeDistance</th>\n",
       "      <th>Status</th>\n",
       "      <th>X</th>\n",
       "      <th>Y</th>\n",
       "      <th>Z</th>\n",
       "    </tr>\n",
       "  </thead>\n",
       "  <tbody>\n",
       "    <tr>\n",
       "      <th>2</th>\n",
       "      <td>2023-09-24 06:29:16.954</td>\n",
       "      <td>0 days 02:28:15.545000</td>\n",
       "      <td></td>\n",
       "      <td>467.969167</td>\n",
       "      <td>0 days 00:00:00</td>\n",
       "      <td>10769</td>\n",
       "      <td>267</td>\n",
       "      <td>7</td>\n",
       "      <td>99</td>\n",
       "      <td>False</td>\n",
       "      <td>0</td>\n",
       "      <td>interpolation</td>\n",
       "      <td>-0.014879</td>\n",
       "      <td>-0.000003</td>\n",
       "      <td>OnTrack</td>\n",
       "      <td>1719</td>\n",
       "      <td>-868</td>\n",
       "      <td>739</td>\n",
       "    </tr>\n",
       "    <tr>\n",
       "      <th>3</th>\n",
       "      <td>2023-09-24 06:29:17.084</td>\n",
       "      <td>0 days 02:28:15.675000</td>\n",
       "      <td></td>\n",
       "      <td>467.969167</td>\n",
       "      <td>0 days 00:00:00.130000</td>\n",
       "      <td>10859</td>\n",
       "      <td>267</td>\n",
       "      <td>7</td>\n",
       "      <td>99</td>\n",
       "      <td>False</td>\n",
       "      <td>0</td>\n",
       "      <td>car</td>\n",
       "      <td>9.641667</td>\n",
       "      <td>0.001668</td>\n",
       "      <td>OnTrack</td>\n",
       "      <td>1781</td>\n",
       "      <td>-939</td>\n",
       "      <td>739</td>\n",
       "    </tr>\n",
       "    <tr>\n",
       "      <th>4</th>\n",
       "      <td>2023-09-24 06:29:17.324</td>\n",
       "      <td>0 days 02:28:15.915000</td>\n",
       "      <td>81</td>\n",
       "      <td>467.969167</td>\n",
       "      <td>0 days 00:00:00.370000</td>\n",
       "      <td>10944</td>\n",
       "      <td>272</td>\n",
       "      <td>7</td>\n",
       "      <td>99</td>\n",
       "      <td>False</td>\n",
       "      <td>0</td>\n",
       "      <td>car</td>\n",
       "      <td>27.775000</td>\n",
       "      <td>0.004806</td>\n",
       "      <td>OnTrack</td>\n",
       "      <td>1881</td>\n",
       "      <td>-1057</td>\n",
       "      <td>735</td>\n",
       "    </tr>\n",
       "    <tr>\n",
       "      <th>5</th>\n",
       "      <td>2023-09-24 06:29:17.396</td>\n",
       "      <td>0 days 02:28:15.987000</td>\n",
       "      <td>81</td>\n",
       "      <td>468.774722</td>\n",
       "      <td>0 days 00:00:00.442000</td>\n",
       "      <td>10981</td>\n",
       "      <td>273</td>\n",
       "      <td>7</td>\n",
       "      <td>99</td>\n",
       "      <td>False</td>\n",
       "      <td>0</td>\n",
       "      <td>pos</td>\n",
       "      <td>33.259473</td>\n",
       "      <td>0.005755</td>\n",
       "      <td>OnTrack</td>\n",
       "      <td>1910</td>\n",
       "      <td>-1090</td>\n",
       "      <td>734</td>\n",
       "    </tr>\n",
       "    <tr>\n",
       "      <th>6</th>\n",
       "      <td>2023-09-24 06:29:17.524</td>\n",
       "      <td>0 days 02:28:16.115000</td>\n",
       "      <td>81</td>\n",
       "      <td>469.580278</td>\n",
       "      <td>0 days 00:00:00.570000</td>\n",
       "      <td>11019</td>\n",
       "      <td>275</td>\n",
       "      <td>7</td>\n",
       "      <td>99</td>\n",
       "      <td>False</td>\n",
       "      <td>0</td>\n",
       "      <td>car</td>\n",
       "      <td>43.052778</td>\n",
       "      <td>0.007449</td>\n",
       "      <td>OnTrack</td>\n",
       "      <td>1957</td>\n",
       "      <td>-1144</td>\n",
       "      <td>732</td>\n",
       "    </tr>\n",
       "    <tr>\n",
       "      <th>...</th>\n",
       "      <td>...</td>\n",
       "      <td>...</td>\n",
       "      <td>...</td>\n",
       "      <td>...</td>\n",
       "      <td>...</td>\n",
       "      <td>...</td>\n",
       "      <td>...</td>\n",
       "      <td>...</td>\n",
       "      <td>...</td>\n",
       "      <td>...</td>\n",
       "      <td>...</td>\n",
       "      <td>...</td>\n",
       "      <td>...</td>\n",
       "      <td>...</td>\n",
       "      <td>...</td>\n",
       "      <td>...</td>\n",
       "      <td>...</td>\n",
       "      <td>...</td>\n",
       "    </tr>\n",
       "    <tr>\n",
       "      <th>736</th>\n",
       "      <td>2023-09-24 06:30:54.136</td>\n",
       "      <td>0 days 02:29:52.727000</td>\n",
       "      <td>81</td>\n",
       "      <td>504.952222</td>\n",
       "      <td>0 days 00:01:37.182000</td>\n",
       "      <td>10618</td>\n",
       "      <td>260</td>\n",
       "      <td>6</td>\n",
       "      <td>100</td>\n",
       "      <td>False</td>\n",
       "      <td>0</td>\n",
       "      <td>pos</td>\n",
       "      <td>5732.425644</td>\n",
       "      <td>0.991881</td>\n",
       "      <td>OnTrack</td>\n",
       "      <td>1479</td>\n",
       "      <td>-585</td>\n",
       "      <td>753</td>\n",
       "    </tr>\n",
       "    <tr>\n",
       "      <th>737</th>\n",
       "      <td>2023-09-24 06:30:54.164</td>\n",
       "      <td>0 days 02:29:52.755000</td>\n",
       "      <td>81</td>\n",
       "      <td>506.546667</td>\n",
       "      <td>0 days 00:01:37.210000</td>\n",
       "      <td>10276</td>\n",
       "      <td>262</td>\n",
       "      <td>7</td>\n",
       "      <td>100</td>\n",
       "      <td>False</td>\n",
       "      <td>0</td>\n",
       "      <td>car</td>\n",
       "      <td>5734.481667</td>\n",
       "      <td>0.992237</td>\n",
       "      <td>OnTrack</td>\n",
       "      <td>1495</td>\n",
       "      <td>-604</td>\n",
       "      <td>752</td>\n",
       "    </tr>\n",
       "    <tr>\n",
       "      <th>738</th>\n",
       "      <td>2023-09-24 06:30:54.375</td>\n",
       "      <td>0 days 02:29:52.966000</td>\n",
       "      <td>81</td>\n",
       "      <td>508.346667</td>\n",
       "      <td>0 days 00:01:37.421000</td>\n",
       "      <td>10522</td>\n",
       "      <td>265</td>\n",
       "      <td>7</td>\n",
       "      <td>100</td>\n",
       "      <td>False</td>\n",
       "      <td>0</td>\n",
       "      <td>pos</td>\n",
       "      <td>5750.128520</td>\n",
       "      <td>0.994944</td>\n",
       "      <td>OnTrack</td>\n",
       "      <td>1646</td>\n",
       "      <td>-780</td>\n",
       "      <td>746</td>\n",
       "    </tr>\n",
       "    <tr>\n",
       "      <th>739</th>\n",
       "      <td>2023-09-24 06:30:54.524</td>\n",
       "      <td>0 days 02:29:53.115000</td>\n",
       "      <td>81</td>\n",
       "      <td>510.146667</td>\n",
       "      <td>0 days 00:01:37.570000</td>\n",
       "      <td>10768</td>\n",
       "      <td>268</td>\n",
       "      <td>7</td>\n",
       "      <td>100</td>\n",
       "      <td>False</td>\n",
       "      <td>0</td>\n",
       "      <td>car</td>\n",
       "      <td>5761.281667</td>\n",
       "      <td>0.996874</td>\n",
       "      <td>OnTrack</td>\n",
       "      <td>1733</td>\n",
       "      <td>-881</td>\n",
       "      <td>742</td>\n",
       "    </tr>\n",
       "    <tr>\n",
       "      <th>740</th>\n",
       "      <td>2023-09-24 06:30:54.558</td>\n",
       "      <td>0 days 02:29:53.149000</td>\n",
       "      <td>81</td>\n",
       "      <td>510.146667</td>\n",
       "      <td>0 days 00:01:37.604000</td>\n",
       "      <td>10797</td>\n",
       "      <td>268</td>\n",
       "      <td>7</td>\n",
       "      <td>100</td>\n",
       "      <td>False</td>\n",
       "      <td>0</td>\n",
       "      <td>interpolation</td>\n",
       "      <td>5763.833830</td>\n",
       "      <td>0.997316</td>\n",
       "      <td>OnTrack</td>\n",
       "      <td>1749</td>\n",
       "      <td>-900</td>\n",
       "      <td>741</td>\n",
       "    </tr>\n",
       "  </tbody>\n",
       "</table>\n",
       "<p>739 rows × 18 columns</p>\n",
       "</div>"
      ],
      "text/plain": [
       "                       Date            SessionTime DriverAhead  \\\n",
       "2   2023-09-24 06:29:16.954 0 days 02:28:15.545000               \n",
       "3   2023-09-24 06:29:17.084 0 days 02:28:15.675000               \n",
       "4   2023-09-24 06:29:17.324 0 days 02:28:15.915000          81   \n",
       "5   2023-09-24 06:29:17.396 0 days 02:28:15.987000          81   \n",
       "6   2023-09-24 06:29:17.524 0 days 02:28:16.115000          81   \n",
       "..                      ...                    ...         ...   \n",
       "736 2023-09-24 06:30:54.136 0 days 02:29:52.727000          81   \n",
       "737 2023-09-24 06:30:54.164 0 days 02:29:52.755000          81   \n",
       "738 2023-09-24 06:30:54.375 0 days 02:29:52.966000          81   \n",
       "739 2023-09-24 06:30:54.524 0 days 02:29:53.115000          81   \n",
       "740 2023-09-24 06:30:54.558 0 days 02:29:53.149000          81   \n",
       "\n",
       "     DistanceToDriverAhead                   Time    RPM  Speed  nGear  \\\n",
       "2               467.969167        0 days 00:00:00  10769    267      7   \n",
       "3               467.969167 0 days 00:00:00.130000  10859    267      7   \n",
       "4               467.969167 0 days 00:00:00.370000  10944    272      7   \n",
       "5               468.774722 0 days 00:00:00.442000  10981    273      7   \n",
       "6               469.580278 0 days 00:00:00.570000  11019    275      7   \n",
       "..                     ...                    ...    ...    ...    ...   \n",
       "736             504.952222 0 days 00:01:37.182000  10618    260      6   \n",
       "737             506.546667 0 days 00:01:37.210000  10276    262      7   \n",
       "738             508.346667 0 days 00:01:37.421000  10522    265      7   \n",
       "739             510.146667 0 days 00:01:37.570000  10768    268      7   \n",
       "740             510.146667 0 days 00:01:37.604000  10797    268      7   \n",
       "\n",
       "     Throttle  Brake  DRS         Source     Distance  RelativeDistance  \\\n",
       "2          99  False    0  interpolation    -0.014879         -0.000003   \n",
       "3          99  False    0            car     9.641667          0.001668   \n",
       "4          99  False    0            car    27.775000          0.004806   \n",
       "5          99  False    0            pos    33.259473          0.005755   \n",
       "6          99  False    0            car    43.052778          0.007449   \n",
       "..        ...    ...  ...            ...          ...               ...   \n",
       "736       100  False    0            pos  5732.425644          0.991881   \n",
       "737       100  False    0            car  5734.481667          0.992237   \n",
       "738       100  False    0            pos  5750.128520          0.994944   \n",
       "739       100  False    0            car  5761.281667          0.996874   \n",
       "740       100  False    0  interpolation  5763.833830          0.997316   \n",
       "\n",
       "      Status     X     Y    Z  \n",
       "2    OnTrack  1719  -868  739  \n",
       "3    OnTrack  1781  -939  739  \n",
       "4    OnTrack  1881 -1057  735  \n",
       "5    OnTrack  1910 -1090  734  \n",
       "6    OnTrack  1957 -1144  732  \n",
       "..       ...   ...   ...  ...  \n",
       "736  OnTrack  1479  -585  753  \n",
       "737  OnTrack  1495  -604  752  \n",
       "738  OnTrack  1646  -780  746  \n",
       "739  OnTrack  1733  -881  742  \n",
       "740  OnTrack  1749  -900  741  \n",
       "\n",
       "[739 rows x 18 columns]"
      ]
     },
     "execution_count": 218,
     "metadata": {},
     "output_type": "execute_result"
    }
   ],
   "source": [
    "session.laps.pick_driver('LEC').pick_lap(50).get_telemetry()"
   ]
  },
  {
   "cell_type": "code",
   "execution_count": 354,
   "metadata": {},
   "outputs": [],
   "source": [
    "from scipy.interpolate import CubicSpline\n",
    "import numpy as np\n",
    "\n",
    "# Coordonnées du circuit\n",
    "X = np.array(lap.telemetry['X'])  # Coordonnées X du circuit\n",
    "Y = np.array(lap.telemetry['Y'])  # Coordonnées Y du circuit\n",
    "Z = np.array(lap.telemetry['Z'])  # Coordonnées Z du circuit\n",
    "\n",
    "# Paramètre t (distance le long du circuit)\n",
    "t = np.linspace(0, 10000, len(X))\n",
    "\n",
    "# Interpolation spline cubique\n",
    "cs_X = CubicSpline(t, X)\n",
    "cs_Y = CubicSpline(t, Y)\n",
    "cs_Z = CubicSpline(t, Z)\n",
    "\n",
    "# Générer des points interpolés (par exemple, tous les 1 mètre)\n",
    "t_fine = np.linspace(0, 10000, 10000)\n",
    "X_fine = cs_X(t_fine)\n",
    "Y_fine = cs_Y(t_fine)\n",
    "Z_fine = cs_Z(t_fine)"
   ]
  },
  {
   "cell_type": "code",
   "execution_count": 355,
   "metadata": {},
   "outputs": [],
   "source": [
    "import numpy as np\n",
    "\n",
    "def curvature(X, Y, Z, t):\n",
    "    # Calcul des dérivées premières\n",
    "    X_prime = np.gradient(X)\n",
    "    Y_prime = np.gradient(Y)\n",
    "    Z_prime = np.gradient(Z)\n",
    "    \n",
    "    # Calcul des dérivées secondes\n",
    "    X_double_prime = np.gradient(X_prime)\n",
    "    Y_double_prime = np.gradient(Y_prime)\n",
    "    Z_double_prime = np.gradient(Z_prime)\n",
    "    \n",
    "    # Calcul du produit vectoriel des dérivées premières et secondes\n",
    "    cross_product = np.cross([X_prime[t], Y_prime[t], Z_prime[t]], [X_double_prime[t], Y_double_prime[t], Z_double_prime[t]])\n",
    "    norm_cross_product = np.linalg.norm(cross_product)\n",
    "    \n",
    "    # Calcul de la norme de la dérivée première\n",
    "    norm_prime = np.linalg.norm([X_prime[t], Y_prime[t], Z_prime[t]])\n",
    "    \n",
    "    # Calcul de la courbure\n",
    "    kappa = norm_cross_product / (norm_prime ** 3)\n",
    "    \n",
    "    return kappa\n",
    "\n",
    "def sliding_window_curvature(X, Y, Z, t, window_size=2):\n",
    "    # Sélectionner une sous-section du circuit basée sur la fenêtre glissante\n",
    "    start = max(0, t - window_size)\n",
    "    end = min(len(X), t + window_size + 1)\n",
    "    X_sub = X[start:end]\n",
    "    Y_sub = Y[start:end]\n",
    "    Z_sub = Z[start:end]\n",
    "    \n",
    "    # Estimer la courbure pour cette sous-section\n",
    "    kappa = curvature(X_sub, Y_sub, Z_sub, window_size)  # window_size est l'indice du point d'intérêt dans la sous-section\n",
    "    \n",
    "    return kappa\n",
    "\n",
    "# Exemple d'utilisation\n",
    "\"\"\"X = np.array(lap.telemetry['X'])  # Coordonnées X du circuit\n",
    "Y = np.array(lap.telemetry['Y'])  # Coordonnées Y du circuit\n",
    "Z = np.array(lap.telemetry['Z'])  # Coordonnées Z du circuit\"\"\"\n",
    "\n",
    "X = X_fine\n",
    "Y = Y_fine\n",
    "Z = Z_fine\n"
   ]
  },
  {
   "cell_type": "code",
   "execution_count": 376,
   "metadata": {},
   "outputs": [
    {
     "data": {
      "application/vnd.plotly.v1+json": {
       "config": {
        "plotlyServerURL": "https://plot.ly"
       },
       "data": [
        {
         "customdata": [
          [
           -0.05703482683190034
          ],
          [
           -0.19038650222977255
          ],
          [
           -0.004984922672841847
          ],
          [
           -0.0010539518769973311
          ],
          [
           -0.0003927790258654863
          ],
          [
           -0.00019109174529817843
          ],
          [
           -0.000108103125520581
          ],
          [
           -0.00006686471723046502
          ],
          [
           -0.00004322234729632158
          ],
          [
           -0.000027708188140774772
          ],
          [
           -0.000015766755144124966
          ],
          [
           -0.000004446629484876924
          ],
          [
           0.000009350699853975767
          ],
          [
           0.00003110627036032026
          ],
          [
           0.00007492205741739821
          ],
          [
           0.00019026866335743466
          ],
          [
           0.0004131442550882682
          ],
          [
           0.000850973627470764
          ],
          [
           0.0016219883199160685
          ],
          [
           0.0023009216219664294
          ],
          [
           0.0013737002686397294
          ],
          [
           -0.0008368729921563201
          ],
          [
           -0.0016138556712845316
          ],
          [
           -0.0010369515760038192
          ],
          [
           -0.00046467478198819045
          ],
          [
           -0.0002593069871266861
          ],
          [
           -0.00016765488606844883
          ],
          [
           -0.00012138324787744567
          ],
          [
           -0.00009691431407107737
          ],
          [
           -0.00008500672317087598
          ],
          [
           -0.00008231214432466132
          ],
          [
           -0.00009964817650295231
          ],
          [
           -0.00011955241542655737
          ],
          [
           -0.0001293077549801146
          ],
          [
           -0.0001269801303789446
          ],
          [
           -0.0001141984510000207
          ],
          [
           -0.000095040754057658
          ],
          [
           -0.00007400624313948167
          ],
          [
           -0.000053662595347141874
          ],
          [
           -0.000029777167732097122
          ],
          [
           -0.00001460823175884151
          ],
          [
           -0.0000031389829758333065
          ],
          [
           0.0000074434291961872385
          ],
          [
           0.000019463873243750408
          ],
          [
           0.000035972408576948886
          ],
          [
           0.00006267776771089656
          ],
          [
           0.00009695562040093358
          ],
          [
           0.00012311309895568037
          ],
          [
           0.00014467802871052904
          ],
          [
           0.0001532774255731451
          ],
          [
           0.0001419722268026287
          ],
          [
           0.00011047331480068561
          ],
          [
           0.00006699848255611995
          ],
          [
           0.000023870583633925256
          ],
          [
           0.000009858347169423554
          ],
          [
           0.0000019409218389548155
          ],
          [
           -0.00000416166448573628
          ],
          [
           -0.00000921034640636656
          ],
          [
           -0.000013695024320163229
          ],
          [
           -0.000017961476172857014
          ],
          [
           -0.000022282887676689168
          ],
          [
           -0.00003297452926723124
          ],
          [
           -0.000057442122466546476
          ],
          [
           -0.00008031602572663891
          ],
          [
           -0.00010129397454465055
          ],
          [
           -0.00012014269722911223
          ],
          [
           -0.00013670068298115095
          ],
          [
           -0.00015087725673725735
          ],
          [
           -0.00016264844419096463
          ],
          [
           -0.0001273117918024975
          ],
          [
           -0.00008127926971917852
          ],
          [
           -0.000038829108059399865
          ],
          [
           0.0000063305693681059645
          ],
          [
           0.0000622531101203661
          ],
          [
           0.00014247023331412422
          ],
          [
           0.000274688682447414
          ],
          [
           0.0005006815896525008
          ],
          [
           0.0005119962575340999
          ],
          [
           0.00029844572587298546
          ],
          [
           0.000047842271614119915
          ],
          [
           -0.00007863164761166709
          ],
          [
           -0.00010117930343949937
          ],
          [
           -0.00008401189262953374
          ],
          [
           -0.00006108134985888311
          ],
          [
           -0.000032603926801648935
          ],
          [
           -0.00001578275682804025
          ],
          [
           -0.00000800029452430927
          ],
          [
           -0.0000029543247345726857
          ],
          [
           0.0000022409639401902007
          ],
          [
           0.000011446196556515766
          ],
          [
           0.00003888876487764189
          ],
          [
           0.000201648781937852
          ],
          [
           0.0018698999243820882
          ],
          [
           1.6333173849526337
          ],
          [
           0.006767844946502426
          ],
          [
           -0.0005280722242555793
          ],
          [
           -0.017966323346589794
          ],
          [
           -0.08914885155311189
          ],
          [
           -0.0011585905130173616
          ],
          [
           -0.0001495764037248309
          ],
          [
           -0.000039288940510373284
          ],
          [
           -0.000016329886346684252
          ],
          [
           -0.000008488915298799792
          ],
          [
           -0.000004931693051096925
          ],
          [
           -0.0000028742250072259733
          ],
          [
           -0.0000012216266688065815
          ],
          [
           9.6088453682465e-7
          ],
          [
           7.056095582639484e-7
          ],
          [
           -0.0000025974184566354877
          ],
          [
           -0.00001174421074829343
          ],
          [
           -0.0000400276009203223
          ],
          [
           -0.00015237341700682328
          ],
          [
           -0.0009401978281261573
          ],
          [
           -0.0488291059533913
          ],
          [
           -0.011917205729567087
          ],
          [
           -0.0004901371324102442
          ],
          [
           0.00032742754593276664
          ],
          [
           0.0025140829456302104
          ],
          [
           0.5544215903389955
          ],
          [
           0.005237418830767394
          ],
          [
           0.00038858093842380223
          ],
          [
           0.00008674085439912281
          ],
          [
           0.0000235310531252891
          ],
          [
           0.00000774492033622109
          ],
          [
           0.000002291761222306334
          ],
          [
           -9.24779900261224e-7
          ],
          [
           -0.000004412207947796361
          ],
          [
           -0.000010995418926435167
          ],
          [
           -0.00003071773574451544
          ],
          [
           -0.0001421946035308453
          ],
          [
           -0.0009906535407083234
          ],
          [
           -0.13931131707007088
          ],
          [
           -0.00767642900472091
          ],
          [
           -0.0007085632066849451
          ],
          [
           0.000009427272683519119
          ],
          [
           0.005870799973263179
          ],
          [
           0.007335291035340356
          ],
          [
           0.00014958025427822474
          ],
          [
           0.000023174669094359452
          ],
          [
           0.000004862142681874011
          ],
          [
           -0.0000013055577733955403
          ],
          [
           -0.000005413506950083113
          ],
          [
           -0.000010526972860518426
          ],
          [
           -0.000020274957523167905
          ],
          [
           -0.0000460539200555827
          ],
          [
           -0.00009727776252644061
          ],
          [
           -0.0002061437606733791
          ],
          [
           -0.000461620430130191
          ],
          [
           -0.0010579236951879175
          ],
          [
           -0.002221568798661586
          ],
          [
           -0.003132774659005791
          ],
          [
           -0.0010756533372706543
          ],
          [
           0.0018855608894315335
          ],
          [
           0.0021513174080712463
          ],
          [
           0.001272876613725333
          ],
          [
           0.0006521365353908453
          ],
          [
           0.00033417015115931966
          ],
          [
           0.00017884153285121148
          ],
          [
           0.00010091554638093188
          ],
          [
           0.00005993405632747399
          ],
          [
           0.000030176396565737494
          ],
          [
           0.000015569557571954793
          ],
          [
           0.000008559345461099853
          ],
          [
           0.000004325168806854883
          ],
          [
           9.453900372682173e-7
          ],
          [
           -0.0000028933459023977592
          ],
          [
           -0.000009190655637242228
          ],
          [
           -0.000022779522509365517
          ],
          [
           -0.00003205037213884923
          ],
          [
           -0.0000425181628650151
          ],
          [
           -0.000048075263287103934
          ],
          [
           -0.00003249087074521925
          ],
          [
           0.000027230974043268482
          ],
          [
           0.00012613379988093016
          ],
          [
           0.00019903757383073225
          ],
          [
           0.0001386044158875393
          ],
          [
           0.00003770270113281228
          ],
          [
           -0.00003236961209587942
          ],
          [
           -0.00008705868915609035
          ],
          [
           -0.00013505636124445526
          ],
          [
           -0.00018208747791423363
          ],
          [
           -0.0002327607444472695
          ],
          [
           -0.00029170670733926336
          ],
          [
           -0.0002696629438517333
          ],
          [
           -0.0002676609064273975
          ],
          [
           -0.00030771547524942913
          ],
          [
           -0.0004332944092907003
          ],
          [
           -0.0008266484281186399
          ],
          [
           -0.002670932185313146
          ],
          [
           -0.033695067905547486
          ],
          [
           -0.388703313454551
          ],
          [
           -0.006569467133311785
          ],
          [
           -0.0013888260714411008
          ],
          [
           0.0016512687131797338
          ],
          [
           12.119186096322764
          ],
          [
           0.0010507598423320924
          ],
          [
           0.00006479558569865149
          ],
          [
           0.000002230470862646351
          ],
          [
           -8.621874685618697e-7
          ],
          [
           -6.925065665635289e-7
          ],
          [
           -7.272381240482148e-7
          ],
          [
           -9.049607594647293e-7
          ],
          [
           -0.0000013030611642593537
          ],
          [
           -0.00000220952660877559
          ],
          [
           -0.000004704198759950676
          ],
          [
           -0.000013531089408224922
          ],
          [
           -0.000025884288891961316
          ],
          [
           -0.000040189098663326326
          ],
          [
           0.00008276706594969063
          ],
          [
           0.001154971029697731
          ],
          [
           0.0009503519378979943
          ],
          [
           -0.0000289035237398868
          ],
          [
           -0.0000686549059090135
          ],
          [
           -0.000004406516244636841
          ],
          [
           0.000021554367451274314
          ],
          [
           0.00003599230496755996
          ],
          [
           0.000056223864727620354
          ],
          [
           0.000097922661530344
          ],
          [
           0.00021090196238459792
          ],
          [
           0.0006781374941160651
          ],
          [
           0.0061307403133845995
          ],
          [
           2.8233573327300845
          ],
          [
           0.029809416999474633
          ],
          [
           0.00006133649352783403
          ],
          [
           -0.1401842434377192
          ],
          [
           -0.029414395584816788
          ],
          [
           -0.0010511511081594878
          ],
          [
           -0.00016419022217927773
          ],
          [
           -0.000038515874816868644
          ],
          [
           -0.00001231106283107076
          ],
          [
           -0.000004850795236409145
          ],
          [
           -0.0000015215554770451953
          ],
          [
           8.117030221596303e-7
          ],
          [
           0.000003570854349754552
          ],
          [
           0.000008818874458463374
          ],
          [
           0.000023928448812083823
          ],
          [
           0.00005776309308962987
          ],
          [
           0.00013833720289494373
          ],
          [
           0.00035446448704622694
          ],
          [
           0.00081052849115094
          ],
          [
           0.0006931775930540093
          ],
          [
           -0.000987598958922125
          ],
          [
           -0.0009694882776801534
          ],
          [
           -0.0003579363872288765
          ],
          [
           -0.00011792057463660557
          ],
          [
           -0.00005476687407734607
          ],
          [
           -0.00003096354385338066
          ],
          [
           -0.000019977369628497086
          ],
          [
           -0.000014240189595506464
          ],
          [
           -0.000011032692667226142
          ],
          [
           -0.000009229965255415905
          ],
          [
           -0.00000646367007555068
          ],
          [
           -0.000002583734131963263
          ],
          [
           0.000001930486746560505
          ],
          [
           0.000008247231281231065
          ],
          [
           0.000018791768424667982
          ],
          [
           0.00003979098701713933
          ],
          [
           0.00009137504329364943
          ],
          [
           0.00026426907243798186
          ],
          [
           0.0006315906007650072
          ],
          [
           0.0011280251159708162
          ],
          [
           0.0007803756203141902
          ],
          [
           -0.00034203184807780966
          ],
          [
           -0.0005844992148656391
          ],
          [
           -0.000361321118570203
          ],
          [
           -0.00018409868509237841
          ],
          [
           -0.00007696310240912011
          ],
          [
           -0.00003153515514548101
          ],
          [
           -0.000015194094187451816
          ],
          [
           -0.000006992117710821551
          ],
          [
           -0.0000010154482418097606
          ],
          [
           0.000006070373879297815
          ],
          [
           0.000019987221203674024
          ],
          [
           0.00006409014567394935
          ],
          [
           0.00017058812556077827
          ],
          [
           0.0004987714090667968
          ],
          [
           0.0018482036824551986
          ],
          [
           0.007921591510683054
          ],
          [
           0.004770827168154066
          ],
          [
           -0.017788769899854655
          ],
          [
           -0.00361611699964428
          ],
          [
           -0.0006136967703364992
          ],
          [
           -0.0001791036972208917
          ],
          [
           -0.00009441743734065501
          ],
          [
           -0.0000724580062854642
          ],
          [
           -0.00007486341242001809
          ],
          [
           -0.00010118922464709793
          ],
          [
           -0.00018217175651531555
          ],
          [
           -0.0004875702834073723
          ],
          [
           -0.0008807738037825154
          ],
          [
           0.0007467968588123126
          ],
          [
           0.0016402693632670046
          ],
          [
           0.0007324296603326597
          ],
          [
           0.00023693475082515973
          ],
          [
           0.00007814505338902095
          ],
          [
           0.000028186795002596223
          ],
          [
           0.000010832020024047796
          ],
          [
           0.000003499979049706339
          ],
          [
           8.99260603049983e-7
          ],
          [
           -6.113505977024653e-7
          ],
          [
           -0.000002109490597346448
          ],
          [
           -0.0000045016145023450386
          ],
          [
           -0.000010002279302439594
          ],
          [
           -0.000028628330956755458
          ],
          [
           -0.00012020083404671992
          ],
          [
           -0.000735257466991681
          ],
          [
           -0.01805194643648219
          ],
          [
           -0.16121522485071255
          ],
          [
           0.00009955568738918162
          ],
          [
           0.0429333675391747
          ],
          [
           0.19166346558289238
          ],
          [
           0.002497253700240204
          ],
          [
           0.0003291838105899143
          ],
          [
           0.00011118736185283871
          ],
          [
           0.000057966573377863086
          ],
          [
           0.00003929812128507963
          ],
          [
           0.00003201681061637906
          ],
          [
           0.000029961259898805148
          ],
          [
           0.00003131581792041109
          ],
          [
           0.000032720893838338135
          ],
          [
           0.000029370392481627898
          ],
          [
           0.00002805839932627808
          ],
          [
           0.000028897564046901902
          ],
          [
           0.00003280538240374816
          ],
          [
           0.0000425782130411925
          ],
          [
           0.00006715100730776577
          ],
          [
           0.0001439194084100446
          ],
          [
           0.00030690940838760266
          ],
          [
           0.0004281514322231441
          ],
          [
           -0.0001947991506688973
          ],
          [
           -0.0016161610066192755
          ],
          [
           -0.0012993721703855891
          ],
          [
           -0.00047400979992051373
          ],
          [
           -0.00013503880367222505
          ],
          [
           -0.00003624517888492531
          ],
          [
           -0.000016621432376207828
          ],
          [
           -0.000011957517014274425
          ],
          [
           -0.000011922284196232762
          ],
          [
           -0.00001562919791137712
          ],
          [
           -0.000026956287293735945
          ],
          [
           -0.00006659326295504139
          ],
          [
           -0.00032464892537907716
          ],
          [
           -0.009455238047032685
          ],
          [
           -0.024732217411672478
          ],
          [
           -0.0014006384063206272
          ],
          [
           -0.001475464078893621
          ],
          [
           -0.01909915271901673
          ],
          [
           -0.02414653423918482
          ],
          [
           -0.000639236026252796
          ],
          [
           -0.0001184164177442711
          ],
          [
           -0.00003028569803047564
          ],
          [
           -0.000013975291847152362
          ],
          [
           -0.000009343851069883596
          ],
          [
           -0.000008453991378054993
          ],
          [
           -0.00001025850889691211
          ],
          [
           -0.000017230400461574593
          ],
          [
           -0.00004499965166510726
          ],
          [
           -0.000220053936102268
          ],
          [
           -0.002454426017419977
          ],
          [
           -2.529852047992383
          ],
          [
           -0.002283354952075388
          ],
          [
           -0.0004971360926303446
          ],
          [
           -0.0003635251645278528
          ],
          [
           -0.1630650712915746
          ],
          [
           -0.00014742041759029808
          ],
          [
           -0.000023744584148719584
          ],
          [
           -0.000013465923497099509
          ],
          [
           -0.000011805097824040716
          ],
          [
           -0.000012588846243165713
          ],
          [
           -0.00001524832983509842
          ],
          [
           -0.000020641541616133197
          ],
          [
           -0.00003153142628100088
          ],
          [
           -0.00005221810783366413
          ],
          [
           -0.000067053984184774
          ],
          [
           -0.00008546836621712478
          ],
          [
           -0.0001069649857756806
          ],
          [
           -0.00012905764238759174
          ],
          [
           -0.000145333096846174
          ],
          [
           -0.0001432090236002684
          ],
          [
           -0.00010381418139460303
          ],
          [
           0.0000066975399406001875
          ],
          [
           0.00016449591203420994
          ],
          [
           0.0002636935607846742
          ],
          [
           0.00026167919940796975
          ],
          [
           0.000201362014993529
          ],
          [
           0.00013497782498937872
          ],
          [
           0.00008462322888716075
          ],
          [
           0.000051561528772910714
          ],
          [
           0.000021786306839607306
          ],
          [
           0.000008505230524246438
          ],
          [
           -2.7234568532165747e-8
          ],
          [
           -0.000008458828614262634
          ],
          [
           -0.00002127372135377598
          ],
          [
           -0.0000492243777490461
          ],
          [
           -0.00013763390457453573
          ],
          [
           -0.0005200551114289842
          ],
          [
           -0.0026338698009548997
          ],
          [
           -0.04797611506699554
          ],
          [
           -0.8045294728102776
          ],
          [
           -0.010704256123015865
          ],
          [
           0.0021049248585997293
          ],
          [
           0.0426110078813416
          ],
          [
           2.549369708453162
          ],
          [
           0.008568929655426213
          ],
          [
           0.0011613061588871198
          ],
          [
           0.0002895314294215833
          ],
          [
           0.00008062339596142709
          ],
          [
           0.000013072510390936826
          ],
          [
           -0.000012035944522821881
          ],
          [
           -0.00002167700295316658
          ],
          [
           -0.00002206825186075978
          ],
          [
           -0.000016169268904008683
          ],
          [
           -0.000014023167798124145
          ],
          [
           -0.00001409547282601148
          ],
          [
           -0.0000162498048059221
          ],
          [
           -0.000021477160613036012
          ],
          [
           -0.00003300252778536918
          ],
          [
           -0.00006134802163669337
          ],
          [
           -0.00009603567545093384
          ],
          [
           -0.0000989822059633671
          ],
          [
           -0.0000357246243598763
          ],
          [
           0.00010653724170405079
          ],
          [
           0.00023129911686466134
          ],
          [
           0.00024198035562457572
          ],
          [
           0.00017569711317568583
          ],
          [
           0.00010327920636135834
          ],
          [
           0.00004707990729738422
          ],
          [
           0.000023866762701452184
          ],
          [
           0.000011977935787658931
          ],
          [
           0.00000461001937129121
          ],
          [
           -9.97769102173852e-7
          ],
          [
           -0.000006356402372867568
          ],
          [
           -0.00001275959187605509
          ],
          [
           -0.000015660951158669902
          ],
          [
           -0.000012507423529473073
          ],
          [
           -0.000008369239696938808
          ],
          [
           -0.0000015869487021339708
          ],
          [
           0.000012330652583699336
          ],
          [
           0.000048843140127378755
          ],
          [
           0.00018456732228177308
          ],
          [
           0.0012076056504486837
          ],
          [
           0.02222474016221393
          ],
          [
           0.12470439174540535
          ],
          [
           0.01059179070662003
          ],
          [
           0.030893530263752193
          ],
          [
           48.29512691317996
          ],
          [
           0.023434999049655736
          ],
          [
           0.002214459455363348
          ],
          [
           0.0004872484125099247
          ],
          [
           0.00017085238952363853
          ],
          [
           0.00010103360193295614
          ],
          [
           0.00008562488895283546
          ],
          [
           0.00009787847749358261
          ],
          [
           0.00014896832144013647
          ],
          [
           0.00031761887583169724
          ],
          [
           0.001171830736231882
          ],
          [
           0.007814594713061184
          ],
          [
           0.2065230387453499
          ],
          [
           1.2538048530077008
          ],
          [
           -0.19237777680883872
          ],
          [
           -0.4462858518627748
          ],
          [
           -0.006003873190986031
          ],
          [
           -0.0006481602767445491
          ],
          [
           -0.00010575967361131698
          ],
          [
           0.000031075003373889347
          ],
          [
           0.00007573330078665618
          ],
          [
           0.00011938388471590976
          ],
          [
           0.0001951531676487863
          ],
          [
           0.0003701797519981172
          ],
          [
           0.0009219138857069393
          ],
          [
           0.004041269246416084
          ],
          [
           0.059453879919453306
          ],
          [
           1.803026826561542
          ],
          [
           0.03538981971248769
          ],
          [
           0.015974066524150097
          ],
          [
           0.07782048859481565
          ],
          [
           0.6349518906832536
          ],
          [
           0.008075023880410193
          ],
          [
           0.001381405325896351
          ],
          [
           0.0003162995995590968
          ],
          [
           0.00012569677699244224
          ],
          [
           0.0000665970808205604
          ],
          [
           0.00004227051552019836
          ],
          [
           0.000030681956619670746
          ],
          [
           0.00002502019781073868
          ],
          [
           0.000022993776264573425
          ],
          [
           0.000014340607445366483
          ],
          [
           -0.0001132033705291652
          ],
          [
           -0.0011612267975534074
          ],
          [
           -0.016439729512603567
          ],
          [
           -4.500354164944089
          ],
          [
           -0.030064384717976442
          ],
          [
           2.3475050639896837
          ],
          [
           0.2851181494083466
          ],
          [
           0.014008635725017
          ],
          [
           0.003432801888266825
          ],
          [
           0.001547174442549837
          ],
          [
           0.0010048480399936323
          ],
          [
           0.0008935586694912846
          ],
          [
           0.0011183808390439998
          ],
          [
           0.0021668066915293983
          ],
          [
           0.005541243843515586
          ],
          [
           -0.02374600328489563
          ],
          [
           -0.11898578210487841
          ],
          [
           -0.05713494794109444
          ],
          [
           -0.003520449686406355
          ],
          [
           0.0028070979527053588
          ],
          [
           0.002112842622627059
          ],
          [
           0.0012538407425397179
          ],
          [
           0.0005253654132274439
          ],
          [
           0.00022001722236805843
          ],
          [
           0.00010214360544913271
          ],
          [
           0.00004018605839961394
          ],
          [
           -0.00000535166824144052
          ],
          [
           -0.0000551365108549265
          ],
          [
           -0.0001351232994833284
          ],
          [
           -0.00031339855707566327
          ],
          [
           -0.0006163695135297789
          ],
          [
           -0.0011281649276865186
          ],
          [
           -0.0018587342417858894
          ],
          [
           -0.002598205654536867
          ],
          [
           -0.0028514510001962892
          ],
          [
           -0.0022620665685931934
          ],
          [
           -0.0011605791713239215
          ],
          [
           -0.0006021155981708179
          ],
          [
           -0.0006884428932195237
          ],
          [
           -0.0007851854883448031
          ],
          [
           -0.0009093411815042949
          ],
          [
           -0.0010780842029397756
          ],
          [
           -0.001315442309716412
          ],
          [
           -0.001660158571551033
          ],
          [
           -0.0021796316726506396
          ],
          [
           -0.0021620313183906346
          ],
          [
           -0.002064802827509999
          ],
          [
           -0.0020317055875347517
          ],
          [
           -0.0020777838138184915
          ],
          [
           -0.002244299688703259
          ],
          [
           -0.002649477951127055
          ],
          [
           -0.0037440177112188088
          ],
          [
           -0.009023623343959102
          ],
          [
           -0.04611271706298713
          ],
          [
           -0.6522936727442261
          ],
          [
           53.703461903907915
          ],
          [
           -0.3515862774514293
          ],
          [
           -0.03213498400707754
          ],
          [
           -0.007044861282930181
          ],
          [
           -0.002335622872566318
          ],
          [
           -0.0007182506765719705
          ],
          [
           -0.00028184972660473865
          ],
          [
           -0.0001398299930405999
          ],
          [
           -0.00007680131267194186
          ],
          [
           -0.00004038281055261788
          ],
          [
           -0.000010835409939481722
          ],
          [
           0.000027338868016621794
          ],
          [
           0.00009995313191061963
          ],
          [
           0.0000860433198267503
          ],
          [
           -0.0000010689726426269962
          ],
          [
           -0.00024908039806670904
          ],
          [
           -0.0007422493486471834
          ],
          [
           -0.0013800957919083035
          ],
          [
           -0.0017441956293416903
          ],
          [
           -0.0015183493054828291
          ],
          [
           -0.0010857470435951075
          ],
          [
           -0.0008371892470234104
          ],
          [
           -0.0006540649726208872
          ],
          [
           -0.0005172481831389352
          ],
          [
           -0.00041367194366184366
          ],
          [
           -0.0003342854205482801
          ],
          [
           -0.0002727332478474385
          ],
          [
           -0.00022449298956062004
          ],
          [
           -0.00008889899389447989
          ],
          [
           0.000016778047233671602
          ],
          [
           0.0001254102006482625
          ],
          [
           0.00028774625079698465
          ],
          [
           0.0006189858889684958
          ],
          [
           0.001541931562845809
          ],
          [
           0.005662449919423884
          ],
          [
           0.05068873960346919
          ],
          [
           5.968963639406536
          ],
          [
           0.24741797808017313
          ],
          [
           0.03793371565232907
          ],
          [
           0.029877740132766846
          ],
          [
           11.83846187545578
          ],
          [
           0.006990163161115057
          ],
          [
           0.0014408330431041488
          ],
          [
           0.00043915222831445534
          ],
          [
           0.0002636651137036827
          ],
          [
           0.00024612017852435644
          ],
          [
           0.00030058870811801183
          ],
          [
           0.0004557760796531766
          ],
          [
           0.0008785723668059502
          ],
          [
           0.002434218863725574
          ],
          [
           0.013327890723163937
          ],
          [
           0.13327195492094765
          ],
          [
           10.96768139987454
          ],
          [
           0.2654528384806839
          ],
          [
           0.8949397092797241
          ],
          [
           0.6527877597029512
          ],
          [
           0.022791198278739315
          ],
          [
           0.004491455304242341
          ],
          [
           0.001172958925403939
          ],
          [
           0.0004477534071861893
          ],
          [
           0.00025428170705540953
          ],
          [
           0.00019322322471622815
          ],
          [
           0.00019266198294675194
          ],
          [
           0.000257832333390367
          ],
          [
           0.0004964502491879222
          ],
          [
           0.001686080925696304
          ],
          [
           0.007423913806268538
          ],
          [
           0.10976707034549095
          ],
          [
           2.1566313929360095
          ],
          [
           0.04427220549525633
          ],
          [
           0.029874335978574227
          ],
          [
           0.21125875143324502
          ],
          [
           1.231657899053186
          ],
          [
           0.014836958638036656
          ],
          [
           0.0014360070525242464
          ],
          [
           -0.0002265194940108175
          ],
          [
           -0.0007832731177116447
          ],
          [
           -0.001194678670463697
          ],
          [
           -0.0017202891249427422
          ],
          [
           -0.002599582705395451
          ],
          [
           -0.004341064604902162
          ],
          [
           -0.005539843668958789
          ],
          [
           -0.006421627748736039
          ],
          [
           -0.007503858156939751
          ],
          [
           -0.008874403236059076
          ],
          [
           -0.010680165205198988
          ],
          [
           -0.013156099069506965
          ],
          [
           -0.0164648908984758
          ],
          [
           -0.019172180972807568
          ],
          [
           0.023713608846168757
          ],
          [
           0.11624215087056462
          ],
          [
           0.034589724479807224
          ],
          [
           0.0041535034956570824
          ],
          [
           -0.00010355157373818839
          ],
          [
           -0.00045661489624695555
          ],
          [
           -0.0003482337096206279
          ],
          [
           -0.0002994408402691151
          ],
          [
           -0.00031302404241988294
          ],
          [
           -0.0003488225930411353
          ],
          [
           -0.0004148835437834309
          ],
          [
           -0.0005279578006239879
          ],
          [
           -0.0007245919232318763
          ],
          [
           -0.00108999965565095
          ],
          [
           -0.0018434096782478419
          ],
          [
           -0.002454350298488514
          ],
          [
           -0.0031545625460093255
          ],
          [
           -0.0038300092234160106
          ],
          [
           -0.0042644537388922136
          ],
          [
           -0.004179687424605348
          ],
          [
           -0.003378698778132722
          ],
          [
           -0.0019257846049796333
          ],
          [
           -0.000967401659187838
          ],
          [
           -0.0010457074133509864
          ],
          [
           -0.0011121127832417082
          ],
          [
           -0.0011667220878377495
          ],
          [
           -0.001209818262939508
          ],
          [
           -0.0012418423179562845
          ],
          [
           -0.0012633703132350124
          ],
          [
           -0.0012750887723763508
          ],
          [
           -0.0011786397185972533
          ],
          [
           -0.001097742243243191
          ],
          [
           -0.001049102884207695
          ],
          [
           -0.0010290388715417354
          ],
          [
           -0.0010365081378265822
          ],
          [
           -0.0010729948238240644
          ],
          [
           -0.0011428626760454704
          ],
          [
           -0.0011724682763129218
          ],
          [
           -0.0010090050164842904
          ],
          [
           -0.000883610288280721
          ],
          [
           -0.0007698867374781014
          ],
          [
           -0.0006162434282677266
          ],
          [
           -0.00024302650847476894
          ],
          [
           0.00139309018932847
          ],
          [
           0.01963783025831656
          ],
          [
           34.536833577829455
          ],
          [
           0.06456905588158063
          ],
          [
           0.013990763095027843
          ],
          [
           0.019445844422317334
          ],
          [
           0.42508202818615093
          ],
          [
           0.1340697745376694
          ],
          [
           0.005883334149494549
          ],
          [
           0.0011392834759396994
          ],
          [
           -0.0000363919578690604
          ],
          [
           -0.0002912591195145315
          ],
          [
           -0.00042197411692853677
          ],
          [
           -0.0005549398088780965
          ],
          [
           -0.0007454929174584672
          ],
          [
           -0.001064258687022957
          ],
          [
           -0.0016638891336977647
          ],
          [
           -0.0023327900878185037
          ],
          [
           -0.0026381358872252006
          ],
          [
           -0.002968914347182158
          ],
          [
           -0.0032903474585192893
          ],
          [
           -0.003488083472696962
          ],
          [
           -0.003179932267953545
          ],
          [
           -0.0009074950133568169
          ],
          [
           0.010622304427919345
          ],
          [
           0.033868179681561465
          ],
          [
           0.07697313863605769
          ],
          [
           0.0464128613820093
          ],
          [
           -0.06276744319411509
          ],
          [
           -0.05025949653197845
          ],
          [
           -0.020711559635358482
          ],
          [
           -0.008082765596815268
          ],
          [
           -0.003000280329538478
          ],
          [
           -0.0010739801838372484
          ],
          [
           -0.00043553433917127706
          ],
          [
           -0.000137145186466818
          ],
          [
           0.00005507913326895629
          ],
          [
           0.00023108752301048485
          ],
          [
           0.00045630104775199094
          ],
          [
           0.0008323939913056542
          ],
          [
           -0.00004629659019047471
          ],
          [
           -0.0020571772325918484
          ],
          [
           -0.0040613965399280295
          ],
          [
           -0.005171675680834162
          ],
          [
           -0.005072159892333761
          ],
          [
           -0.0041643873261733525
          ],
          [
           -0.003040446781989483
          ],
          [
           -0.0019794731726765075
          ],
          [
           -0.0010373048120399118
          ],
          [
           -0.0005867608597748333
          ],
          [
           -0.0003130343712413191
          ],
          [
           -0.0000858501669485998
          ],
          [
           0.00020073312748728294
          ],
          [
           0.0007647997380425303
          ],
          [
           0.0024870147227710722
          ],
          [
           0.0057956913432720076
          ],
          [
           0.0012145354851483487
          ],
          [
           -0.029362173902180426
          ],
          [
           -0.043829294082475705
          ],
          [
           -0.01732719205956212
          ],
          [
           -0.0036064099531818283
          ],
          [
           -0.00031221377072628394
          ],
          [
           0.00026201902776125586
          ],
          [
           0.00015533104198593131
          ],
          [
           0.00013370769088182064
          ]
         ],
         "hovertemplate": "X=%{x}<br>Y=%{y}<br>Courbure=%{marker.color}<extra></extra>",
         "legendgroup": "",
         "marker": {
          "color": [
           -0.05703482683190034,
           -0.19038650222977255,
           -0.004984922672841847,
           -0.0010539518769973311,
           -0.0003927790258654863,
           -0.00019109174529817843,
           -0.000108103125520581,
           -0.00006686471723046502,
           -0.00004322234729632158,
           -0.000027708188140774772,
           -0.000015766755144124966,
           -0.000004446629484876924,
           0.000009350699853975767,
           0.00003110627036032026,
           0.00007492205741739821,
           0.00019026866335743466,
           0.0004131442550882682,
           0.000850973627470764,
           0.0016219883199160685,
           0.0023009216219664294,
           0.0013737002686397294,
           -0.0008368729921563201,
           -0.0016138556712845316,
           -0.0010369515760038192,
           -0.00046467478198819045,
           -0.0002593069871266861,
           -0.00016765488606844883,
           -0.00012138324787744567,
           -0.00009691431407107737,
           -0.00008500672317087598,
           -0.00008231214432466132,
           -0.00009964817650295231,
           -0.00011955241542655737,
           -0.0001293077549801146,
           -0.0001269801303789446,
           -0.0001141984510000207,
           -0.000095040754057658,
           -0.00007400624313948167,
           -0.000053662595347141874,
           -0.000029777167732097122,
           -0.00001460823175884151,
           -0.0000031389829758333065,
           0.0000074434291961872385,
           0.000019463873243750408,
           0.000035972408576948886,
           0.00006267776771089656,
           0.00009695562040093358,
           0.00012311309895568037,
           0.00014467802871052904,
           0.0001532774255731451,
           0.0001419722268026287,
           0.00011047331480068561,
           0.00006699848255611995,
           0.000023870583633925256,
           0.000009858347169423554,
           0.0000019409218389548155,
           -0.00000416166448573628,
           -0.00000921034640636656,
           -0.000013695024320163229,
           -0.000017961476172857014,
           -0.000022282887676689168,
           -0.00003297452926723124,
           -0.000057442122466546476,
           -0.00008031602572663891,
           -0.00010129397454465055,
           -0.00012014269722911223,
           -0.00013670068298115095,
           -0.00015087725673725735,
           -0.00016264844419096463,
           -0.0001273117918024975,
           -0.00008127926971917852,
           -0.000038829108059399865,
           0.0000063305693681059645,
           0.0000622531101203661,
           0.00014247023331412422,
           0.000274688682447414,
           0.0005006815896525008,
           0.0005119962575340999,
           0.00029844572587298546,
           0.000047842271614119915,
           -0.00007863164761166709,
           -0.00010117930343949937,
           -0.00008401189262953374,
           -0.00006108134985888311,
           -0.000032603926801648935,
           -0.00001578275682804025,
           -0.00000800029452430927,
           -0.0000029543247345726857,
           0.0000022409639401902007,
           0.000011446196556515766,
           0.00003888876487764189,
           0.000201648781937852,
           0.0018698999243820882,
           1.6333173849526337,
           0.006767844946502426,
           -0.0005280722242555793,
           -0.017966323346589794,
           -0.08914885155311189,
           -0.0011585905130173616,
           -0.0001495764037248309,
           -0.000039288940510373284,
           -0.000016329886346684252,
           -0.000008488915298799792,
           -0.000004931693051096925,
           -0.0000028742250072259733,
           -0.0000012216266688065815,
           9.6088453682465e-7,
           7.056095582639484e-7,
           -0.0000025974184566354877,
           -0.00001174421074829343,
           -0.0000400276009203223,
           -0.00015237341700682328,
           -0.0009401978281261573,
           -0.0488291059533913,
           -0.011917205729567087,
           -0.0004901371324102442,
           0.00032742754593276664,
           0.0025140829456302104,
           0.5544215903389955,
           0.005237418830767394,
           0.00038858093842380223,
           0.00008674085439912281,
           0.0000235310531252891,
           0.00000774492033622109,
           0.000002291761222306334,
           -9.24779900261224e-7,
           -0.000004412207947796361,
           -0.000010995418926435167,
           -0.00003071773574451544,
           -0.0001421946035308453,
           -0.0009906535407083234,
           -0.13931131707007088,
           -0.00767642900472091,
           -0.0007085632066849451,
           0.000009427272683519119,
           0.005870799973263179,
           0.007335291035340356,
           0.00014958025427822474,
           0.000023174669094359452,
           0.000004862142681874011,
           -0.0000013055577733955403,
           -0.000005413506950083113,
           -0.000010526972860518426,
           -0.000020274957523167905,
           -0.0000460539200555827,
           -0.00009727776252644061,
           -0.0002061437606733791,
           -0.000461620430130191,
           -0.0010579236951879175,
           -0.002221568798661586,
           -0.003132774659005791,
           -0.0010756533372706543,
           0.0018855608894315335,
           0.0021513174080712463,
           0.001272876613725333,
           0.0006521365353908453,
           0.00033417015115931966,
           0.00017884153285121148,
           0.00010091554638093188,
           0.00005993405632747399,
           0.000030176396565737494,
           0.000015569557571954793,
           0.000008559345461099853,
           0.000004325168806854883,
           9.453900372682173e-7,
           -0.0000028933459023977592,
           -0.000009190655637242228,
           -0.000022779522509365517,
           -0.00003205037213884923,
           -0.0000425181628650151,
           -0.000048075263287103934,
           -0.00003249087074521925,
           0.000027230974043268482,
           0.00012613379988093016,
           0.00019903757383073225,
           0.0001386044158875393,
           0.00003770270113281228,
           -0.00003236961209587942,
           -0.00008705868915609035,
           -0.00013505636124445526,
           -0.00018208747791423363,
           -0.0002327607444472695,
           -0.00029170670733926336,
           -0.0002696629438517333,
           -0.0002676609064273975,
           -0.00030771547524942913,
           -0.0004332944092907003,
           -0.0008266484281186399,
           -0.002670932185313146,
           -0.033695067905547486,
           -0.388703313454551,
           -0.006569467133311785,
           -0.0013888260714411008,
           0.0016512687131797338,
           12.119186096322764,
           0.0010507598423320924,
           0.00006479558569865149,
           0.000002230470862646351,
           -8.621874685618697e-7,
           -6.925065665635289e-7,
           -7.272381240482148e-7,
           -9.049607594647293e-7,
           -0.0000013030611642593537,
           -0.00000220952660877559,
           -0.000004704198759950676,
           -0.000013531089408224922,
           -0.000025884288891961316,
           -0.000040189098663326326,
           0.00008276706594969063,
           0.001154971029697731,
           0.0009503519378979943,
           -0.0000289035237398868,
           -0.0000686549059090135,
           -0.000004406516244636841,
           0.000021554367451274314,
           0.00003599230496755996,
           0.000056223864727620354,
           0.000097922661530344,
           0.00021090196238459792,
           0.0006781374941160651,
           0.0061307403133845995,
           2.8233573327300845,
           0.029809416999474633,
           0.00006133649352783403,
           -0.1401842434377192,
           -0.029414395584816788,
           -0.0010511511081594878,
           -0.00016419022217927773,
           -0.000038515874816868644,
           -0.00001231106283107076,
           -0.000004850795236409145,
           -0.0000015215554770451953,
           8.117030221596303e-7,
           0.000003570854349754552,
           0.000008818874458463374,
           0.000023928448812083823,
           0.00005776309308962987,
           0.00013833720289494373,
           0.00035446448704622694,
           0.00081052849115094,
           0.0006931775930540093,
           -0.000987598958922125,
           -0.0009694882776801534,
           -0.0003579363872288765,
           -0.00011792057463660557,
           -0.00005476687407734607,
           -0.00003096354385338066,
           -0.000019977369628497086,
           -0.000014240189595506464,
           -0.000011032692667226142,
           -0.000009229965255415905,
           -0.00000646367007555068,
           -0.000002583734131963263,
           0.000001930486746560505,
           0.000008247231281231065,
           0.000018791768424667982,
           0.00003979098701713933,
           0.00009137504329364943,
           0.00026426907243798186,
           0.0006315906007650072,
           0.0011280251159708162,
           0.0007803756203141902,
           -0.00034203184807780966,
           -0.0005844992148656391,
           -0.000361321118570203,
           -0.00018409868509237841,
           -0.00007696310240912011,
           -0.00003153515514548101,
           -0.000015194094187451816,
           -0.000006992117710821551,
           -0.0000010154482418097606,
           0.000006070373879297815,
           0.000019987221203674024,
           0.00006409014567394935,
           0.00017058812556077827,
           0.0004987714090667968,
           0.0018482036824551986,
           0.007921591510683054,
           0.004770827168154066,
           -0.017788769899854655,
           -0.00361611699964428,
           -0.0006136967703364992,
           -0.0001791036972208917,
           -0.00009441743734065501,
           -0.0000724580062854642,
           -0.00007486341242001809,
           -0.00010118922464709793,
           -0.00018217175651531555,
           -0.0004875702834073723,
           -0.0008807738037825154,
           0.0007467968588123126,
           0.0016402693632670046,
           0.0007324296603326597,
           0.00023693475082515973,
           0.00007814505338902095,
           0.000028186795002596223,
           0.000010832020024047796,
           0.000003499979049706339,
           8.99260603049983e-7,
           -6.113505977024653e-7,
           -0.000002109490597346448,
           -0.0000045016145023450386,
           -0.000010002279302439594,
           -0.000028628330956755458,
           -0.00012020083404671992,
           -0.000735257466991681,
           -0.01805194643648219,
           -0.16121522485071255,
           0.00009955568738918162,
           0.0429333675391747,
           0.19166346558289238,
           0.002497253700240204,
           0.0003291838105899143,
           0.00011118736185283871,
           0.000057966573377863086,
           0.00003929812128507963,
           0.00003201681061637906,
           0.000029961259898805148,
           0.00003131581792041109,
           0.000032720893838338135,
           0.000029370392481627898,
           0.00002805839932627808,
           0.000028897564046901902,
           0.00003280538240374816,
           0.0000425782130411925,
           0.00006715100730776577,
           0.0001439194084100446,
           0.00030690940838760266,
           0.0004281514322231441,
           -0.0001947991506688973,
           -0.0016161610066192755,
           -0.0012993721703855891,
           -0.00047400979992051373,
           -0.00013503880367222505,
           -0.00003624517888492531,
           -0.000016621432376207828,
           -0.000011957517014274425,
           -0.000011922284196232762,
           -0.00001562919791137712,
           -0.000026956287293735945,
           -0.00006659326295504139,
           -0.00032464892537907716,
           -0.009455238047032685,
           -0.024732217411672478,
           -0.0014006384063206272,
           -0.001475464078893621,
           -0.01909915271901673,
           -0.02414653423918482,
           -0.000639236026252796,
           -0.0001184164177442711,
           -0.00003028569803047564,
           -0.000013975291847152362,
           -0.000009343851069883596,
           -0.000008453991378054993,
           -0.00001025850889691211,
           -0.000017230400461574593,
           -0.00004499965166510726,
           -0.000220053936102268,
           -0.002454426017419977,
           -2.529852047992383,
           -0.002283354952075388,
           -0.0004971360926303446,
           -0.0003635251645278528,
           -0.1630650712915746,
           -0.00014742041759029808,
           -0.000023744584148719584,
           -0.000013465923497099509,
           -0.000011805097824040716,
           -0.000012588846243165713,
           -0.00001524832983509842,
           -0.000020641541616133197,
           -0.00003153142628100088,
           -0.00005221810783366413,
           -0.000067053984184774,
           -0.00008546836621712478,
           -0.0001069649857756806,
           -0.00012905764238759174,
           -0.000145333096846174,
           -0.0001432090236002684,
           -0.00010381418139460303,
           0.0000066975399406001875,
           0.00016449591203420994,
           0.0002636935607846742,
           0.00026167919940796975,
           0.000201362014993529,
           0.00013497782498937872,
           0.00008462322888716075,
           0.000051561528772910714,
           0.000021786306839607306,
           0.000008505230524246438,
           -2.7234568532165747e-8,
           -0.000008458828614262634,
           -0.00002127372135377598,
           -0.0000492243777490461,
           -0.00013763390457453573,
           -0.0005200551114289842,
           -0.0026338698009548997,
           -0.04797611506699554,
           -0.8045294728102776,
           -0.010704256123015865,
           0.0021049248585997293,
           0.0426110078813416,
           2.549369708453162,
           0.008568929655426213,
           0.0011613061588871198,
           0.0002895314294215833,
           0.00008062339596142709,
           0.000013072510390936826,
           -0.000012035944522821881,
           -0.00002167700295316658,
           -0.00002206825186075978,
           -0.000016169268904008683,
           -0.000014023167798124145,
           -0.00001409547282601148,
           -0.0000162498048059221,
           -0.000021477160613036012,
           -0.00003300252778536918,
           -0.00006134802163669337,
           -0.00009603567545093384,
           -0.0000989822059633671,
           -0.0000357246243598763,
           0.00010653724170405079,
           0.00023129911686466134,
           0.00024198035562457572,
           0.00017569711317568583,
           0.00010327920636135834,
           0.00004707990729738422,
           0.000023866762701452184,
           0.000011977935787658931,
           0.00000461001937129121,
           -9.97769102173852e-7,
           -0.000006356402372867568,
           -0.00001275959187605509,
           -0.000015660951158669902,
           -0.000012507423529473073,
           -0.000008369239696938808,
           -0.0000015869487021339708,
           0.000012330652583699336,
           0.000048843140127378755,
           0.00018456732228177308,
           0.0012076056504486837,
           0.02222474016221393,
           0.12470439174540535,
           0.01059179070662003,
           0.030893530263752193,
           48.29512691317996,
           0.023434999049655736,
           0.002214459455363348,
           0.0004872484125099247,
           0.00017085238952363853,
           0.00010103360193295614,
           0.00008562488895283546,
           0.00009787847749358261,
           0.00014896832144013647,
           0.00031761887583169724,
           0.001171830736231882,
           0.007814594713061184,
           0.2065230387453499,
           1.2538048530077008,
           -0.19237777680883872,
           -0.4462858518627748,
           -0.006003873190986031,
           -0.0006481602767445491,
           -0.00010575967361131698,
           0.000031075003373889347,
           0.00007573330078665618,
           0.00011938388471590976,
           0.0001951531676487863,
           0.0003701797519981172,
           0.0009219138857069393,
           0.004041269246416084,
           0.059453879919453306,
           1.803026826561542,
           0.03538981971248769,
           0.015974066524150097,
           0.07782048859481565,
           0.6349518906832536,
           0.008075023880410193,
           0.001381405325896351,
           0.0003162995995590968,
           0.00012569677699244224,
           0.0000665970808205604,
           0.00004227051552019836,
           0.000030681956619670746,
           0.00002502019781073868,
           0.000022993776264573425,
           0.000014340607445366483,
           -0.0001132033705291652,
           -0.0011612267975534074,
           -0.016439729512603567,
           -4.500354164944089,
           -0.030064384717976442,
           2.3475050639896837,
           0.2851181494083466,
           0.014008635725017,
           0.003432801888266825,
           0.001547174442549837,
           0.0010048480399936323,
           0.0008935586694912846,
           0.0011183808390439998,
           0.0021668066915293983,
           0.005541243843515586,
           -0.02374600328489563,
           -0.11898578210487841,
           -0.05713494794109444,
           -0.003520449686406355,
           0.0028070979527053588,
           0.002112842622627059,
           0.0012538407425397179,
           0.0005253654132274439,
           0.00022001722236805843,
           0.00010214360544913271,
           0.00004018605839961394,
           -0.00000535166824144052,
           -0.0000551365108549265,
           -0.0001351232994833284,
           -0.00031339855707566327,
           -0.0006163695135297789,
           -0.0011281649276865186,
           -0.0018587342417858894,
           -0.002598205654536867,
           -0.0028514510001962892,
           -0.0022620665685931934,
           -0.0011605791713239215,
           -0.0006021155981708179,
           -0.0006884428932195237,
           -0.0007851854883448031,
           -0.0009093411815042949,
           -0.0010780842029397756,
           -0.001315442309716412,
           -0.001660158571551033,
           -0.0021796316726506396,
           -0.0021620313183906346,
           -0.002064802827509999,
           -0.0020317055875347517,
           -0.0020777838138184915,
           -0.002244299688703259,
           -0.002649477951127055,
           -0.0037440177112188088,
           -0.009023623343959102,
           -0.04611271706298713,
           -0.6522936727442261,
           53.703461903907915,
           -0.3515862774514293,
           -0.03213498400707754,
           -0.007044861282930181,
           -0.002335622872566318,
           -0.0007182506765719705,
           -0.00028184972660473865,
           -0.0001398299930405999,
           -0.00007680131267194186,
           -0.00004038281055261788,
           -0.000010835409939481722,
           0.000027338868016621794,
           0.00009995313191061963,
           0.0000860433198267503,
           -0.0000010689726426269962,
           -0.00024908039806670904,
           -0.0007422493486471834,
           -0.0013800957919083035,
           -0.0017441956293416903,
           -0.0015183493054828291,
           -0.0010857470435951075,
           -0.0008371892470234104,
           -0.0006540649726208872,
           -0.0005172481831389352,
           -0.00041367194366184366,
           -0.0003342854205482801,
           -0.0002727332478474385,
           -0.00022449298956062004,
           -0.00008889899389447989,
           0.000016778047233671602,
           0.0001254102006482625,
           0.00028774625079698465,
           0.0006189858889684958,
           0.001541931562845809,
           0.005662449919423884,
           0.05068873960346919,
           5.968963639406536,
           0.24741797808017313,
           0.03793371565232907,
           0.029877740132766846,
           11.83846187545578,
           0.006990163161115057,
           0.0014408330431041488,
           0.00043915222831445534,
           0.0002636651137036827,
           0.00024612017852435644,
           0.00030058870811801183,
           0.0004557760796531766,
           0.0008785723668059502,
           0.002434218863725574,
           0.013327890723163937,
           0.13327195492094765,
           10.96768139987454,
           0.2654528384806839,
           0.8949397092797241,
           0.6527877597029512,
           0.022791198278739315,
           0.004491455304242341,
           0.001172958925403939,
           0.0004477534071861893,
           0.00025428170705540953,
           0.00019322322471622815,
           0.00019266198294675194,
           0.000257832333390367,
           0.0004964502491879222,
           0.001686080925696304,
           0.007423913806268538,
           0.10976707034549095,
           2.1566313929360095,
           0.04427220549525633,
           0.029874335978574227,
           0.21125875143324502,
           1.231657899053186,
           0.014836958638036656,
           0.0014360070525242464,
           -0.0002265194940108175,
           -0.0007832731177116447,
           -0.001194678670463697,
           -0.0017202891249427422,
           -0.002599582705395451,
           -0.004341064604902162,
           -0.005539843668958789,
           -0.006421627748736039,
           -0.007503858156939751,
           -0.008874403236059076,
           -0.010680165205198988,
           -0.013156099069506965,
           -0.0164648908984758,
           -0.019172180972807568,
           0.023713608846168757,
           0.11624215087056462,
           0.034589724479807224,
           0.0041535034956570824,
           -0.00010355157373818839,
           -0.00045661489624695555,
           -0.0003482337096206279,
           -0.0002994408402691151,
           -0.00031302404241988294,
           -0.0003488225930411353,
           -0.0004148835437834309,
           -0.0005279578006239879,
           -0.0007245919232318763,
           -0.00108999965565095,
           -0.0018434096782478419,
           -0.002454350298488514,
           -0.0031545625460093255,
           -0.0038300092234160106,
           -0.0042644537388922136,
           -0.004179687424605348,
           -0.003378698778132722,
           -0.0019257846049796333,
           -0.000967401659187838,
           -0.0010457074133509864,
           -0.0011121127832417082,
           -0.0011667220878377495,
           -0.001209818262939508,
           -0.0012418423179562845,
           -0.0012633703132350124,
           -0.0012750887723763508,
           -0.0011786397185972533,
           -0.001097742243243191,
           -0.001049102884207695,
           -0.0010290388715417354,
           -0.0010365081378265822,
           -0.0010729948238240644,
           -0.0011428626760454704,
           -0.0011724682763129218,
           -0.0010090050164842904,
           -0.000883610288280721,
           -0.0007698867374781014,
           -0.0006162434282677266,
           -0.00024302650847476894,
           0.00139309018932847,
           0.01963783025831656,
           34.536833577829455,
           0.06456905588158063,
           0.013990763095027843,
           0.019445844422317334,
           0.42508202818615093,
           0.1340697745376694,
           0.005883334149494549,
           0.0011392834759396994,
           -0.0000363919578690604,
           -0.0002912591195145315,
           -0.00042197411692853677,
           -0.0005549398088780965,
           -0.0007454929174584672,
           -0.001064258687022957,
           -0.0016638891336977647,
           -0.0023327900878185037,
           -0.0026381358872252006,
           -0.002968914347182158,
           -0.0032903474585192893,
           -0.003488083472696962,
           -0.003179932267953545,
           -0.0009074950133568169,
           0.010622304427919345,
           0.033868179681561465,
           0.07697313863605769,
           0.0464128613820093,
           -0.06276744319411509,
           -0.05025949653197845,
           -0.020711559635358482,
           -0.008082765596815268,
           -0.003000280329538478,
           -0.0010739801838372484,
           -0.00043553433917127706,
           -0.000137145186466818,
           0.00005507913326895629,
           0.00023108752301048485,
           0.00045630104775199094,
           0.0008323939913056542,
           -0.00004629659019047471,
           -0.0020571772325918484,
           -0.0040613965399280295,
           -0.005171675680834162,
           -0.005072159892333761,
           -0.0041643873261733525,
           -0.003040446781989483,
           -0.0019794731726765075,
           -0.0010373048120399118,
           -0.0005867608597748333,
           -0.0003130343712413191,
           -0.0000858501669485998,
           0.00020073312748728294,
           0.0007647997380425303,
           0.0024870147227710722,
           0.0057956913432720076,
           0.0012145354851483487,
           -0.029362173902180426,
           -0.043829294082475705,
           -0.01732719205956212,
           -0.0036064099531818283,
           -0.00031221377072628394,
           0.00026201902776125586,
           0.00015533104198593131,
           0.00013370769088182064
          ],
          "coloraxis": "coloraxis",
          "symbol": "circle"
         },
         "mode": "markers",
         "name": "",
         "orientation": "v",
         "showlegend": false,
         "type": "scatter",
         "x": [
          1719,
          1781,
          1881,
          1910,
          1957,
          2010,
          2082,
          2130,
          2187,
          2252,
          2315,
          2384,
          2538,
          2549,
          2703,
          2767,
          2776,
          2923,
          2926,
          3018,
          3051,
          3102,
          3254,
          3316,
          3366,
          3401,
          3411,
          3542,
          3572,
          3637,
          3654,
          3827,
          3873,
          3954,
          4034,
          4064,
          4154,
          4172,
          4204,
          4243,
          4388,
          4402,
          4496,
          4597,
          4627,
          4707,
          4714,
          4856,
          4860,
          4965,
          5033,
          5084,
          5188,
          5194,
          5248,
          5366,
          5423,
          5538,
          5618,
          5624,
          5701,
          5718,
          5823,
          5830,
          5968,
          5990,
          6014,
          6020,
          6044,
          6049,
          6037,
          6015,
          6011,
          5986,
          5974,
          5957,
          5935,
          5934,
          5903,
          5896,
          5834,
          5831,
          5788,
          5754,
          5733,
          5630,
          5559,
          5496,
          5426,
          5381,
          5379,
          5298,
          5249,
          5237,
          5187,
          5138,
          5064,
          5033,
          4934,
          4929,
          4845,
          4798,
          4773,
          4737,
          4709,
          4680,
          4662,
          4638,
          4597,
          4534,
          4530,
          4483,
          4464,
          4431,
          4380,
          4371,
          4327,
          4312,
          4290,
          4214,
          4190,
          4070,
          4053,
          3996,
          3950,
          3926,
          3847,
          3643,
          3607,
          3512,
          3399,
          3394,
          3307,
          3177,
          3172,
          3024,
          2927,
          2851,
          2761,
          2716,
          2696,
          2622,
          2602,
          2540,
          2524,
          2451,
          2435,
          2387,
          2373,
          2365,
          2343,
          2335,
          2311,
          2292,
          2256,
          2247,
          2222,
          2219,
          2174,
          2171,
          2099,
          2086,
          2027,
          1989,
          1926,
          1922,
          1875,
          1857,
          1789,
          1749,
          1700,
          1669,
          1577,
          1558,
          1383,
          1378,
          1254,
          1213,
          1094,
          1002,
          922,
          917,
          763,
          714,
          587,
          583,
          454,
          427,
          411,
          375,
          357,
          257,
          255,
          218,
          178,
          161,
          154,
          139,
          125,
          122,
          124,
          128,
          145,
          202,
          203,
          249,
          254,
          288,
          324,
          342,
          385,
          398,
          437,
          455,
          461,
          463,
          470,
          468,
          463,
          450,
          429,
          416,
          357,
          339,
          249,
          244,
          143,
          47,
          43,
          -42,
          -70,
          -180,
          -282,
          -339,
          -416,
          -448,
          -495,
          -576,
          -666,
          -674,
          -737,
          -775,
          -936,
          -956,
          -1060,
          -1106,
          -1192,
          -1214,
          -1337,
          -1388,
          -1656,
          -1662,
          -1821,
          -1946,
          -1989,
          -2055,
          -2109,
          -2335,
          -2354,
          -2455,
          -2562,
          -2715,
          -2720,
          -2821,
          -2892,
          -2922,
          -3065,
          -3072,
          -3131,
          -3187,
          -3281,
          -3323,
          -3356,
          -3442,
          -3501,
          -3631,
          -3654,
          -3707,
          -3738,
          -3752,
          -3859,
          -3905,
          -3980,
          -4069,
          -4111,
          -4204,
          -4222,
          -4333,
          -4418,
          -4577,
          -4582,
          -4743,
          -4809,
          -4918,
          -4925,
          -4956,
          -5015,
          -5141,
          -5159,
          -5196,
          -5216,
          -5300,
          -5332,
          -5371,
          -5423,
          -5440,
          -5477,
          -5553,
          -5563,
          -5586,
          -5604,
          -5618,
          -5619,
          -5645,
          -5654,
          -5664,
          -5670,
          -5677,
          -5677,
          -5695,
          -5701,
          -5718,
          -5723,
          -5747,
          -5762,
          -5771,
          -5876,
          -5883,
          -5920,
          -5928,
          -5939,
          -5954,
          -5957,
          -5979,
          -6002,
          -6018,
          -6029,
          -6039,
          -6056,
          -6069,
          -6107,
          -6113,
          -6140,
          -6141,
          -6145,
          -6143,
          -6132,
          -6124,
          -6090,
          -6084,
          -6048,
          -6032,
          -5997,
          -5910,
          -5904,
          -5885,
          -5881,
          -5821,
          -5819,
          -5799,
          -5780,
          -5773,
          -5772,
          -5770,
          -5770,
          -5779,
          -5786,
          -5795,
          -5800,
          -5833,
          -5851,
          -5867,
          -5901,
          -5903,
          -5929,
          -5933,
          -5967,
          -5973,
          -6001,
          -6010,
          -6042,
          -6053,
          -6094,
          -6117,
          -6124,
          -6137,
          -6168,
          -6189,
          -6209,
          -6221,
          -6226,
          -6248,
          -6253,
          -6269,
          -6276,
          -6302,
          -6317,
          -6330,
          -6353,
          -6381,
          -6392,
          -6426,
          -6450,
          -6493,
          -6549,
          -6569,
          -6587,
          -6601,
          -6618,
          -6657,
          -6694,
          -6773,
          -6784,
          -6831,
          -6864,
          -6866,
          -6978,
          -7059,
          -7143,
          -7158,
          -7234,
          -7270,
          -7331,
          -7391,
          -7514,
          -7536,
          -7628,
          -7690,
          -7756,
          -7846,
          -7898,
          -8083,
          -8123,
          -8216,
          -8268,
          -8532,
          -8542,
          -8659,
          -8677,
          -8776,
          -8895,
          -9071,
          -9138,
          -9264,
          -9291,
          -9426,
          -9451,
          -9651,
          -9662,
          -9742,
          -9809,
          -9960,
          -10000,
          -10102,
          -10177,
          -10289,
          -10428,
          -10454,
          -10640,
          -10650,
          -10765,
          -10849,
          -11018,
          -11042,
          -11219,
          -11285,
          -11323,
          -11356,
          -11388,
          -11437,
          -11446,
          -11490,
          -11576,
          -11599,
          -11650,
          -11653,
          -11734,
          -11766,
          -11815,
          -11841,
          -11868,
          -11901,
          -11940,
          -11966,
          -11995,
          -12054,
          -12063,
          -12166,
          -12242,
          -12266,
          -12354,
          -12453,
          -12503,
          -12514,
          -12543,
          -12718,
          -12752,
          -12913,
          -12969,
          -13043,
          -13146,
          -13163,
          -13224,
          -13258,
          -13334,
          -13339,
          -13415,
          -13470,
          -13491,
          -13513,
          -13547,
          -13560,
          -13609,
          -13631,
          -13668,
          -13681,
          -13695,
          -13704,
          -13704,
          -13706,
          -13706,
          -13693,
          -13691,
          -13681,
          -13672,
          -13607,
          -13605,
          -13531,
          -13523,
          -13470,
          -13467,
          -13405,
          -13401,
          -13387,
          -13351,
          -13294,
          -13123,
          -13099,
          -12995,
          -12968,
          -12926,
          -12920,
          -12743,
          -12737,
          -12673,
          -12598,
          -12457,
          -12414,
          -12354,
          -12290,
          -12234,
          -12139,
          -11930,
          -11910,
          -11860,
          -11836,
          -11734,
          -11617,
          -11594,
          -11465,
          -11333,
          -11325,
          -11093,
          -11024,
          -10984,
          -10957,
          -10846,
          -10840,
          -10620,
          -10607,
          -10405,
          -10325,
          -10255,
          -10186,
          -10047,
          -9965,
          -9927,
          -9724,
          -9716,
          -9547,
          -9533,
          -9339,
          -9303,
          -9195,
          -9119,
          -9042,
          -8977,
          -8732,
          -8663,
          -8514,
          -8467,
          -8334,
          -8326,
          -7806,
          -7798,
          -7533,
          -7522,
          -7389,
          -7268,
          -7146,
          -7093,
          -6870,
          -6829,
          -6726,
          -6721,
          -6534,
          -6462,
          -6326,
          -6303,
          -6197,
          -6145,
          -6020,
          -5969,
          -5667,
          -5602,
          -5370,
          -5354,
          -5214,
          -5149,
          -5067,
          -5059,
          -4839,
          -4655,
          -4566,
          -4396,
          -4376,
          -4179,
          -4144,
          -3981,
          -3975,
          -3865,
          -3830,
          -3724,
          -3680,
          -3595,
          -3577,
          -3458,
          -3452,
          -3360,
          -3283,
          -3093,
          -3030,
          -3009,
          -2938,
          -2780,
          -2694,
          -2649,
          -2597,
          -2516,
          -2488,
          -2449,
          -2387,
          -2349,
          -2303,
          -2282,
          -2260,
          -2207,
          -2113,
          -2110,
          -2102,
          -2064,
          -2044,
          -2011,
          -1967,
          -1881,
          -1878,
          -1833,
          -1814,
          -1779,
          -1726,
          -1718,
          -1652,
          -1647,
          -1602,
          -1582,
          -1570,
          -1507,
          -1505,
          -1472,
          -1469,
          -1441,
          -1378,
          -1375,
          -1309,
          -1304,
          -1204,
          -1195,
          -1177,
          -1148,
          -1123,
          -1087,
          -1080,
          -1030,
          -1028,
          -996,
          -970,
          -931,
          -909,
          -895,
          -858,
          -799,
          -754,
          -700,
          -672,
          -622,
          -600,
          -527,
          -487,
          -374,
          -341,
          -237,
          -140,
          -99,
          6,
          25,
          88,
          135,
          298,
          338,
          381,
          405,
          527,
          566,
          637,
          651,
          815,
          823,
          937,
          1066,
          1176,
          1241,
          1312,
          1354,
          1390,
          1479,
          1495,
          1646,
          1733,
          1749
         ],
         "xaxis": "x",
         "y": [
          -868,
          -939,
          -1057,
          -1090,
          -1144,
          -1206,
          -1291,
          -1347,
          -1413,
          -1489,
          -1564,
          -1644,
          -1824,
          -1836,
          -2016,
          -2091,
          -2102,
          -2274,
          -2278,
          -2385,
          -2424,
          -2484,
          -2660,
          -2732,
          -2790,
          -2832,
          -2844,
          -2997,
          -3032,
          -3107,
          -3126,
          -3331,
          -3385,
          -3481,
          -3576,
          -3611,
          -3717,
          -3738,
          -3776,
          -3822,
          -3992,
          -4009,
          -4120,
          -4238,
          -4273,
          -4368,
          -4376,
          -4542,
          -4547,
          -4669,
          -4749,
          -4809,
          -4930,
          -4938,
          -5002,
          -5142,
          -5210,
          -5345,
          -5439,
          -5447,
          -5542,
          -5562,
          -5693,
          -5703,
          -5938,
          -5978,
          -6030,
          -6076,
          -6286,
          -6393,
          -6510,
          -6589,
          -6604,
          -6702,
          -6748,
          -6804,
          -6875,
          -6880,
          -6957,
          -6970,
          -7074,
          -7080,
          -7133,
          -7160,
          -7174,
          -7241,
          -7272,
          -7288,
          -7300,
          -7305,
          -7305,
          -7307,
          -7303,
          -7302,
          -7294,
          -7283,
          -7257,
          -7242,
          -7185,
          -7181,
          -7106,
          -7053,
          -7023,
          -6975,
          -6932,
          -6887,
          -6858,
          -6821,
          -6754,
          -6645,
          -6639,
          -6555,
          -6521,
          -6463,
          -6372,
          -6357,
          -6279,
          -6253,
          -6216,
          -6094,
          -6059,
          -5895,
          -5873,
          -5801,
          -5756,
          -5731,
          -5658,
          -5526,
          -5507,
          -5471,
          -5454,
          -5453,
          -5443,
          -5433,
          -5432,
          -5421,
          -5400,
          -5383,
          -5356,
          -5320,
          -5306,
          -5256,
          -5241,
          -5185,
          -5166,
          -5069,
          -5047,
          -4964,
          -4911,
          -4885,
          -4817,
          -4792,
          -4708,
          -4640,
          -4514,
          -4484,
          -4400,
          -4386,
          -4240,
          -4234,
          -4094,
          -4073,
          -4005,
          -3967,
          -3910,
          -3907,
          -3872,
          -3860,
          -3819,
          -3798,
          -3776,
          -3765,
          -3737,
          -3734,
          -3710,
          -3709,
          -3703,
          -3700,
          -3693,
          -3687,
          -3674,
          -3672,
          -3633,
          -3616,
          -3552,
          -3549,
          -3456,
          -3434,
          -3421,
          -3385,
          -3366,
          -3247,
          -3244,
          -3190,
          -3108,
          -3068,
          -3045,
          -2987,
          -2904,
          -2841,
          -2826,
          -2772,
          -2695,
          -2535,
          -2530,
          -2419,
          -2408,
          -2324,
          -2231,
          -2189,
          -2079,
          -2042,
          -1936,
          -1875,
          -1833,
          -1811,
          -1717,
          -1680,
          -1633,
          -1576,
          -1509,
          -1475,
          -1364,
          -1338,
          -1226,
          -1220,
          -1134,
          -1071,
          -1069,
          -1025,
          -1013,
          -962,
          -915,
          -888,
          -855,
          -844,
          -826,
          -800,
          -775,
          -774,
          -760,
          -752,
          -723,
          -719,
          -707,
          -704,
          -699,
          -699,
          -698,
          -699,
          -720,
          -721,
          -758,
          -798,
          -812,
          -838,
          -863,
          -974,
          -983,
          -1039,
          -1115,
          -1239,
          -1243,
          -1340,
          -1430,
          -1469,
          -1660,
          -1670,
          -1749,
          -1823,
          -1947,
          -2003,
          -2047,
          -2158,
          -2230,
          -2386,
          -2414,
          -2481,
          -2517,
          -2530,
          -2629,
          -2667,
          -2711,
          -2726,
          -2733,
          -2751,
          -2754,
          -2773,
          -2787,
          -2814,
          -2814,
          -2840,
          -2850,
          -2864,
          -2865,
          -2867,
          -2868,
          -2869,
          -2869,
          -2868,
          -2865,
          -2853,
          -2845,
          -2835,
          -2814,
          -2804,
          -2773,
          -2694,
          -2681,
          -2643,
          -2603,
          -2570,
          -2567,
          -2484,
          -2448,
          -2386,
          -2329,
          -2266,
          -2261,
          -2125,
          -2078,
          -2001,
          -1984,
          -1874,
          -1803,
          -1766,
          -1278,
          -1247,
          -1074,
          -1041,
          -982,
          -915,
          -898,
          -800,
          -691,
          -617,
          -559,
          -511,
          -423,
          -363,
          -156,
          -110,
          85,
          94,
          192,
          231,
          362,
          410,
          555,
          572,
          679,
          719,
          801,
          984,
          998,
          1034,
          1045,
          1177,
          1180,
          1233,
          1303,
          1341,
          1343,
          1412,
          1435,
          1473,
          1489,
          1509,
          1519,
          1561,
          1581,
          1596,
          1614,
          1615,
          1624,
          1625,
          1631,
          1632,
          1632,
          1631,
          1626,
          1624,
          1609,
          1598,
          1594,
          1586,
          1560,
          1541,
          1520,
          1504,
          1496,
          1465,
          1458,
          1430,
          1419,
          1369,
          1342,
          1316,
          1273,
          1217,
          1198,
          1137,
          1091,
          1015,
          919,
          888,
          857,
          836,
          808,
          747,
          692,
          570,
          552,
          480,
          434,
          430,
          275,
          175,
          83,
          66,
          -3,
          -34,
          -85,
          -129,
          -213,
          -227,
          -278,
          -303,
          -328,
          -353,
          -363,
          -396,
          -402,
          -412,
          -415,
          -430,
          -431,
          -428,
          -427,
          -420,
          -405,
          -380,
          -368,
          -337,
          -329,
          -293,
          -285,
          -218,
          -215,
          -186,
          -161,
          -102,
          -87,
          -44,
          -10,
          41,
          118,
          135,
          261,
          268,
          353,
          429,
          598,
          624,
          851,
          947,
          1007,
          1067,
          1131,
          1236,
          1257,
          1358,
          1561,
          1615,
          1736,
          1743,
          1933,
          2007,
          2113,
          2163,
          2216,
          2280,
          2354,
          2402,
          2453,
          2543,
          2555,
          2664,
          2720,
          2734,
          2777,
          2809,
          2820,
          2822,
          2826,
          2834,
          2835,
          2825,
          2817,
          2802,
          2781,
          2776,
          2757,
          2744,
          2714,
          2712,
          2671,
          2636,
          2621,
          2602,
          2569,
          2554,
          2490,
          2449,
          2365,
          2333,
          2286,
          2208,
          2199,
          2135,
          2129,
          2027,
          2009,
          1962,
          1938,
          1774,
          1770,
          1646,
          1636,
          1566,
          1563,
          1492,
          1488,
          1474,
          1438,
          1382,
          1235,
          1215,
          1135,
          1116,
          1085,
          1081,
          950,
          945,
          898,
          847,
          750,
          721,
          680,
          640,
          604,
          545,
          417,
          405,
          375,
          362,
          304,
          239,
          226,
          156,
          86,
          81,
          -38,
          -73,
          -92,
          -104,
          -158,
          -160,
          -260,
          -266,
          -350,
          -382,
          -408,
          -433,
          -485,
          -513,
          -527,
          -597,
          -600,
          -658,
          -663,
          -727,
          -740,
          -776,
          -802,
          -828,
          -849,
          -933,
          -956,
          -1005,
          -1021,
          -1066,
          -1069,
          -1243,
          -1245,
          -1335,
          -1339,
          -1383,
          -1424,
          -1464,
          -1482,
          -1557,
          -1570,
          -1606,
          -1607,
          -1670,
          -1694,
          -1740,
          -1747,
          -1783,
          -1800,
          -1843,
          -1860,
          -1962,
          -1983,
          -2048,
          -2050,
          -2056,
          -2050,
          -2036,
          -2034,
          -1965,
          -1895,
          -1858,
          -1778,
          -1768,
          -1661,
          -1640,
          -1534,
          -1530,
          -1454,
          -1429,
          -1348,
          -1313,
          -1241,
          -1225,
          -1117,
          -1112,
          -1025,
          -953,
          -775,
          -715,
          -694,
          -623,
          -466,
          -380,
          -335,
          -282,
          -200,
          -172,
          -134,
          -72,
          -36,
          7,
          26,
          44,
          88,
          151,
          152,
          158,
          176,
          185,
          199,
          214,
          231,
          232,
          237,
          235,
          229,
          217,
          214,
          172,
          168,
          128,
          111,
          101,
          56,
          55,
          40,
          39,
          31,
          23,
          23,
          26,
          27,
          55,
          60,
          69,
          86,
          106,
          135,
          142,
          190,
          193,
          224,
          247,
          283,
          302,
          313,
          342,
          382,
          408,
          433,
          444,
          459,
          464,
          478,
          483,
          489,
          491,
          490,
          480,
          474,
          454,
          451,
          435,
          421,
          365,
          352,
          336,
          325,
          268,
          246,
          205,
          196,
          87,
          82,
          -8,
          -127,
          -240,
          -309,
          -388,
          -436,
          -479,
          -585,
          -604,
          -780,
          -881,
          -900
         ],
         "yaxis": "y"
        }
       ],
       "layout": {
        "coloraxis": {
         "colorbar": {
          "title": {
           "text": "Courbure"
          }
         },
         "colorscale": [
          [
           0,
           "rgb(255,245,240)"
          ],
          [
           0.125,
           "rgb(254,224,210)"
          ],
          [
           0.25,
           "rgb(252,187,161)"
          ],
          [
           0.375,
           "rgb(252,146,114)"
          ],
          [
           0.5,
           "rgb(251,106,74)"
          ],
          [
           0.625,
           "rgb(239,59,44)"
          ],
          [
           0.75,
           "rgb(203,24,29)"
          ],
          [
           0.875,
           "rgb(165,15,21)"
          ],
          [
           1,
           "rgb(103,0,13)"
          ]
         ]
        },
        "legend": {
         "tracegroupgap": 0
        },
        "template": {
         "data": {
          "bar": [
           {
            "error_x": {
             "color": "#2a3f5f"
            },
            "error_y": {
             "color": "#2a3f5f"
            },
            "marker": {
             "line": {
              "color": "#E5ECF6",
              "width": 0.5
             },
             "pattern": {
              "fillmode": "overlay",
              "size": 10,
              "solidity": 0.2
             }
            },
            "type": "bar"
           }
          ],
          "barpolar": [
           {
            "marker": {
             "line": {
              "color": "#E5ECF6",
              "width": 0.5
             },
             "pattern": {
              "fillmode": "overlay",
              "size": 10,
              "solidity": 0.2
             }
            },
            "type": "barpolar"
           }
          ],
          "carpet": [
           {
            "aaxis": {
             "endlinecolor": "#2a3f5f",
             "gridcolor": "white",
             "linecolor": "white",
             "minorgridcolor": "white",
             "startlinecolor": "#2a3f5f"
            },
            "baxis": {
             "endlinecolor": "#2a3f5f",
             "gridcolor": "white",
             "linecolor": "white",
             "minorgridcolor": "white",
             "startlinecolor": "#2a3f5f"
            },
            "type": "carpet"
           }
          ],
          "choropleth": [
           {
            "colorbar": {
             "outlinewidth": 0,
             "ticks": ""
            },
            "type": "choropleth"
           }
          ],
          "contour": [
           {
            "colorbar": {
             "outlinewidth": 0,
             "ticks": ""
            },
            "colorscale": [
             [
              0,
              "#0d0887"
             ],
             [
              0.1111111111111111,
              "#46039f"
             ],
             [
              0.2222222222222222,
              "#7201a8"
             ],
             [
              0.3333333333333333,
              "#9c179e"
             ],
             [
              0.4444444444444444,
              "#bd3786"
             ],
             [
              0.5555555555555556,
              "#d8576b"
             ],
             [
              0.6666666666666666,
              "#ed7953"
             ],
             [
              0.7777777777777778,
              "#fb9f3a"
             ],
             [
              0.8888888888888888,
              "#fdca26"
             ],
             [
              1,
              "#f0f921"
             ]
            ],
            "type": "contour"
           }
          ],
          "contourcarpet": [
           {
            "colorbar": {
             "outlinewidth": 0,
             "ticks": ""
            },
            "type": "contourcarpet"
           }
          ],
          "heatmap": [
           {
            "colorbar": {
             "outlinewidth": 0,
             "ticks": ""
            },
            "colorscale": [
             [
              0,
              "#0d0887"
             ],
             [
              0.1111111111111111,
              "#46039f"
             ],
             [
              0.2222222222222222,
              "#7201a8"
             ],
             [
              0.3333333333333333,
              "#9c179e"
             ],
             [
              0.4444444444444444,
              "#bd3786"
             ],
             [
              0.5555555555555556,
              "#d8576b"
             ],
             [
              0.6666666666666666,
              "#ed7953"
             ],
             [
              0.7777777777777778,
              "#fb9f3a"
             ],
             [
              0.8888888888888888,
              "#fdca26"
             ],
             [
              1,
              "#f0f921"
             ]
            ],
            "type": "heatmap"
           }
          ],
          "heatmapgl": [
           {
            "colorbar": {
             "outlinewidth": 0,
             "ticks": ""
            },
            "colorscale": [
             [
              0,
              "#0d0887"
             ],
             [
              0.1111111111111111,
              "#46039f"
             ],
             [
              0.2222222222222222,
              "#7201a8"
             ],
             [
              0.3333333333333333,
              "#9c179e"
             ],
             [
              0.4444444444444444,
              "#bd3786"
             ],
             [
              0.5555555555555556,
              "#d8576b"
             ],
             [
              0.6666666666666666,
              "#ed7953"
             ],
             [
              0.7777777777777778,
              "#fb9f3a"
             ],
             [
              0.8888888888888888,
              "#fdca26"
             ],
             [
              1,
              "#f0f921"
             ]
            ],
            "type": "heatmapgl"
           }
          ],
          "histogram": [
           {
            "marker": {
             "pattern": {
              "fillmode": "overlay",
              "size": 10,
              "solidity": 0.2
             }
            },
            "type": "histogram"
           }
          ],
          "histogram2d": [
           {
            "colorbar": {
             "outlinewidth": 0,
             "ticks": ""
            },
            "colorscale": [
             [
              0,
              "#0d0887"
             ],
             [
              0.1111111111111111,
              "#46039f"
             ],
             [
              0.2222222222222222,
              "#7201a8"
             ],
             [
              0.3333333333333333,
              "#9c179e"
             ],
             [
              0.4444444444444444,
              "#bd3786"
             ],
             [
              0.5555555555555556,
              "#d8576b"
             ],
             [
              0.6666666666666666,
              "#ed7953"
             ],
             [
              0.7777777777777778,
              "#fb9f3a"
             ],
             [
              0.8888888888888888,
              "#fdca26"
             ],
             [
              1,
              "#f0f921"
             ]
            ],
            "type": "histogram2d"
           }
          ],
          "histogram2dcontour": [
           {
            "colorbar": {
             "outlinewidth": 0,
             "ticks": ""
            },
            "colorscale": [
             [
              0,
              "#0d0887"
             ],
             [
              0.1111111111111111,
              "#46039f"
             ],
             [
              0.2222222222222222,
              "#7201a8"
             ],
             [
              0.3333333333333333,
              "#9c179e"
             ],
             [
              0.4444444444444444,
              "#bd3786"
             ],
             [
              0.5555555555555556,
              "#d8576b"
             ],
             [
              0.6666666666666666,
              "#ed7953"
             ],
             [
              0.7777777777777778,
              "#fb9f3a"
             ],
             [
              0.8888888888888888,
              "#fdca26"
             ],
             [
              1,
              "#f0f921"
             ]
            ],
            "type": "histogram2dcontour"
           }
          ],
          "mesh3d": [
           {
            "colorbar": {
             "outlinewidth": 0,
             "ticks": ""
            },
            "type": "mesh3d"
           }
          ],
          "parcoords": [
           {
            "line": {
             "colorbar": {
              "outlinewidth": 0,
              "ticks": ""
             }
            },
            "type": "parcoords"
           }
          ],
          "pie": [
           {
            "automargin": true,
            "type": "pie"
           }
          ],
          "scatter": [
           {
            "fillpattern": {
             "fillmode": "overlay",
             "size": 10,
             "solidity": 0.2
            },
            "type": "scatter"
           }
          ],
          "scatter3d": [
           {
            "line": {
             "colorbar": {
              "outlinewidth": 0,
              "ticks": ""
             }
            },
            "marker": {
             "colorbar": {
              "outlinewidth": 0,
              "ticks": ""
             }
            },
            "type": "scatter3d"
           }
          ],
          "scattercarpet": [
           {
            "marker": {
             "colorbar": {
              "outlinewidth": 0,
              "ticks": ""
             }
            },
            "type": "scattercarpet"
           }
          ],
          "scattergeo": [
           {
            "marker": {
             "colorbar": {
              "outlinewidth": 0,
              "ticks": ""
             }
            },
            "type": "scattergeo"
           }
          ],
          "scattergl": [
           {
            "marker": {
             "colorbar": {
              "outlinewidth": 0,
              "ticks": ""
             }
            },
            "type": "scattergl"
           }
          ],
          "scattermapbox": [
           {
            "marker": {
             "colorbar": {
              "outlinewidth": 0,
              "ticks": ""
             }
            },
            "type": "scattermapbox"
           }
          ],
          "scatterpolar": [
           {
            "marker": {
             "colorbar": {
              "outlinewidth": 0,
              "ticks": ""
             }
            },
            "type": "scatterpolar"
           }
          ],
          "scatterpolargl": [
           {
            "marker": {
             "colorbar": {
              "outlinewidth": 0,
              "ticks": ""
             }
            },
            "type": "scatterpolargl"
           }
          ],
          "scatterternary": [
           {
            "marker": {
             "colorbar": {
              "outlinewidth": 0,
              "ticks": ""
             }
            },
            "type": "scatterternary"
           }
          ],
          "surface": [
           {
            "colorbar": {
             "outlinewidth": 0,
             "ticks": ""
            },
            "colorscale": [
             [
              0,
              "#0d0887"
             ],
             [
              0.1111111111111111,
              "#46039f"
             ],
             [
              0.2222222222222222,
              "#7201a8"
             ],
             [
              0.3333333333333333,
              "#9c179e"
             ],
             [
              0.4444444444444444,
              "#bd3786"
             ],
             [
              0.5555555555555556,
              "#d8576b"
             ],
             [
              0.6666666666666666,
              "#ed7953"
             ],
             [
              0.7777777777777778,
              "#fb9f3a"
             ],
             [
              0.8888888888888888,
              "#fdca26"
             ],
             [
              1,
              "#f0f921"
             ]
            ],
            "type": "surface"
           }
          ],
          "table": [
           {
            "cells": {
             "fill": {
              "color": "#EBF0F8"
             },
             "line": {
              "color": "white"
             }
            },
            "header": {
             "fill": {
              "color": "#C8D4E3"
             },
             "line": {
              "color": "white"
             }
            },
            "type": "table"
           }
          ]
         },
         "layout": {
          "annotationdefaults": {
           "arrowcolor": "#2a3f5f",
           "arrowhead": 0,
           "arrowwidth": 1
          },
          "autotypenumbers": "strict",
          "coloraxis": {
           "colorbar": {
            "outlinewidth": 0,
            "ticks": ""
           }
          },
          "colorscale": {
           "diverging": [
            [
             0,
             "#8e0152"
            ],
            [
             0.1,
             "#c51b7d"
            ],
            [
             0.2,
             "#de77ae"
            ],
            [
             0.3,
             "#f1b6da"
            ],
            [
             0.4,
             "#fde0ef"
            ],
            [
             0.5,
             "#f7f7f7"
            ],
            [
             0.6,
             "#e6f5d0"
            ],
            [
             0.7,
             "#b8e186"
            ],
            [
             0.8,
             "#7fbc41"
            ],
            [
             0.9,
             "#4d9221"
            ],
            [
             1,
             "#276419"
            ]
           ],
           "sequential": [
            [
             0,
             "#0d0887"
            ],
            [
             0.1111111111111111,
             "#46039f"
            ],
            [
             0.2222222222222222,
             "#7201a8"
            ],
            [
             0.3333333333333333,
             "#9c179e"
            ],
            [
             0.4444444444444444,
             "#bd3786"
            ],
            [
             0.5555555555555556,
             "#d8576b"
            ],
            [
             0.6666666666666666,
             "#ed7953"
            ],
            [
             0.7777777777777778,
             "#fb9f3a"
            ],
            [
             0.8888888888888888,
             "#fdca26"
            ],
            [
             1,
             "#f0f921"
            ]
           ],
           "sequentialminus": [
            [
             0,
             "#0d0887"
            ],
            [
             0.1111111111111111,
             "#46039f"
            ],
            [
             0.2222222222222222,
             "#7201a8"
            ],
            [
             0.3333333333333333,
             "#9c179e"
            ],
            [
             0.4444444444444444,
             "#bd3786"
            ],
            [
             0.5555555555555556,
             "#d8576b"
            ],
            [
             0.6666666666666666,
             "#ed7953"
            ],
            [
             0.7777777777777778,
             "#fb9f3a"
            ],
            [
             0.8888888888888888,
             "#fdca26"
            ],
            [
             1,
             "#f0f921"
            ]
           ]
          },
          "colorway": [
           "#636efa",
           "#EF553B",
           "#00cc96",
           "#ab63fa",
           "#FFA15A",
           "#19d3f3",
           "#FF6692",
           "#B6E880",
           "#FF97FF",
           "#FECB52"
          ],
          "font": {
           "color": "#2a3f5f"
          },
          "geo": {
           "bgcolor": "white",
           "lakecolor": "white",
           "landcolor": "#E5ECF6",
           "showlakes": true,
           "showland": true,
           "subunitcolor": "white"
          },
          "hoverlabel": {
           "align": "left"
          },
          "hovermode": "closest",
          "mapbox": {
           "style": "light"
          },
          "paper_bgcolor": "white",
          "plot_bgcolor": "#E5ECF6",
          "polar": {
           "angularaxis": {
            "gridcolor": "white",
            "linecolor": "white",
            "ticks": ""
           },
           "bgcolor": "#E5ECF6",
           "radialaxis": {
            "gridcolor": "white",
            "linecolor": "white",
            "ticks": ""
           }
          },
          "scene": {
           "xaxis": {
            "backgroundcolor": "#E5ECF6",
            "gridcolor": "white",
            "gridwidth": 2,
            "linecolor": "white",
            "showbackground": true,
            "ticks": "",
            "zerolinecolor": "white"
           },
           "yaxis": {
            "backgroundcolor": "#E5ECF6",
            "gridcolor": "white",
            "gridwidth": 2,
            "linecolor": "white",
            "showbackground": true,
            "ticks": "",
            "zerolinecolor": "white"
           },
           "zaxis": {
            "backgroundcolor": "#E5ECF6",
            "gridcolor": "white",
            "gridwidth": 2,
            "linecolor": "white",
            "showbackground": true,
            "ticks": "",
            "zerolinecolor": "white"
           }
          },
          "shapedefaults": {
           "line": {
            "color": "#2a3f5f"
           }
          },
          "ternary": {
           "aaxis": {
            "gridcolor": "white",
            "linecolor": "white",
            "ticks": ""
           },
           "baxis": {
            "gridcolor": "white",
            "linecolor": "white",
            "ticks": ""
           },
           "bgcolor": "#E5ECF6",
           "caxis": {
            "gridcolor": "white",
            "linecolor": "white",
            "ticks": ""
           }
          },
          "title": {
           "x": 0.05
          },
          "xaxis": {
           "automargin": true,
           "gridcolor": "white",
           "linecolor": "white",
           "ticks": "",
           "title": {
            "standoff": 15
           },
           "zerolinecolor": "white",
           "zerolinewidth": 2
          },
          "yaxis": {
           "automargin": true,
           "gridcolor": "white",
           "linecolor": "white",
           "ticks": "",
           "title": {
            "standoff": 15
           },
           "zerolinecolor": "white",
           "zerolinewidth": 2
          }
         }
        },
        "title": {
         "text": "Circuit avec Courbure"
        },
        "xaxis": {
         "anchor": "y",
         "domain": [
          0,
          1
         ],
         "title": {
          "text": "X"
         }
        },
        "yaxis": {
         "anchor": "x",
         "domain": [
          0,
          1
         ],
         "title": {
          "text": "Y"
         }
        }
       }
      }
     },
     "metadata": {},
     "output_type": "display_data"
    }
   ],
   "source": [
    "kappas =  curvatures\n",
    "#kappas_normalized = (kappas - np.min(kappas)) / (np.max(kappas) - np.min(kappas))\n",
    "\n",
    "\n",
    "# Créer un DataFrame pour faciliter la visualisation avec plotly\n",
    "import pandas as pd\n",
    "df = pd.DataFrame({\n",
    "    'X': np.array(lap.telemetry['X']),\n",
    "    'Y': np.array(lap.telemetry['Y']),\n",
    "    'Courbure': kappas\n",
    "})\n",
    "\n",
    "# Créer un scatter plot avec plotly\n",
    "fig = px.scatter(df, x='X', y='Y', color='Courbure', color_continuous_scale='Reds',\n",
    "                 hover_data=['X', 'Y', 'Courbure'], title='Circuit avec Courbure')\n",
    "\n",
    "# Afficher le plot\n",
    "fig.show()"
   ]
  },
  {
   "cell_type": "code",
   "execution_count": 366,
   "metadata": {},
   "outputs": [
    {
     "ename": "AttributeError",
     "evalue": "module 'geomdl.utilities' has no attribute 'curve_curvature'",
     "output_type": "error",
     "traceback": [
      "\u001b[0;31m---------------------------------------------------------------------------\u001b[0m",
      "\u001b[0;31mAttributeError\u001b[0m                            Traceback (most recent call last)",
      "\u001b[1;32m/Users/soufiane/Documents/GitHub/F1ashAnalysis/exploration/exploration.ipynb Cell 21\u001b[0m line \u001b[0;36m1\n\u001b[1;32m     <a href='vscode-notebook-cell:/Users/soufiane/Documents/GitHub/F1ashAnalysis/exploration/exploration.ipynb#Y133sZmlsZQ%3D%3D?line=12'>13</a>\u001b[0m curve2D \u001b[39m=\u001b[39m fitting\u001b[39m.\u001b[39minterpolate_curve(\u001b[39mlist\u001b[39m(\u001b[39mzip\u001b[39m(X, Y)), degree\u001b[39m=\u001b[39m\u001b[39m3\u001b[39m)\n\u001b[1;32m     <a href='vscode-notebook-cell:/Users/soufiane/Documents/GitHub/F1ashAnalysis/exploration/exploration.ipynb#Y133sZmlsZQ%3D%3D?line=14'>15</a>\u001b[0m \u001b[39m# Calculer la courbure\u001b[39;00m\n\u001b[0;32m---> <a href='vscode-notebook-cell:/Users/soufiane/Documents/GitHub/F1ashAnalysis/exploration/exploration.ipynb#Y133sZmlsZQ%3D%3D?line=15'>16</a>\u001b[0m curvatures \u001b[39m=\u001b[39m utilities\u001b[39m.\u001b[39;49mcurve_curvature(curve2D, t)\n\u001b[1;32m     <a href='vscode-notebook-cell:/Users/soufiane/Documents/GitHub/F1ashAnalysis/exploration/exploration.ipynb#Y133sZmlsZQ%3D%3D?line=17'>18</a>\u001b[0m \u001b[39m# Si vous souhaitez visualiser la courbe interpolée :\u001b[39;00m\n\u001b[1;32m     <a href='vscode-notebook-cell:/Users/soufiane/Documents/GitHub/F1ashAnalysis/exploration/exploration.ipynb#Y133sZmlsZQ%3D%3D?line=18'>19</a>\u001b[0m \u001b[39m# curve2D.vis = VisMPL.VisCurve2D()\u001b[39;00m\n\u001b[1;32m     <a href='vscode-notebook-cell:/Users/soufiane/Documents/GitHub/F1ashAnalysis/exploration/exploration.ipynb#Y133sZmlsZQ%3D%3D?line=19'>20</a>\u001b[0m \u001b[39m# curve2D.render()\u001b[39;00m\n\u001b[1;32m     <a href='vscode-notebook-cell:/Users/soufiane/Documents/GitHub/F1ashAnalysis/exploration/exploration.ipynb#Y133sZmlsZQ%3D%3D?line=20'>21</a>\u001b[0m \n\u001b[1;32m     <a href='vscode-notebook-cell:/Users/soufiane/Documents/GitHub/F1ashAnalysis/exploration/exploration.ipynb#Y133sZmlsZQ%3D%3D?line=21'>22</a>\u001b[0m \u001b[39m# curvatures contient les valeurs de courbure pour chaque point t\u001b[39;00m\n",
      "\u001b[0;31mAttributeError\u001b[0m: module 'geomdl.utilities' has no attribute 'curve_curvature'"
     ]
    }
   ],
   "source": [
    "from geomdl import fitting\n",
    "#from geomdl.visualization import VisMPL\n",
    "from geomdl import utilities\n",
    "\n",
    "# Coordonnées du circuit\n",
    "X = np.array(lap.telemetry['X']) \n",
    "Y = np.array(lap.telemetry['Y'])\n",
    "\n",
    "# Paramètre t (distance le long du circuit)\n",
    "t = np.linspace(0, 5764, len(X))\n",
    "\n",
    "# Interpoler les données avec une courbe B-spline\n",
    "curve2D = fitting.interpolate_curve(list(zip(X, Y)), degree=3)\n",
    "\n",
    "# Calculer la courbure\n",
    "curvatures = utilities.curve_curvature(curve2D, t)\n",
    "\n",
    "# Si vous souhaitez visualiser la courbe interpolée :\n",
    "# curve2D.vis = VisMPL.VisCurve2D()\n",
    "# curve2D.render()\n",
    "\n",
    "# curvatures contient les valeurs de courbure pour chaque point t\n"
   ]
  },
  {
   "cell_type": "code",
   "execution_count": null,
   "metadata": {},
   "outputs": [],
   "source": []
  },
  {
   "cell_type": "code",
   "execution_count": 373,
   "metadata": {},
   "outputs": [],
   "source": [
    "from scipy.interpolate import CubicSpline\n",
    "import numpy as np\n",
    "\n",
    "# Coordonnées du circuit\n",
    "X = np.array(lap.telemetry['X']) \n",
    "Y = np.array(lap.telemetry['Y'])\n",
    "\n",
    "# Paramètre t (distance le long du circuit)\n",
    "t = np.linspace(0, 5600, len(X))\n",
    "\n",
    "# Interpolation spline cubique pour X et Y\n",
    "cs_X = CubicSpline(t, X)\n",
    "cs_Y = CubicSpline(t, Y)\n",
    "\n",
    "# Calculer les dérivées premières et secondes\n",
    "Xp = cs_X.derivative(1)\n",
    "Yp = cs_Y.derivative(1)\n",
    "Xpp= cs_X.derivative(2)\n",
    "Ypp = cs_Y.derivative(2)\n",
    "\n",
    "# Calculer la courbure\n",
    "curvatures = [(Xp(t)*Ypp(t) - Yp(t)*Xpp(t)) / (Xp(t)**2 + Yp(t)**2)**1.5 for t in range(len(X))]\n",
    "\n",
    "# curvatures contient les valeurs de courbure pour chaque point t\n"
   ]
  },
  {
   "cell_type": "code",
   "execution_count": 374,
   "metadata": {},
   "outputs": [
    {
     "data": {
      "text/plain": [
       "[-0.05703482683190034,\n",
       " -0.19038650222977255,\n",
       " -0.004984922672841847,\n",
       " -0.0010539518769973311,\n",
       " -0.0003927790258654863,\n",
       " -0.00019109174529817843,\n",
       " -0.000108103125520581,\n",
       " -6.686471723046502e-05,\n",
       " -4.322234729632158e-05,\n",
       " -2.7708188140774772e-05,\n",
       " -1.5766755144124966e-05,\n",
       " -4.446629484876924e-06,\n",
       " 9.350699853975767e-06,\n",
       " 3.110627036032026e-05,\n",
       " 7.492205741739821e-05,\n",
       " 0.00019026866335743466,\n",
       " 0.0004131442550882682,\n",
       " 0.000850973627470764,\n",
       " 0.0016219883199160685,\n",
       " 0.0023009216219664294,\n",
       " 0.0013737002686397294,\n",
       " -0.0008368729921563201,\n",
       " -0.0016138556712845316,\n",
       " -0.0010369515760038192,\n",
       " -0.00046467478198819045,\n",
       " -0.0002593069871266861,\n",
       " -0.00016765488606844883,\n",
       " -0.00012138324787744567,\n",
       " -9.691431407107737e-05,\n",
       " -8.500672317087598e-05,\n",
       " -8.231214432466132e-05,\n",
       " -9.964817650295231e-05,\n",
       " -0.00011955241542655737,\n",
       " -0.0001293077549801146,\n",
       " -0.0001269801303789446,\n",
       " -0.0001141984510000207,\n",
       " -9.5040754057658e-05,\n",
       " -7.400624313948167e-05,\n",
       " -5.3662595347141874e-05,\n",
       " -2.9777167732097122e-05,\n",
       " -1.460823175884151e-05,\n",
       " -3.1389829758333065e-06,\n",
       " 7.4434291961872385e-06,\n",
       " 1.9463873243750408e-05,\n",
       " 3.5972408576948886e-05,\n",
       " 6.267776771089656e-05,\n",
       " 9.695562040093358e-05,\n",
       " 0.00012311309895568037,\n",
       " 0.00014467802871052904,\n",
       " 0.0001532774255731451,\n",
       " 0.0001419722268026287,\n",
       " 0.00011047331480068561,\n",
       " 6.699848255611995e-05,\n",
       " 2.3870583633925256e-05,\n",
       " 9.858347169423554e-06,\n",
       " 1.9409218389548155e-06,\n",
       " -4.16166448573628e-06,\n",
       " -9.21034640636656e-06,\n",
       " -1.3695024320163229e-05,\n",
       " -1.7961476172857014e-05,\n",
       " -2.2282887676689168e-05,\n",
       " -3.297452926723124e-05,\n",
       " -5.7442122466546476e-05,\n",
       " -8.031602572663891e-05,\n",
       " -0.00010129397454465055,\n",
       " -0.00012014269722911223,\n",
       " -0.00013670068298115095,\n",
       " -0.00015087725673725735,\n",
       " -0.00016264844419096463,\n",
       " -0.0001273117918024975,\n",
       " -8.127926971917852e-05,\n",
       " -3.8829108059399865e-05,\n",
       " 6.3305693681059645e-06,\n",
       " 6.22531101203661e-05,\n",
       " 0.00014247023331412422,\n",
       " 0.000274688682447414,\n",
       " 0.0005006815896525008,\n",
       " 0.0005119962575340999,\n",
       " 0.00029844572587298546,\n",
       " 4.7842271614119915e-05,\n",
       " -7.863164761166709e-05,\n",
       " -0.00010117930343949937,\n",
       " -8.401189262953374e-05,\n",
       " -6.108134985888311e-05,\n",
       " -3.2603926801648935e-05,\n",
       " -1.578275682804025e-05,\n",
       " -8.00029452430927e-06,\n",
       " -2.9543247345726857e-06,\n",
       " 2.2409639401902007e-06,\n",
       " 1.1446196556515766e-05,\n",
       " 3.888876487764189e-05,\n",
       " 0.000201648781937852,\n",
       " 0.0018698999243820882,\n",
       " 1.6333173849526337,\n",
       " 0.006767844946502426,\n",
       " -0.0005280722242555793,\n",
       " -0.017966323346589794,\n",
       " -0.08914885155311189,\n",
       " -0.0011585905130173616,\n",
       " -0.0001495764037248309,\n",
       " -3.9288940510373284e-05,\n",
       " -1.6329886346684252e-05,\n",
       " -8.488915298799792e-06,\n",
       " -4.931693051096925e-06,\n",
       " -2.8742250072259733e-06,\n",
       " -1.2216266688065815e-06,\n",
       " 9.6088453682465e-07,\n",
       " 7.056095582639484e-07,\n",
       " -2.5974184566354877e-06,\n",
       " -1.174421074829343e-05,\n",
       " -4.00276009203223e-05,\n",
       " -0.00015237341700682328,\n",
       " -0.0009401978281261573,\n",
       " -0.0488291059533913,\n",
       " -0.011917205729567087,\n",
       " -0.0004901371324102442,\n",
       " 0.00032742754593276664,\n",
       " 0.0025140829456302104,\n",
       " 0.5544215903389955,\n",
       " 0.005237418830767394,\n",
       " 0.00038858093842380223,\n",
       " 8.674085439912281e-05,\n",
       " 2.35310531252891e-05,\n",
       " 7.74492033622109e-06,\n",
       " 2.291761222306334e-06,\n",
       " -9.24779900261224e-07,\n",
       " -4.412207947796361e-06,\n",
       " -1.0995418926435167e-05,\n",
       " -3.071773574451544e-05,\n",
       " -0.0001421946035308453,\n",
       " -0.0009906535407083234,\n",
       " -0.13931131707007088,\n",
       " -0.00767642900472091,\n",
       " -0.0007085632066849451,\n",
       " 9.427272683519119e-06,\n",
       " 0.005870799973263179,\n",
       " 0.007335291035340356,\n",
       " 0.00014958025427822474,\n",
       " 2.3174669094359452e-05,\n",
       " 4.862142681874011e-06,\n",
       " -1.3055577733955403e-06,\n",
       " -5.413506950083113e-06,\n",
       " -1.0526972860518426e-05,\n",
       " -2.0274957523167905e-05,\n",
       " -4.60539200555827e-05,\n",
       " -9.727776252644061e-05,\n",
       " -0.0002061437606733791,\n",
       " -0.000461620430130191,\n",
       " -0.0010579236951879175,\n",
       " -0.002221568798661586,\n",
       " -0.003132774659005791,\n",
       " -0.0010756533372706543,\n",
       " 0.0018855608894315335,\n",
       " 0.0021513174080712463,\n",
       " 0.001272876613725333,\n",
       " 0.0006521365353908453,\n",
       " 0.00033417015115931966,\n",
       " 0.00017884153285121148,\n",
       " 0.00010091554638093188,\n",
       " 5.993405632747399e-05,\n",
       " 3.0176396565737494e-05,\n",
       " 1.5569557571954793e-05,\n",
       " 8.559345461099853e-06,\n",
       " 4.325168806854883e-06,\n",
       " 9.453900372682173e-07,\n",
       " -2.8933459023977592e-06,\n",
       " -9.190655637242228e-06,\n",
       " -2.2779522509365517e-05,\n",
       " -3.205037213884923e-05,\n",
       " -4.25181628650151e-05,\n",
       " -4.8075263287103934e-05,\n",
       " -3.249087074521925e-05,\n",
       " 2.7230974043268482e-05,\n",
       " 0.00012613379988093016,\n",
       " 0.00019903757383073225,\n",
       " 0.0001386044158875393,\n",
       " 3.770270113281228e-05,\n",
       " -3.236961209587942e-05,\n",
       " -8.705868915609035e-05,\n",
       " -0.00013505636124445526,\n",
       " -0.00018208747791423363,\n",
       " -0.0002327607444472695,\n",
       " -0.00029170670733926336,\n",
       " -0.0002696629438517333,\n",
       " -0.0002676609064273975,\n",
       " -0.00030771547524942913,\n",
       " -0.0004332944092907003,\n",
       " -0.0008266484281186399,\n",
       " -0.002670932185313146,\n",
       " -0.033695067905547486,\n",
       " -0.388703313454551,\n",
       " -0.006569467133311785,\n",
       " -0.0013888260714411008,\n",
       " 0.0016512687131797338,\n",
       " 12.119186096322764,\n",
       " 0.0010507598423320924,\n",
       " 6.479558569865149e-05,\n",
       " 2.230470862646351e-06,\n",
       " -8.621874685618697e-07,\n",
       " -6.925065665635289e-07,\n",
       " -7.272381240482148e-07,\n",
       " -9.049607594647293e-07,\n",
       " -1.3030611642593537e-06,\n",
       " -2.20952660877559e-06,\n",
       " -4.704198759950676e-06,\n",
       " -1.3531089408224922e-05,\n",
       " -2.5884288891961316e-05,\n",
       " -4.0189098663326326e-05,\n",
       " 8.276706594969063e-05,\n",
       " 0.001154971029697731,\n",
       " 0.0009503519378979943,\n",
       " -2.89035237398868e-05,\n",
       " -6.86549059090135e-05,\n",
       " -4.406516244636841e-06,\n",
       " 2.1554367451274314e-05,\n",
       " 3.599230496755996e-05,\n",
       " 5.6223864727620354e-05,\n",
       " 9.7922661530344e-05,\n",
       " 0.00021090196238459792,\n",
       " 0.0006781374941160651,\n",
       " 0.0061307403133845995,\n",
       " 2.8233573327300845,\n",
       " 0.029809416999474633,\n",
       " 6.133649352783403e-05,\n",
       " -0.1401842434377192,\n",
       " -0.029414395584816788,\n",
       " -0.0010511511081594878,\n",
       " -0.00016419022217927773,\n",
       " -3.8515874816868644e-05,\n",
       " -1.231106283107076e-05,\n",
       " -4.850795236409145e-06,\n",
       " -1.5215554770451953e-06,\n",
       " 8.117030221596303e-07,\n",
       " 3.570854349754552e-06,\n",
       " 8.818874458463374e-06,\n",
       " 2.3928448812083823e-05,\n",
       " 5.776309308962987e-05,\n",
       " 0.00013833720289494373,\n",
       " 0.00035446448704622694,\n",
       " 0.00081052849115094,\n",
       " 0.0006931775930540093,\n",
       " -0.000987598958922125,\n",
       " -0.0009694882776801534,\n",
       " -0.0003579363872288765,\n",
       " -0.00011792057463660557,\n",
       " -5.476687407734607e-05,\n",
       " -3.096354385338066e-05,\n",
       " -1.9977369628497086e-05,\n",
       " -1.4240189595506464e-05,\n",
       " -1.1032692667226142e-05,\n",
       " -9.229965255415905e-06,\n",
       " -6.46367007555068e-06,\n",
       " -2.583734131963263e-06,\n",
       " 1.930486746560505e-06,\n",
       " 8.247231281231065e-06,\n",
       " 1.8791768424667982e-05,\n",
       " 3.979098701713933e-05,\n",
       " 9.137504329364943e-05,\n",
       " 0.00026426907243798186,\n",
       " 0.0006315906007650072,\n",
       " 0.0011280251159708162,\n",
       " 0.0007803756203141902,\n",
       " -0.00034203184807780966,\n",
       " -0.0005844992148656391,\n",
       " -0.000361321118570203,\n",
       " -0.00018409868509237841,\n",
       " -7.696310240912011e-05,\n",
       " -3.153515514548101e-05,\n",
       " -1.5194094187451816e-05,\n",
       " -6.992117710821551e-06,\n",
       " -1.0154482418097606e-06,\n",
       " 6.070373879297815e-06,\n",
       " 1.9987221203674024e-05,\n",
       " 6.409014567394935e-05,\n",
       " 0.00017058812556077827,\n",
       " 0.0004987714090667968,\n",
       " 0.0018482036824551986,\n",
       " 0.007921591510683054,\n",
       " 0.004770827168154066,\n",
       " -0.017788769899854655,\n",
       " -0.00361611699964428,\n",
       " -0.0006136967703364992,\n",
       " -0.0001791036972208917,\n",
       " -9.441743734065501e-05,\n",
       " -7.24580062854642e-05,\n",
       " -7.486341242001809e-05,\n",
       " -0.00010118922464709793,\n",
       " -0.00018217175651531555,\n",
       " -0.0004875702834073723,\n",
       " -0.0008807738037825154,\n",
       " 0.0007467968588123126,\n",
       " 0.0016402693632670046,\n",
       " 0.0007324296603326597,\n",
       " 0.00023693475082515973,\n",
       " 7.814505338902095e-05,\n",
       " 2.8186795002596223e-05,\n",
       " 1.0832020024047796e-05,\n",
       " 3.499979049706339e-06,\n",
       " 8.99260603049983e-07,\n",
       " -6.113505977024653e-07,\n",
       " -2.109490597346448e-06,\n",
       " -4.5016145023450386e-06,\n",
       " -1.0002279302439594e-05,\n",
       " -2.8628330956755458e-05,\n",
       " -0.00012020083404671992,\n",
       " -0.000735257466991681,\n",
       " -0.01805194643648219,\n",
       " -0.16121522485071255,\n",
       " 9.955568738918162e-05,\n",
       " 0.0429333675391747,\n",
       " 0.19166346558289238,\n",
       " 0.002497253700240204,\n",
       " 0.0003291838105899143,\n",
       " 0.00011118736185283871,\n",
       " 5.7966573377863086e-05,\n",
       " 3.929812128507963e-05,\n",
       " 3.201681061637906e-05,\n",
       " 2.9961259898805148e-05,\n",
       " 3.131581792041109e-05,\n",
       " 3.2720893838338135e-05,\n",
       " 2.9370392481627898e-05,\n",
       " 2.805839932627808e-05,\n",
       " 2.8897564046901902e-05,\n",
       " 3.280538240374816e-05,\n",
       " 4.25782130411925e-05,\n",
       " 6.715100730776577e-05,\n",
       " 0.0001439194084100446,\n",
       " 0.00030690940838760266,\n",
       " 0.0004281514322231441,\n",
       " -0.0001947991506688973,\n",
       " -0.0016161610066192755,\n",
       " -0.0012993721703855891,\n",
       " -0.00047400979992051373,\n",
       " -0.00013503880367222505,\n",
       " -3.624517888492531e-05,\n",
       " -1.6621432376207828e-05,\n",
       " -1.1957517014274425e-05,\n",
       " -1.1922284196232762e-05,\n",
       " -1.562919791137712e-05,\n",
       " -2.6956287293735945e-05,\n",
       " -6.659326295504139e-05,\n",
       " -0.00032464892537907716,\n",
       " -0.009455238047032685,\n",
       " -0.024732217411672478,\n",
       " -0.0014006384063206272,\n",
       " -0.001475464078893621,\n",
       " -0.01909915271901673,\n",
       " -0.02414653423918482,\n",
       " -0.000639236026252796,\n",
       " -0.0001184164177442711,\n",
       " -3.028569803047564e-05,\n",
       " -1.3975291847152362e-05,\n",
       " -9.343851069883596e-06,\n",
       " -8.453991378054993e-06,\n",
       " -1.025850889691211e-05,\n",
       " -1.7230400461574593e-05,\n",
       " -4.499965166510726e-05,\n",
       " -0.000220053936102268,\n",
       " -0.002454426017419977,\n",
       " -2.529852047992383,\n",
       " -0.002283354952075388,\n",
       " -0.0004971360926303446,\n",
       " -0.0003635251645278528,\n",
       " -0.1630650712915746,\n",
       " -0.00014742041759029808,\n",
       " -2.3744584148719584e-05,\n",
       " -1.3465923497099509e-05,\n",
       " -1.1805097824040716e-05,\n",
       " -1.2588846243165713e-05,\n",
       " -1.524832983509842e-05,\n",
       " -2.0641541616133197e-05,\n",
       " -3.153142628100088e-05,\n",
       " -5.221810783366413e-05,\n",
       " -6.7053984184774e-05,\n",
       " -8.546836621712478e-05,\n",
       " -0.0001069649857756806,\n",
       " -0.00012905764238759174,\n",
       " -0.000145333096846174,\n",
       " -0.0001432090236002684,\n",
       " -0.00010381418139460303,\n",
       " 6.6975399406001875e-06,\n",
       " 0.00016449591203420994,\n",
       " 0.0002636935607846742,\n",
       " 0.00026167919940796975,\n",
       " 0.000201362014993529,\n",
       " 0.00013497782498937872,\n",
       " 8.462322888716075e-05,\n",
       " 5.1561528772910714e-05,\n",
       " 2.1786306839607306e-05,\n",
       " 8.505230524246438e-06,\n",
       " -2.7234568532165747e-08,\n",
       " -8.458828614262634e-06,\n",
       " -2.127372135377598e-05,\n",
       " -4.92243777490461e-05,\n",
       " -0.00013763390457453573,\n",
       " -0.0005200551114289842,\n",
       " -0.0026338698009548997,\n",
       " -0.04797611506699554,\n",
       " -0.8045294728102776,\n",
       " -0.010704256123015865,\n",
       " 0.0021049248585997293,\n",
       " 0.0426110078813416,\n",
       " 2.549369708453162,\n",
       " 0.008568929655426213,\n",
       " 0.0011613061588871198,\n",
       " 0.0002895314294215833,\n",
       " 8.062339596142709e-05,\n",
       " 1.3072510390936826e-05,\n",
       " -1.2035944522821881e-05,\n",
       " -2.167700295316658e-05,\n",
       " -2.206825186075978e-05,\n",
       " -1.6169268904008683e-05,\n",
       " -1.4023167798124145e-05,\n",
       " -1.409547282601148e-05,\n",
       " -1.62498048059221e-05,\n",
       " -2.1477160613036012e-05,\n",
       " -3.300252778536918e-05,\n",
       " -6.134802163669337e-05,\n",
       " -9.603567545093384e-05,\n",
       " -9.89822059633671e-05,\n",
       " -3.57246243598763e-05,\n",
       " 0.00010653724170405079,\n",
       " 0.00023129911686466134,\n",
       " 0.00024198035562457572,\n",
       " 0.00017569711317568583,\n",
       " 0.00010327920636135834,\n",
       " 4.707990729738422e-05,\n",
       " 2.3866762701452184e-05,\n",
       " 1.1977935787658931e-05,\n",
       " 4.61001937129121e-06,\n",
       " -9.97769102173852e-07,\n",
       " -6.356402372867568e-06,\n",
       " -1.275959187605509e-05,\n",
       " -1.5660951158669902e-05,\n",
       " -1.2507423529473073e-05,\n",
       " -8.369239696938808e-06,\n",
       " -1.5869487021339708e-06,\n",
       " 1.2330652583699336e-05,\n",
       " 4.8843140127378755e-05,\n",
       " 0.00018456732228177308,\n",
       " 0.0012076056504486837,\n",
       " 0.02222474016221393,\n",
       " 0.12470439174540535,\n",
       " 0.01059179070662003,\n",
       " 0.030893530263752193,\n",
       " 48.29512691317996,\n",
       " 0.023434999049655736,\n",
       " 0.002214459455363348,\n",
       " 0.0004872484125099247,\n",
       " 0.00017085238952363853,\n",
       " 0.00010103360193295614,\n",
       " 8.562488895283546e-05,\n",
       " 9.787847749358261e-05,\n",
       " 0.00014896832144013647,\n",
       " 0.00031761887583169724,\n",
       " 0.001171830736231882,\n",
       " 0.007814594713061184,\n",
       " 0.2065230387453499,\n",
       " 1.2538048530077008,\n",
       " -0.19237777680883872,\n",
       " -0.4462858518627748,\n",
       " -0.006003873190986031,\n",
       " -0.0006481602767445491,\n",
       " -0.00010575967361131698,\n",
       " 3.1075003373889347e-05,\n",
       " 7.573330078665618e-05,\n",
       " 0.00011938388471590976,\n",
       " 0.0001951531676487863,\n",
       " 0.0003701797519981172,\n",
       " 0.0009219138857069393,\n",
       " 0.004041269246416084,\n",
       " 0.059453879919453306,\n",
       " 1.803026826561542,\n",
       " 0.03538981971248769,\n",
       " 0.015974066524150097,\n",
       " 0.07782048859481565,\n",
       " 0.6349518906832536,\n",
       " 0.008075023880410193,\n",
       " 0.001381405325896351,\n",
       " 0.0003162995995590968,\n",
       " 0.00012569677699244224,\n",
       " 6.65970808205604e-05,\n",
       " 4.227051552019836e-05,\n",
       " 3.0681956619670746e-05,\n",
       " 2.502019781073868e-05,\n",
       " 2.2993776264573425e-05,\n",
       " 1.4340607445366483e-05,\n",
       " -0.0001132033705291652,\n",
       " -0.0011612267975534074,\n",
       " -0.016439729512603567,\n",
       " -4.500354164944089,\n",
       " -0.030064384717976442,\n",
       " 2.3475050639896837,\n",
       " 0.2851181494083466,\n",
       " 0.014008635725017,\n",
       " 0.003432801888266825,\n",
       " 0.001547174442549837,\n",
       " 0.0010048480399936323,\n",
       " 0.0008935586694912846,\n",
       " 0.0011183808390439998,\n",
       " 0.0021668066915293983,\n",
       " 0.005541243843515586,\n",
       " -0.02374600328489563,\n",
       " -0.11898578210487841,\n",
       " -0.05713494794109444,\n",
       " -0.003520449686406355,\n",
       " 0.0028070979527053588,\n",
       " 0.002112842622627059,\n",
       " 0.0012538407425397179,\n",
       " 0.0005253654132274439,\n",
       " 0.00022001722236805843,\n",
       " 0.00010214360544913271,\n",
       " 4.018605839961394e-05,\n",
       " -5.35166824144052e-06,\n",
       " -5.51365108549265e-05,\n",
       " -0.0001351232994833284,\n",
       " -0.00031339855707566327,\n",
       " -0.0006163695135297789,\n",
       " -0.0011281649276865186,\n",
       " -0.0018587342417858894,\n",
       " -0.002598205654536867,\n",
       " -0.0028514510001962892,\n",
       " -0.0022620665685931934,\n",
       " -0.0011605791713239215,\n",
       " -0.0006021155981708179,\n",
       " -0.0006884428932195237,\n",
       " -0.0007851854883448031,\n",
       " -0.0009093411815042949,\n",
       " -0.0010780842029397756,\n",
       " -0.001315442309716412,\n",
       " -0.001660158571551033,\n",
       " -0.0021796316726506396,\n",
       " -0.0021620313183906346,\n",
       " -0.002064802827509999,\n",
       " -0.0020317055875347517,\n",
       " -0.0020777838138184915,\n",
       " -0.002244299688703259,\n",
       " -0.002649477951127055,\n",
       " -0.0037440177112188088,\n",
       " -0.009023623343959102,\n",
       " -0.04611271706298713,\n",
       " -0.6522936727442261,\n",
       " 53.703461903907915,\n",
       " -0.3515862774514293,\n",
       " -0.03213498400707754,\n",
       " -0.007044861282930181,\n",
       " -0.002335622872566318,\n",
       " -0.0007182506765719705,\n",
       " -0.00028184972660473865,\n",
       " -0.0001398299930405999,\n",
       " -7.680131267194186e-05,\n",
       " -4.038281055261788e-05,\n",
       " -1.0835409939481722e-05,\n",
       " 2.7338868016621794e-05,\n",
       " 9.995313191061963e-05,\n",
       " 8.60433198267503e-05,\n",
       " -1.0689726426269962e-06,\n",
       " -0.00024908039806670904,\n",
       " -0.0007422493486471834,\n",
       " -0.0013800957919083035,\n",
       " -0.0017441956293416903,\n",
       " -0.0015183493054828291,\n",
       " -0.0010857470435951075,\n",
       " -0.0008371892470234104,\n",
       " -0.0006540649726208872,\n",
       " -0.0005172481831389352,\n",
       " -0.00041367194366184366,\n",
       " -0.0003342854205482801,\n",
       " -0.0002727332478474385,\n",
       " -0.00022449298956062004,\n",
       " -8.889899389447989e-05,\n",
       " 1.6778047233671602e-05,\n",
       " 0.0001254102006482625,\n",
       " 0.00028774625079698465,\n",
       " 0.0006189858889684958,\n",
       " 0.001541931562845809,\n",
       " 0.005662449919423884,\n",
       " 0.05068873960346919,\n",
       " 5.968963639406536,\n",
       " 0.24741797808017313,\n",
       " 0.03793371565232907,\n",
       " 0.029877740132766846,\n",
       " 11.83846187545578,\n",
       " 0.006990163161115057,\n",
       " 0.0014408330431041488,\n",
       " 0.00043915222831445534,\n",
       " 0.0002636651137036827,\n",
       " 0.00024612017852435644,\n",
       " 0.00030058870811801183,\n",
       " 0.0004557760796531766,\n",
       " 0.0008785723668059502,\n",
       " 0.002434218863725574,\n",
       " 0.013327890723163937,\n",
       " 0.13327195492094765,\n",
       " 10.96768139987454,\n",
       " 0.2654528384806839,\n",
       " 0.8949397092797241,\n",
       " 0.6527877597029512,\n",
       " 0.022791198278739315,\n",
       " 0.004491455304242341,\n",
       " 0.001172958925403939,\n",
       " 0.0004477534071861893,\n",
       " 0.00025428170705540953,\n",
       " 0.00019322322471622815,\n",
       " 0.00019266198294675194,\n",
       " 0.000257832333390367,\n",
       " 0.0004964502491879222,\n",
       " 0.001686080925696304,\n",
       " 0.007423913806268538,\n",
       " 0.10976707034549095,\n",
       " 2.1566313929360095,\n",
       " 0.04427220549525633,\n",
       " 0.029874335978574227,\n",
       " 0.21125875143324502,\n",
       " 1.231657899053186,\n",
       " 0.014836958638036656,\n",
       " 0.0014360070525242464,\n",
       " -0.0002265194940108175,\n",
       " -0.0007832731177116447,\n",
       " -0.001194678670463697,\n",
       " -0.0017202891249427422,\n",
       " -0.002599582705395451,\n",
       " -0.004341064604902162,\n",
       " -0.005539843668958789,\n",
       " -0.006421627748736039,\n",
       " -0.007503858156939751,\n",
       " -0.008874403236059076,\n",
       " -0.010680165205198988,\n",
       " -0.013156099069506965,\n",
       " -0.0164648908984758,\n",
       " -0.019172180972807568,\n",
       " 0.023713608846168757,\n",
       " 0.11624215087056462,\n",
       " 0.034589724479807224,\n",
       " 0.0041535034956570824,\n",
       " -0.00010355157373818839,\n",
       " -0.00045661489624695555,\n",
       " -0.0003482337096206279,\n",
       " -0.0002994408402691151,\n",
       " -0.00031302404241988294,\n",
       " -0.0003488225930411353,\n",
       " -0.0004148835437834309,\n",
       " -0.0005279578006239879,\n",
       " -0.0007245919232318763,\n",
       " -0.00108999965565095,\n",
       " -0.0018434096782478419,\n",
       " -0.002454350298488514,\n",
       " -0.0031545625460093255,\n",
       " -0.0038300092234160106,\n",
       " -0.0042644537388922136,\n",
       " -0.004179687424605348,\n",
       " -0.003378698778132722,\n",
       " -0.0019257846049796333,\n",
       " -0.000967401659187838,\n",
       " -0.0010457074133509864,\n",
       " -0.0011121127832417082,\n",
       " -0.0011667220878377495,\n",
       " -0.001209818262939508,\n",
       " -0.0012418423179562845,\n",
       " -0.0012633703132350124,\n",
       " -0.0012750887723763508,\n",
       " -0.0011786397185972533,\n",
       " -0.001097742243243191,\n",
       " -0.001049102884207695,\n",
       " -0.0010290388715417354,\n",
       " -0.0010365081378265822,\n",
       " -0.0010729948238240644,\n",
       " -0.0011428626760454704,\n",
       " -0.0011724682763129218,\n",
       " -0.0010090050164842904,\n",
       " -0.000883610288280721,\n",
       " -0.0007698867374781014,\n",
       " -0.0006162434282677266,\n",
       " -0.00024302650847476894,\n",
       " 0.00139309018932847,\n",
       " 0.01963783025831656,\n",
       " 34.536833577829455,\n",
       " 0.06456905588158063,\n",
       " 0.013990763095027843,\n",
       " 0.019445844422317334,\n",
       " 0.42508202818615093,\n",
       " 0.1340697745376694,\n",
       " 0.005883334149494549,\n",
       " 0.0011392834759396994,\n",
       " -3.63919578690604e-05,\n",
       " -0.0002912591195145315,\n",
       " -0.00042197411692853677,\n",
       " -0.0005549398088780965,\n",
       " -0.0007454929174584672,\n",
       " -0.001064258687022957,\n",
       " -0.0016638891336977647,\n",
       " -0.0023327900878185037,\n",
       " -0.0026381358872252006,\n",
       " -0.002968914347182158,\n",
       " -0.0032903474585192893,\n",
       " -0.003488083472696962,\n",
       " -0.003179932267953545,\n",
       " -0.0009074950133568169,\n",
       " 0.010622304427919345,\n",
       " 0.033868179681561465,\n",
       " 0.07697313863605769,\n",
       " 0.0464128613820093,\n",
       " -0.06276744319411509,\n",
       " -0.05025949653197845,\n",
       " -0.020711559635358482,\n",
       " -0.008082765596815268,\n",
       " -0.003000280329538478,\n",
       " -0.0010739801838372484,\n",
       " -0.00043553433917127706,\n",
       " -0.000137145186466818,\n",
       " 5.507913326895629e-05,\n",
       " 0.00023108752301048485,\n",
       " 0.00045630104775199094,\n",
       " 0.0008323939913056542,\n",
       " -4.629659019047471e-05,\n",
       " -0.0020571772325918484,\n",
       " -0.0040613965399280295,\n",
       " -0.005171675680834162,\n",
       " -0.005072159892333761,\n",
       " -0.0041643873261733525,\n",
       " -0.003040446781989483,\n",
       " -0.0019794731726765075,\n",
       " -0.0010373048120399118,\n",
       " -0.0005867608597748333,\n",
       " -0.0003130343712413191,\n",
       " -8.58501669485998e-05,\n",
       " 0.00020073312748728294,\n",
       " 0.0007647997380425303,\n",
       " 0.0024870147227710722,\n",
       " 0.0057956913432720076,\n",
       " 0.0012145354851483487,\n",
       " -0.029362173902180426,\n",
       " -0.043829294082475705,\n",
       " -0.01732719205956212,\n",
       " -0.0036064099531818283,\n",
       " -0.00031221377072628394,\n",
       " 0.00026201902776125586,\n",
       " 0.00015533104198593131,\n",
       " 0.00013370769088182064]"
      ]
     },
     "execution_count": 374,
     "metadata": {},
     "output_type": "execute_result"
    }
   ],
   "source": [
    "curvatures"
   ]
  },
  {
   "cell_type": "code",
   "execution_count": null,
   "metadata": {},
   "outputs": [],
   "source": []
  }
 ],
 "metadata": {
  "kernelspec": {
   "display_name": ".venv",
   "language": "python",
   "name": "python3"
  },
  "language_info": {
   "codemirror_mode": {
    "name": "ipython",
    "version": 3
   },
   "file_extension": ".py",
   "mimetype": "text/x-python",
   "name": "python",
   "nbconvert_exporter": "python",
   "pygments_lexer": "ipython3",
   "version": "3.11.3"
  },
  "orig_nbformat": 4
 },
 "nbformat": 4,
 "nbformat_minor": 2
}
