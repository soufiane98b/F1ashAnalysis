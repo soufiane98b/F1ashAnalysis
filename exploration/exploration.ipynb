{
 "cells": [
  {
   "cell_type": "code",
   "execution_count": 43,
   "metadata": {},
   "outputs": [],
   "source": [
    "import fastf1 as ff1\n",
    "import pandas as pd\n",
    "import seaborn as sns\n",
    "import matplotlib.pyplot as plt\n",
    "ff1.Cache.enable_cache('cache')\n",
    "import numpy as np\n"
   ]
  },
  {
   "cell_type": "code",
   "execution_count": 77,
   "metadata": {},
   "outputs": [
    {
     "name": "stderr",
     "output_type": "stream",
     "text": [
      "core           INFO \tLoading data for Japanese Grand Prix - Practice 3 [v3.1.2]\n",
      "req            INFO \tUsing cached data for session_info\n",
      "req            INFO \tUsing cached data for driver_info\n"
     ]
    },
    {
     "name": "stderr",
     "output_type": "stream",
     "text": [
      "core        WARNING \tNo result data for this session available on Ergast! (This is expected for recent sessions)\n",
      "req            INFO \tUsing cached data for session_status_data\n",
      "req            INFO \tUsing cached data for track_status_data\n",
      "req            INFO \tUsing cached data for _extended_timing_data\n",
      "req            INFO \tUsing cached data for timing_app_data\n",
      "core           INFO \tProcessing timing data...\n",
      "req            INFO \tUsing cached data for car_data\n",
      "req            INFO \tUsing cached data for position_data\n",
      "req            INFO \tUsing cached data for weather_data\n",
      "req            INFO \tUsing cached data for race_control_messages\n",
      "core           INFO \tFinished loading data for 20 drivers: ['1', '2', '4', '10', '11', '14', '16', '18', '20', '22', '23', '24', '27', '31', '40', '44', '55', '63', '77', '81']\n"
     ]
    }
   ],
   "source": [
    "session = ff1.get_session(2023, 'Suzuka', 'FP3')\n",
    "session.load()"
   ]
  },
  {
   "cell_type": "code",
   "execution_count": 78,
   "metadata": {},
   "outputs": [
    {
     "data": {
      "text/plain": [
       "Index(['Time', 'Driver', 'DriverNumber', 'LapTime', 'LapNumber', 'Stint',\n",
       "       'PitOutTime', 'PitInTime', 'Sector1Time', 'Sector2Time', 'Sector3Time',\n",
       "       'Sector1SessionTime', 'Sector2SessionTime', 'Sector3SessionTime',\n",
       "       'SpeedI1', 'SpeedI2', 'SpeedFL', 'SpeedST', 'IsPersonalBest',\n",
       "       'Compound', 'TyreLife', 'FreshTyre', 'Team', 'LapStartTime',\n",
       "       'LapStartDate', 'TrackStatus', 'Position', 'Deleted', 'DeletedReason',\n",
       "       'FastF1Generated', 'IsAccurate'],\n",
       "      dtype='object')"
      ]
     },
     "execution_count": 78,
     "metadata": {},
     "output_type": "execute_result"
    }
   ],
   "source": [
    "session.laps.base_class_view.columns"
   ]
  },
  {
   "cell_type": "code",
   "execution_count": 79,
   "metadata": {},
   "outputs": [],
   "source": [
    "df = session.laps.base_class_view[['Driver','Team', 'LapTime', 'LapNumber', 'Stint','Compound', 'TyreLife']]\n",
    "df['LapTime_seconds'] = df['LapTime'].dt.total_seconds()\n",
    "avg_times = df.groupby('Driver')['LapTime_seconds'].mean().sort_values()\n",
    "\n",
    "df['stint_compound']= df['Compound'] + '_' +df['Stint'].astype('str')\n",
    "df = df.sort_values(by=['Stint'])\n",
    "colors = {}\n",
    "for sint_compound in df['stint_compound'].unique():\n",
    "    if 'HARD' in sint_compound:\n",
    "        colors[sint_compound] = 'black'\n",
    "    if 'MEDIUM' in sint_compound:\n",
    "        colors[sint_compound] = 'yellow'\n",
    "    if 'SOFT' in sint_compound:\n",
    "        colors[sint_compound] = 'red'\n"
   ]
  },
  {
   "cell_type": "code",
   "execution_count": 81,
   "metadata": {},
   "outputs": [
    {
     "data": {
      "application/vnd.plotly.v1+json": {
       "config": {
        "plotlyServerURL": "https://plot.ly"
       },
       "data": [
        {
         "alignmentgroup": "True",
         "boxpoints": "all",
         "hovertemplate": "stint_compound=SOFT_1.0<br>Driver=%{x}<br>Lap Time (seconds)=%{y}<extra></extra>",
         "legendgroup": "SOFT_1.0",
         "marker": {
          "color": "red"
         },
         "name": "SOFT_1.0",
         "notched": false,
         "offsetgroup": "SOFT_1.0",
         "orientation": "v",
         "showlegend": true,
         "type": "box",
         "x": [
          "VER",
          "ALO",
          "ALO",
          "ALO",
          "ALO",
          "MAG",
          "RUS",
          "RUS",
          "RUS",
          "ALO",
          "PER",
          "PER",
          "PER",
          "BOT",
          "ALO",
          "MAG",
          "MAG",
          "HAM",
          "HAM",
          "HAM",
          "SAI",
          "SAI",
          "HUL",
          "LEC",
          "LEC",
          "LEC",
          "SAI",
          "MAG",
          "MAG",
          "MAG",
          "BOT",
          "BOT",
          "PIA",
          "PIA",
          "HUL",
          "SAR",
          "SAR",
          "SAR",
          "SAR",
          "NOR",
          "SAR",
          "HUL",
          "HUL",
          "HUL",
          "ZHO",
          "ZHO",
          "ZHO",
          "VER",
          "VER",
          "SAR",
          "NOR",
          "NOR",
          "GAS",
          "GAS",
          "GAS",
          "NOR",
          "OCO",
          "OCO",
          "PIA",
          "ALB",
          "ALB",
          "ALB",
          "OCO"
         ],
         "x0": " ",
         "xaxis": "x",
         "y": [
          null,
          null,
          140.438,
          92.205,
          null,
          110.403,
          null,
          91.78,
          null,
          92.228,
          136.511,
          91.782,
          null,
          null,
          104.515,
          92.264,
          148.779,
          null,
          91.77,
          null,
          null,
          92.001,
          null,
          139.151,
          91.963,
          null,
          128.394,
          null,
          92.087,
          null,
          92.677,
          144.788,
          91.891,
          116.783,
          99.536,
          120.064,
          92.899,
          134.076,
          133.047,
          null,
          92.467,
          131.512,
          null,
          92.18,
          null,
          92.48,
          null,
          123.388,
          90.96,
          null,
          91.174,
          99.648,
          144.995,
          93.074,
          null,
          131.296,
          124.76,
          92.306,
          null,
          130.959,
          92.113,
          null,
          null
         ],
         "y0": " ",
         "yaxis": "y"
        },
        {
         "alignmentgroup": "True",
         "boxpoints": "all",
         "hovertemplate": "stint_compound=MEDIUM_1.0<br>Driver=%{x}<br>Lap Time (seconds)=%{y}<extra></extra>",
         "legendgroup": "MEDIUM_1.0",
         "marker": {
          "color": "yellow"
         },
         "name": "MEDIUM_1.0",
         "notched": false,
         "offsetgroup": "MEDIUM_1.0",
         "orientation": "v",
         "showlegend": true,
         "type": "box",
         "x": [
          "LAW",
          "LAW",
          "LAW",
          "LAW",
          "TSU",
          "TSU",
          "LAW",
          "LAW",
          "LAW",
          "LAW",
          "LAW",
          "TSU",
          "TSU",
          "TSU",
          "TSU",
          "TSU",
          "TSU",
          "TSU"
         ],
         "x0": " ",
         "xaxis": "x",
         "y": [
          92.925,
          145.714,
          93.686,
          null,
          null,
          93.82,
          null,
          110.235,
          93.07,
          142.761,
          null,
          null,
          92.593,
          147.905,
          146.13,
          null,
          93.151,
          110.221
         ],
         "y0": " ",
         "yaxis": "y"
        },
        {
         "alignmentgroup": "True",
         "boxpoints": "all",
         "hovertemplate": "stint_compound=HARD_1.0<br>Driver=%{x}<br>Lap Time (seconds)=%{y}<extra></extra>",
         "legendgroup": "HARD_1.0",
         "marker": {
          "color": "black"
         },
         "name": "HARD_1.0",
         "notched": false,
         "offsetgroup": "HARD_1.0",
         "orientation": "v",
         "showlegend": true,
         "type": "box",
         "x": [
          "STR",
          "STR",
          "STR",
          "STR",
          "STR",
          "STR"
         ],
         "x0": " ",
         "xaxis": "x",
         "y": [
          93.683,
          null,
          null,
          93.003,
          112.619,
          null
         ],
         "y0": " ",
         "yaxis": "y"
        },
        {
         "alignmentgroup": "True",
         "boxpoints": "all",
         "hovertemplate": "stint_compound=SOFT_2.0<br>Driver=%{x}<br>Lap Time (seconds)=%{y}<extra></extra>",
         "legendgroup": "SOFT_2.0",
         "marker": {
          "color": "red"
         },
         "name": "SOFT_2.0",
         "notched": false,
         "offsetgroup": "SOFT_2.0",
         "orientation": "v",
         "showlegend": true,
         "type": "box",
         "x": [
          "ZHO",
          "ZHO",
          "ZHO",
          "MAG",
          "ALB",
          "ALB",
          "HUL",
          "OCO",
          "OCO",
          "OCO",
          "ALB",
          "LEC",
          "PIA",
          "GAS",
          "SAR",
          "GAS",
          "ALO",
          "PIA",
          "NOR",
          "SAR",
          "RUS",
          "PER",
          "PER",
          "RUS",
          "NOR",
          "NOR",
          "BOT",
          "PER",
          "SAR",
          "SAI",
          "SAI",
          "VER",
          "HAM",
          "HAM",
          "HAM",
          "VER",
          "VER",
          "BOT",
          "LEC",
          "BOT",
          "GAS",
          "PIA",
          "PIA",
          "PIA",
          "LEC",
          "SAI",
          "RUS"
         ],
         "x0": " ",
         "xaxis": "x",
         "y": [
          115.996,
          93.053,
          null,
          137.907,
          92.285,
          124.568,
          145.06,
          92.824,
          null,
          126.663,
          null,
          91.696,
          92.544,
          92.876,
          111.724,
          112.96,
          125.176,
          null,
          null,
          92.002,
          null,
          92.097,
          null,
          92.671,
          92.007,
          112.647,
          null,
          125.74,
          null,
          123.616,
          92.042,
          null,
          null,
          92.128,
          101.354,
          91.174,
          104.126,
          118.221,
          139.661,
          92.509,
          null,
          116.315,
          94.129,
          93.942,
          null,
          null,
          127.156
         ],
         "y0": " ",
         "yaxis": "y"
        },
        {
         "alignmentgroup": "True",
         "boxpoints": "all",
         "hovertemplate": "stint_compound=HARD_2.0<br>Driver=%{x}<br>Lap Time (seconds)=%{y}<extra></extra>",
         "legendgroup": "HARD_2.0",
         "marker": {
          "color": "black"
         },
         "name": "HARD_2.0",
         "notched": false,
         "offsetgroup": "HARD_2.0",
         "orientation": "v",
         "showlegend": true,
         "type": "box",
         "x": [
          "STR",
          "STR",
          "STR"
         ],
         "x0": " ",
         "xaxis": "x",
         "y": [
          null,
          93.179,
          107.362
         ],
         "y0": " ",
         "yaxis": "y"
        },
        {
         "alignmentgroup": "True",
         "boxpoints": "all",
         "hovertemplate": "stint_compound=MEDIUM_2.0<br>Driver=%{x}<br>Lap Time (seconds)=%{y}<extra></extra>",
         "legendgroup": "MEDIUM_2.0",
         "marker": {
          "color": "yellow"
         },
         "name": "MEDIUM_2.0",
         "notched": false,
         "offsetgroup": "MEDIUM_2.0",
         "orientation": "v",
         "showlegend": true,
         "type": "box",
         "x": [
          "LAW",
          "TSU"
         ],
         "x0": " ",
         "xaxis": "x",
         "y": [
          148.668,
          149.996
         ],
         "y0": " ",
         "yaxis": "y"
        },
        {
         "alignmentgroup": "True",
         "boxpoints": "all",
         "hovertemplate": "stint_compound=SOFT_3.0<br>Driver=%{x}<br>Lap Time (seconds)=%{y}<extra></extra>",
         "legendgroup": "SOFT_3.0",
         "marker": {
          "color": "red"
         },
         "name": "SOFT_3.0",
         "notched": false,
         "offsetgroup": "SOFT_3.0",
         "orientation": "v",
         "showlegend": true,
         "type": "box",
         "x": [
          "BOT",
          "LAW",
          "HUL",
          "HUL",
          "BOT",
          "HUL",
          "PIA",
          "PIA",
          "PIA",
          "HUL",
          "BOT",
          "RUS",
          "BOT",
          "LAW",
          "HAM",
          "HAM",
          "HAM",
          "LAW",
          "LAW",
          "LAW",
          "LAW",
          "LAW",
          "SAI",
          "SAI",
          "SAI",
          "SAI",
          "SAI",
          "SAI",
          "SAI",
          "OCO",
          "OCO",
          "OCO",
          "RUS",
          "LAW",
          "RUS",
          "BOT",
          "BOT",
          "ZHO",
          "TSU",
          "MAG",
          "NOR",
          "MAG",
          "MAG",
          "MAG",
          "ALO",
          "MAG",
          "NOR",
          "GAS",
          "GAS",
          "GAS",
          "PER",
          "NOR",
          "PER",
          "LEC",
          "LEC",
          "LEC",
          "LEC",
          "LEC",
          "ZHO",
          "LEC",
          "LEC",
          "ALO",
          "ALO",
          "ALO",
          "ALO",
          "PER",
          "NOR",
          "ALO",
          "MAG",
          "VER",
          "VER",
          "VER",
          "ZHO",
          "ALB",
          "ALB",
          "ALB",
          "TSU",
          "TSU",
          "SAR",
          "TSU",
          "TSU",
          "NOR",
          "TSU",
          "TSU",
          "TSU"
         ],
         "x0": " ",
         "xaxis": "x",
         "y": [
          123.532,
          135.901,
          null,
          91.979,
          92.279,
          null,
          null,
          90.555,
          122.632,
          103.423,
          null,
          91.505,
          91.699,
          134.128,
          null,
          91.159,
          140.868,
          92.048,
          null,
          null,
          92.449,
          null,
          null,
          96.787,
          96.968,
          96.624,
          97.075,
          97.07,
          106.825,
          127.85,
          91.924,
          null,
          null,
          144.538,
          136.72,
          null,
          null,
          null,
          null,
          91.88,
          91.663,
          92.884,
          null,
          null,
          null,
          null,
          109.355,
          null,
          92.199,
          null,
          null,
          140.836,
          91.004,
          109.155,
          96.804,
          97.169,
          96.99,
          96.342,
          91.668,
          96.091,
          null,
          null,
          91.549,
          105.802,
          92.019,
          143.95,
          90.507,
          null,
          120.231,
          null,
          90.267,
          106.484,
          null,
          122.61,
          92.504,
          null,
          130.057,
          145.832,
          131.607,
          null,
          123.325,
          null,
          91.951,
          null,
          null
         ],
         "y0": " ",
         "yaxis": "y"
        },
        {
         "alignmentgroup": "True",
         "boxpoints": "all",
         "hovertemplate": "stint_compound=HARD_3.0<br>Driver=%{x}<br>Lap Time (seconds)=%{y}<extra></extra>",
         "legendgroup": "HARD_3.0",
         "marker": {
          "color": "black"
         },
         "name": "HARD_3.0",
         "notched": false,
         "offsetgroup": "HARD_3.0",
         "orientation": "v",
         "showlegend": true,
         "type": "box",
         "x": [
          "STR"
         ],
         "x0": " ",
         "xaxis": "x",
         "y": [
          128.368
         ],
         "y0": " ",
         "yaxis": "y"
        },
        {
         "alignmentgroup": "True",
         "boxpoints": "all",
         "hovertemplate": "stint_compound=SOFT_4.0<br>Driver=%{x}<br>Lap Time (seconds)=%{y}<extra></extra>",
         "legendgroup": "SOFT_4.0",
         "marker": {
          "color": "red"
         },
         "name": "SOFT_4.0",
         "notched": false,
         "offsetgroup": "SOFT_4.0",
         "orientation": "v",
         "showlegend": true,
         "type": "box",
         "x": [
          "SAR",
          "PIA",
          "PIA",
          "BOT",
          "BOT",
          "PER",
          "SAR",
          "PER",
          "SAI",
          "VER",
          "SAI",
          "VER",
          "NOR",
          "SAI",
          "PER",
          "NOR",
          "BOT",
          "NOR",
          "GAS",
          "GAS",
          "NOR",
          "GAS",
          "SAR",
          "VER",
          "ZHO",
          "HAM",
          "ALO",
          "STR",
          "ALO",
          "OCO",
          "OCO",
          "OCO",
          "OCO",
          "MAG",
          "MAG",
          "STR",
          "MAG",
          "HUL",
          "HUL",
          "HUL",
          "ALB",
          "ALB",
          "ALB",
          "ZHO",
          "ZHO",
          "PIA",
          "STR",
          "STR",
          "STR",
          "ALO",
          "HAM",
          "HAM",
          "HAM",
          "LEC",
          "STR",
          "LEC",
          "LEC",
          "LEC",
          "PIA",
          "LEC",
          "LEC",
          "LEC"
         ],
         "x0": " ",
         "xaxis": "x",
         "y": [
          134.067,
          118.035,
          null,
          115.802,
          139.256,
          139.638,
          null,
          130.978,
          null,
          null,
          91.137,
          132.32,
          141.992,
          134.807,
          null,
          null,
          null,
          93.888,
          109.665,
          92.858,
          122.693,
          null,
          null,
          135.008,
          null,
          98.084,
          115.559,
          92.154,
          null,
          138.007,
          134.333,
          129.058,
          null,
          null,
          126.289,
          139.777,
          139.846,
          138.717,
          121.678,
          null,
          null,
          126.597,
          141.893,
          126.278,
          92.966,
          138.736,
          null,
          118.959,
          null,
          null,
          141.517,
          134.523,
          null,
          null,
          116.805,
          91.022,
          null,
          137.495,
          null,
          140.6,
          143.102,
          94.737
         ],
         "y0": " ",
         "yaxis": "y"
        },
        {
         "alignmentgroup": "True",
         "boxpoints": "all",
         "hovertemplate": "stint_compound=SOFT_5.0<br>Driver=%{x}<br>Lap Time (seconds)=%{y}<extra></extra>",
         "legendgroup": "SOFT_5.0",
         "marker": {
          "color": "red"
         },
         "name": "SOFT_5.0",
         "notched": false,
         "offsetgroup": "SOFT_5.0",
         "orientation": "v",
         "showlegend": true,
         "type": "box",
         "x": [
          "GAS",
          "GAS",
          "GAS",
          "SAI",
          "SAI",
          "SAI",
          "STR",
          "STR",
          "STR",
          "ZHO",
          "ZHO",
          "ZHO",
          "SAI"
         ],
         "x0": " ",
         "xaxis": "x",
         "y": [
          139.659,
          128.91,
          null,
          142.347,
          92.166,
          null,
          142.943,
          119.129,
          null,
          144.174,
          128.183,
          null,
          135.173
         ],
         "y0": " ",
         "yaxis": "y"
        }
       ],
       "layout": {
        "boxmode": "group",
        "legend": {
         "title": {
          "text": "stint_compound"
         },
         "tracegroupgap": 0
        },
        "template": {
         "data": {
          "bar": [
           {
            "error_x": {
             "color": "#2a3f5f"
            },
            "error_y": {
             "color": "#2a3f5f"
            },
            "marker": {
             "line": {
              "color": "#E5ECF6",
              "width": 0.5
             },
             "pattern": {
              "fillmode": "overlay",
              "size": 10,
              "solidity": 0.2
             }
            },
            "type": "bar"
           }
          ],
          "barpolar": [
           {
            "marker": {
             "line": {
              "color": "#E5ECF6",
              "width": 0.5
             },
             "pattern": {
              "fillmode": "overlay",
              "size": 10,
              "solidity": 0.2
             }
            },
            "type": "barpolar"
           }
          ],
          "carpet": [
           {
            "aaxis": {
             "endlinecolor": "#2a3f5f",
             "gridcolor": "white",
             "linecolor": "white",
             "minorgridcolor": "white",
             "startlinecolor": "#2a3f5f"
            },
            "baxis": {
             "endlinecolor": "#2a3f5f",
             "gridcolor": "white",
             "linecolor": "white",
             "minorgridcolor": "white",
             "startlinecolor": "#2a3f5f"
            },
            "type": "carpet"
           }
          ],
          "choropleth": [
           {
            "colorbar": {
             "outlinewidth": 0,
             "ticks": ""
            },
            "type": "choropleth"
           }
          ],
          "contour": [
           {
            "colorbar": {
             "outlinewidth": 0,
             "ticks": ""
            },
            "colorscale": [
             [
              0,
              "#0d0887"
             ],
             [
              0.1111111111111111,
              "#46039f"
             ],
             [
              0.2222222222222222,
              "#7201a8"
             ],
             [
              0.3333333333333333,
              "#9c179e"
             ],
             [
              0.4444444444444444,
              "#bd3786"
             ],
             [
              0.5555555555555556,
              "#d8576b"
             ],
             [
              0.6666666666666666,
              "#ed7953"
             ],
             [
              0.7777777777777778,
              "#fb9f3a"
             ],
             [
              0.8888888888888888,
              "#fdca26"
             ],
             [
              1,
              "#f0f921"
             ]
            ],
            "type": "contour"
           }
          ],
          "contourcarpet": [
           {
            "colorbar": {
             "outlinewidth": 0,
             "ticks": ""
            },
            "type": "contourcarpet"
           }
          ],
          "heatmap": [
           {
            "colorbar": {
             "outlinewidth": 0,
             "ticks": ""
            },
            "colorscale": [
             [
              0,
              "#0d0887"
             ],
             [
              0.1111111111111111,
              "#46039f"
             ],
             [
              0.2222222222222222,
              "#7201a8"
             ],
             [
              0.3333333333333333,
              "#9c179e"
             ],
             [
              0.4444444444444444,
              "#bd3786"
             ],
             [
              0.5555555555555556,
              "#d8576b"
             ],
             [
              0.6666666666666666,
              "#ed7953"
             ],
             [
              0.7777777777777778,
              "#fb9f3a"
             ],
             [
              0.8888888888888888,
              "#fdca26"
             ],
             [
              1,
              "#f0f921"
             ]
            ],
            "type": "heatmap"
           }
          ],
          "heatmapgl": [
           {
            "colorbar": {
             "outlinewidth": 0,
             "ticks": ""
            },
            "colorscale": [
             [
              0,
              "#0d0887"
             ],
             [
              0.1111111111111111,
              "#46039f"
             ],
             [
              0.2222222222222222,
              "#7201a8"
             ],
             [
              0.3333333333333333,
              "#9c179e"
             ],
             [
              0.4444444444444444,
              "#bd3786"
             ],
             [
              0.5555555555555556,
              "#d8576b"
             ],
             [
              0.6666666666666666,
              "#ed7953"
             ],
             [
              0.7777777777777778,
              "#fb9f3a"
             ],
             [
              0.8888888888888888,
              "#fdca26"
             ],
             [
              1,
              "#f0f921"
             ]
            ],
            "type": "heatmapgl"
           }
          ],
          "histogram": [
           {
            "marker": {
             "pattern": {
              "fillmode": "overlay",
              "size": 10,
              "solidity": 0.2
             }
            },
            "type": "histogram"
           }
          ],
          "histogram2d": [
           {
            "colorbar": {
             "outlinewidth": 0,
             "ticks": ""
            },
            "colorscale": [
             [
              0,
              "#0d0887"
             ],
             [
              0.1111111111111111,
              "#46039f"
             ],
             [
              0.2222222222222222,
              "#7201a8"
             ],
             [
              0.3333333333333333,
              "#9c179e"
             ],
             [
              0.4444444444444444,
              "#bd3786"
             ],
             [
              0.5555555555555556,
              "#d8576b"
             ],
             [
              0.6666666666666666,
              "#ed7953"
             ],
             [
              0.7777777777777778,
              "#fb9f3a"
             ],
             [
              0.8888888888888888,
              "#fdca26"
             ],
             [
              1,
              "#f0f921"
             ]
            ],
            "type": "histogram2d"
           }
          ],
          "histogram2dcontour": [
           {
            "colorbar": {
             "outlinewidth": 0,
             "ticks": ""
            },
            "colorscale": [
             [
              0,
              "#0d0887"
             ],
             [
              0.1111111111111111,
              "#46039f"
             ],
             [
              0.2222222222222222,
              "#7201a8"
             ],
             [
              0.3333333333333333,
              "#9c179e"
             ],
             [
              0.4444444444444444,
              "#bd3786"
             ],
             [
              0.5555555555555556,
              "#d8576b"
             ],
             [
              0.6666666666666666,
              "#ed7953"
             ],
             [
              0.7777777777777778,
              "#fb9f3a"
             ],
             [
              0.8888888888888888,
              "#fdca26"
             ],
             [
              1,
              "#f0f921"
             ]
            ],
            "type": "histogram2dcontour"
           }
          ],
          "mesh3d": [
           {
            "colorbar": {
             "outlinewidth": 0,
             "ticks": ""
            },
            "type": "mesh3d"
           }
          ],
          "parcoords": [
           {
            "line": {
             "colorbar": {
              "outlinewidth": 0,
              "ticks": ""
             }
            },
            "type": "parcoords"
           }
          ],
          "pie": [
           {
            "automargin": true,
            "type": "pie"
           }
          ],
          "scatter": [
           {
            "fillpattern": {
             "fillmode": "overlay",
             "size": 10,
             "solidity": 0.2
            },
            "type": "scatter"
           }
          ],
          "scatter3d": [
           {
            "line": {
             "colorbar": {
              "outlinewidth": 0,
              "ticks": ""
             }
            },
            "marker": {
             "colorbar": {
              "outlinewidth": 0,
              "ticks": ""
             }
            },
            "type": "scatter3d"
           }
          ],
          "scattercarpet": [
           {
            "marker": {
             "colorbar": {
              "outlinewidth": 0,
              "ticks": ""
             }
            },
            "type": "scattercarpet"
           }
          ],
          "scattergeo": [
           {
            "marker": {
             "colorbar": {
              "outlinewidth": 0,
              "ticks": ""
             }
            },
            "type": "scattergeo"
           }
          ],
          "scattergl": [
           {
            "marker": {
             "colorbar": {
              "outlinewidth": 0,
              "ticks": ""
             }
            },
            "type": "scattergl"
           }
          ],
          "scattermapbox": [
           {
            "marker": {
             "colorbar": {
              "outlinewidth": 0,
              "ticks": ""
             }
            },
            "type": "scattermapbox"
           }
          ],
          "scatterpolar": [
           {
            "marker": {
             "colorbar": {
              "outlinewidth": 0,
              "ticks": ""
             }
            },
            "type": "scatterpolar"
           }
          ],
          "scatterpolargl": [
           {
            "marker": {
             "colorbar": {
              "outlinewidth": 0,
              "ticks": ""
             }
            },
            "type": "scatterpolargl"
           }
          ],
          "scatterternary": [
           {
            "marker": {
             "colorbar": {
              "outlinewidth": 0,
              "ticks": ""
             }
            },
            "type": "scatterternary"
           }
          ],
          "surface": [
           {
            "colorbar": {
             "outlinewidth": 0,
             "ticks": ""
            },
            "colorscale": [
             [
              0,
              "#0d0887"
             ],
             [
              0.1111111111111111,
              "#46039f"
             ],
             [
              0.2222222222222222,
              "#7201a8"
             ],
             [
              0.3333333333333333,
              "#9c179e"
             ],
             [
              0.4444444444444444,
              "#bd3786"
             ],
             [
              0.5555555555555556,
              "#d8576b"
             ],
             [
              0.6666666666666666,
              "#ed7953"
             ],
             [
              0.7777777777777778,
              "#fb9f3a"
             ],
             [
              0.8888888888888888,
              "#fdca26"
             ],
             [
              1,
              "#f0f921"
             ]
            ],
            "type": "surface"
           }
          ],
          "table": [
           {
            "cells": {
             "fill": {
              "color": "#EBF0F8"
             },
             "line": {
              "color": "white"
             }
            },
            "header": {
             "fill": {
              "color": "#C8D4E3"
             },
             "line": {
              "color": "white"
             }
            },
            "type": "table"
           }
          ]
         },
         "layout": {
          "annotationdefaults": {
           "arrowcolor": "#2a3f5f",
           "arrowhead": 0,
           "arrowwidth": 1
          },
          "autotypenumbers": "strict",
          "coloraxis": {
           "colorbar": {
            "outlinewidth": 0,
            "ticks": ""
           }
          },
          "colorscale": {
           "diverging": [
            [
             0,
             "#8e0152"
            ],
            [
             0.1,
             "#c51b7d"
            ],
            [
             0.2,
             "#de77ae"
            ],
            [
             0.3,
             "#f1b6da"
            ],
            [
             0.4,
             "#fde0ef"
            ],
            [
             0.5,
             "#f7f7f7"
            ],
            [
             0.6,
             "#e6f5d0"
            ],
            [
             0.7,
             "#b8e186"
            ],
            [
             0.8,
             "#7fbc41"
            ],
            [
             0.9,
             "#4d9221"
            ],
            [
             1,
             "#276419"
            ]
           ],
           "sequential": [
            [
             0,
             "#0d0887"
            ],
            [
             0.1111111111111111,
             "#46039f"
            ],
            [
             0.2222222222222222,
             "#7201a8"
            ],
            [
             0.3333333333333333,
             "#9c179e"
            ],
            [
             0.4444444444444444,
             "#bd3786"
            ],
            [
             0.5555555555555556,
             "#d8576b"
            ],
            [
             0.6666666666666666,
             "#ed7953"
            ],
            [
             0.7777777777777778,
             "#fb9f3a"
            ],
            [
             0.8888888888888888,
             "#fdca26"
            ],
            [
             1,
             "#f0f921"
            ]
           ],
           "sequentialminus": [
            [
             0,
             "#0d0887"
            ],
            [
             0.1111111111111111,
             "#46039f"
            ],
            [
             0.2222222222222222,
             "#7201a8"
            ],
            [
             0.3333333333333333,
             "#9c179e"
            ],
            [
             0.4444444444444444,
             "#bd3786"
            ],
            [
             0.5555555555555556,
             "#d8576b"
            ],
            [
             0.6666666666666666,
             "#ed7953"
            ],
            [
             0.7777777777777778,
             "#fb9f3a"
            ],
            [
             0.8888888888888888,
             "#fdca26"
            ],
            [
             1,
             "#f0f921"
            ]
           ]
          },
          "colorway": [
           "#636efa",
           "#EF553B",
           "#00cc96",
           "#ab63fa",
           "#FFA15A",
           "#19d3f3",
           "#FF6692",
           "#B6E880",
           "#FF97FF",
           "#FECB52"
          ],
          "font": {
           "color": "#2a3f5f"
          },
          "geo": {
           "bgcolor": "white",
           "lakecolor": "white",
           "landcolor": "#E5ECF6",
           "showlakes": true,
           "showland": true,
           "subunitcolor": "white"
          },
          "hoverlabel": {
           "align": "left"
          },
          "hovermode": "closest",
          "mapbox": {
           "style": "light"
          },
          "paper_bgcolor": "white",
          "plot_bgcolor": "#E5ECF6",
          "polar": {
           "angularaxis": {
            "gridcolor": "white",
            "linecolor": "white",
            "ticks": ""
           },
           "bgcolor": "#E5ECF6",
           "radialaxis": {
            "gridcolor": "white",
            "linecolor": "white",
            "ticks": ""
           }
          },
          "scene": {
           "xaxis": {
            "backgroundcolor": "#E5ECF6",
            "gridcolor": "white",
            "gridwidth": 2,
            "linecolor": "white",
            "showbackground": true,
            "ticks": "",
            "zerolinecolor": "white"
           },
           "yaxis": {
            "backgroundcolor": "#E5ECF6",
            "gridcolor": "white",
            "gridwidth": 2,
            "linecolor": "white",
            "showbackground": true,
            "ticks": "",
            "zerolinecolor": "white"
           },
           "zaxis": {
            "backgroundcolor": "#E5ECF6",
            "gridcolor": "white",
            "gridwidth": 2,
            "linecolor": "white",
            "showbackground": true,
            "ticks": "",
            "zerolinecolor": "white"
           }
          },
          "shapedefaults": {
           "line": {
            "color": "#2a3f5f"
           }
          },
          "ternary": {
           "aaxis": {
            "gridcolor": "white",
            "linecolor": "white",
            "ticks": ""
           },
           "baxis": {
            "gridcolor": "white",
            "linecolor": "white",
            "ticks": ""
           },
           "bgcolor": "#E5ECF6",
           "caxis": {
            "gridcolor": "white",
            "linecolor": "white",
            "ticks": ""
           }
          },
          "title": {
           "x": 0.05
          },
          "xaxis": {
           "automargin": true,
           "gridcolor": "white",
           "linecolor": "white",
           "ticks": "",
           "title": {
            "standoff": 15
           },
           "zerolinecolor": "white",
           "zerolinewidth": 2
          },
          "yaxis": {
           "automargin": true,
           "gridcolor": "white",
           "linecolor": "white",
           "ticks": "",
           "title": {
            "standoff": 15
           },
           "zerolinecolor": "white",
           "zerolinewidth": 2
          }
         }
        },
        "title": {
         "text": "Boxplot of Lap Times by Driver and Stint"
        },
        "xaxis": {
         "anchor": "y",
         "categoryarray": [
          "ALO",
          "PIA",
          "RUS",
          "SAI",
          "VER",
          "NOR",
          "ZHO",
          "LEC",
          "HAM",
          "GAS",
          "BOT",
          "STR",
          "MAG",
          "ALB",
          "HUL",
          "SAR",
          "OCO",
          "LAW",
          "PER",
          "TSU"
         ],
         "categoryorder": "array",
         "domain": [
          0,
          1
         ],
         "tickangle": -45,
         "title": {
          "text": "Driver"
         }
        },
        "yaxis": {
         "anchor": "x",
         "domain": [
          0,
          1
         ],
         "title": {
          "text": "Lap Time (seconds)"
         }
        }
       }
      }
     },
     "metadata": {},
     "output_type": "display_data"
    }
   ],
   "source": [
    "import plotly.express as px\n",
    "\n",
    "# Création du boxplot avec plotly\n",
    "fig = px.box(\n",
    "    df,\n",
    "    x=\"Driver\",\n",
    "    y=\"LapTime_seconds\",\n",
    "    color=\"stint_compound\",\n",
    "    category_orders={\"Driver\": avg_times.index.tolist()},  # pour ordonner les pilotes\n",
    "    color_discrete_map=colors,  # utilisez votre dictionnaire de couleurs\n",
    "    title='Boxplot of Lap Times by Driver and Stint',\n",
    "    labels={\"LapTime_seconds\": \"Lap Time (seconds)\", \"Driver\": \"Driver\"},\n",
    "    points='all',    \n",
    "    )\n",
    "# Rotation des labels de l'axe x\n",
    "fig.update_layout(xaxis_tickangle=-45)\n",
    "\n",
    "#yaxis_range=[df['LapTime_seconds'].min(), 105]\n",
    "# Affichage du graphique\n",
    "fig.show()\n"
   ]
  },
  {
   "cell_type": "code",
   "execution_count": null,
   "metadata": {},
   "outputs": [],
   "source": []
  }
 ],
 "metadata": {
  "kernelspec": {
   "display_name": ".venv",
   "language": "python",
   "name": "python3"
  },
  "language_info": {
   "codemirror_mode": {
    "name": "ipython",
    "version": 3
   },
   "file_extension": ".py",
   "mimetype": "text/x-python",
   "name": "python",
   "nbconvert_exporter": "python",
   "pygments_lexer": "ipython3",
   "version": "3.11.3"
  },
  "orig_nbformat": 4
 },
 "nbformat": 4,
 "nbformat_minor": 2
}
